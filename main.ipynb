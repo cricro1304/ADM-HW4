{
 "cells": [
  {
   "cell_type": "markdown",
   "metadata": {},
   "source": [
    "# 1. Recommendation system"
   ]
  },
  {
   "cell_type": "code",
   "execution_count": null,
   "metadata": {},
   "outputs": [],
   "source": [
    "import pandas as pd\n",
    "import random\n",
    "from random import randint\n",
    "import numpy as np\n",
    "from sklearn.utils import shuffle\n",
    "from sklearn.metrics import jaccard_score\n",
    "#from primelibpy import Prime as p\n",
    "from sympy import primerange\n",
    "#from collections import defaultdict"
   ]
  },
  {
   "cell_type": "code",
   "execution_count": null,
   "metadata": {},
   "outputs": [],
   "source": [
    "# Read the dataset\n",
    "dataset = pd.read_csv('/content/drive/MyDrive/vodclickstream_uk_movies_03.csv')\n",
    "dataset.head()"
   ]
  },
  {
   "cell_type": "code",
   "execution_count": null,
   "metadata": {},
   "outputs": [],
   "source": [
    "# Getting around the dataset features\n",
    "dataset.info()"
   ]
  },
  {
   "cell_type": "code",
   "execution_count": null,
   "metadata": {},
   "outputs": [],
   "source": [
    "dataset = dataset.drop(dataset.loc[dataset['genres'] == 'NOT AVAILABLE'].index)"
   ]
  },
  {
   "cell_type": "code",
   "execution_count": null,
   "metadata": {},
   "outputs": [],
   "source": [
    "# Convert the 'genres' column to a list of unique genres\n",
    "user_genres = dataset.groupby('user_id')['genres'].agg(lambda x: list(set(genre.strip() for genre in \",\".join(x).split(\",\")))).reset_index()\n",
    "user_genres.head()"
   ]
  },
  {
   "cell_type": "markdown",
   "metadata": {},
   "source": [
    "### 1.1 Top 10 movies"
   ]
  },
  {
   "cell_type": "markdown",
   "metadata": {},
   "source": [
    "#### Here, we gather the title and genre of the maximum top 10 movies that each user clicked on regarding the number of clicks. At the end, we use this dataframe for recommending movies to a user to watch based on the movies clicked by similar users."
   ]
  },
  {
   "cell_type": "code",
   "execution_count": null,
   "metadata": {},
   "outputs": [],
   "source": [
    "# Count the number of clicks for each movie and user\n",
    "click_counts = dataset.groupby(['user_id', 'title','genres']).size().reset_index(name='click_count')\n",
    "\n",
    "# Sort the DataFrame by the number of clicks in descending order for each user\n",
    "sorted_df = click_counts.sort_values(by=['user_id', 'click_count'], ascending=[True, False])\n",
    "\n",
    "# Select the top 10 movies for each user\n",
    "top_10_movies = sorted_df.groupby('user_id').head(10)\n",
    "top_10_movies.head(10)"
   ]
  },
  {
   "cell_type": "markdown",
   "metadata": {},
   "source": [
    "### 1.2 Minhash Signatures"
   ]
  },
  {
   "cell_type": "markdown",
   "metadata": {},
   "source": [
    "#### Here, we used the genre and user_ids columns to implement our min-hash signatures so that users with similar interests in a genre appear in the same bucket. First thing first, we created a set containing all unique genres."
   ]
  },
  {
   "cell_type": "code",
   "execution_count": null,
   "metadata": {},
   "outputs": [],
   "source": [
    "# Convert our doc to sets of shingles\n",
    "# Since we are dealing with movie titles only, we do not need to deal with punctuation, stopwords, and lowercase/uppercase characters\n",
    "all_shingles = set()\n",
    "user_genres['genres'].apply(lambda row: [all_shingles.add(value) for value in row])"
   ]
  },
  {
   "cell_type": "code",
   "execution_count": null,
   "metadata": {},
   "outputs": [],
   "source": [
    "len(all_shingles)"
   ]
  },
  {
   "cell_type": "markdown",
   "metadata": {},
   "source": [
    "#### Using the all_shingles set, we compare each user's favorite generes to this set, and create a binary matrix with 1 indicating a genre exists in the user's genre column. The matrix is saved in 'sparse_sig' column for each user."
   ]
  },
  {
   "cell_type": "code",
   "execution_count": null,
   "metadata": {},
   "outputs": [],
   "source": [
    "# Create a binary matrix by comparing user genres with all unique genres\n",
    "# This will create the k-shingle matrix representing our document by its substrings (a.k.a genres)\n",
    "user_genres[\"sparse_sig\"] = user_genres[\"genres\"].apply(lambda genres: [1 if genre in genres else 0 for genre in all_shingles])"
   ]
  },
  {
   "cell_type": "markdown",
   "metadata": {},
   "source": [
    "#### Now it's time to to calculate the signature value from the binary matrix for each user. We chose a hash function that hashes row numbers (index), and use it inside our minhash_signature function to compute minhash values. For further details on how these functions work, please refer to the functions' docstrings and comments in the Functions.py file.\n",
    "\n",
    "#### As stated on the reference book chapter, the larger the signatures the more accurate the estimates for signature will be. Also, considering that we have 26 shingles (genres), using try and error method we found that 15 can be a reasonable number for the lenght of the signature. So, we defined 15 as the numbers of hashes (a.k.a number of hash functions) for minhash_signature function."
   ]
  },
  {
   "cell_type": "code",
   "execution_count": null,
   "metadata": {},
   "outputs": [],
   "source": [
    "num_hashes = 15\n",
    "\n",
    "# Create minhash signatures for each user\n",
    "user_genres['signature'] = user_genres.apply(lambda row: minhash_signature(row['sparse_sig'], num_hashes), axis=1)"
   ]
  },
  {
   "cell_type": "code",
   "execution_count": null,
   "metadata": {},
   "outputs": [],
   "source": [
    "user_genres.head()"
   ]
  },
  {
   "cell_type": "code",
   "execution_count": null,
   "metadata": {},
   "outputs": [],
   "source": [
    "# The lenght of the signature should be equal to the number of hashes\n",
    "len(user_genres['signature'][0]) == num_hashes"
   ]
  },
  {
   "cell_type": "markdown",
   "metadata": {},
   "source": [
    "#### Now that we have minhash signatures for the users, an effective way to choose the hashings is to divide the signature matrix into b bands consisting of r rows (reference chapter). As the reference book stated, we can use the same hash function for all the bands, but we use a separate bucket array for each band, so columns with the same vector in different bands will not hash to the same bucket. So, we divided (group) the signatures, defined another hash function based on the previous one and use it inside our create_bucket function to map the signature of each group of rows to a bucket. Again, for further details on the implementation of these functions,please refer to the the corresponding docstrings and comments in the Functions.py file."
   ]
  },
  {
   "cell_type": "code",
   "execution_count": null,
   "metadata": {},
   "outputs": [],
   "source": [
    "# Apply create_buckets function to the dataframe and save the results in a new column 'bucket'\n",
    "user_genres['bucket'] = user_genres['signature'].apply(lambda row: create_buckets(row, num_bands=3))"
   ]
  },
  {
   "cell_type": "code",
   "execution_count": null,
   "metadata": {},
   "outputs": [],
   "source": [
    "user_genres.head()"
   ]
  },
  {
   "cell_type": "markdown",
   "metadata": {},
   "source": [
    "### 1.3 Locality-Sensitive Hashing (LSH)"
   ]
  },
  {
   "cell_type": "markdown",
   "metadata": {},
   "source": [
    "#### Now that we found out which user appeared in which buckets, we try to implement LSH by recommending at most five movies to a user to watch based on the movies clicked by similar users. As we were asked to follow this procedure:\n",
    "\n",
    "- Identify the two most similar users to this user.\n",
    "- If these two users have any movies in common, recommend those movies based on the total number of clicks by these users.\n",
    "- If there are no more common movies, try to propose the most clicked movies by the most similar user first, followed by the other user.\n",
    "\n",
    "#### In order to follow this procedure, we created three functions. First, we defined compute_jaccard_similarity to calculate the Jaccard Similarity between given two users using the values of their buckets. This function (or better to say the returned jaccard similarity score between two users) is used inside the next function,find_similar_users, to find similar users to the given one. This function takes a threshold to decide whether two users can be assumed similar or not. Again, by consulting the reference, an approximation to this threshold is calculated by this term (1/b)**1/r. Given that we chose r=3 (num_bands in previous stage) and b=5 (lenght of the buckets), threshould = 0.58. Note that for the ease of coding, we pass the buckets to this function in the form of a dictionary with users as keys and their bucket as the corresponding values."
   ]
  },
  {
   "cell_type": "code",
   "execution_count": null,
   "metadata": {},
   "outputs": [],
   "source": [
    "sample_user_id = '0ff9087f44'\n",
    "\n",
    "# Call the find_similar_users function for the sample user_id\n",
    "similar_users = find_similar_users(sample_user_id, user_genres.set_index('user_id')['bucket'].to_dict(), threshold=0.5)\n",
    "\n",
    "# Display similar users and their Jaccard similarity scores\n",
    "print(f\"Similar users for user {sample_user_id}:\")\n",
    "for user, similarity in similar_users[:5]:\n",
    "    print(f\"{user}: Jaccard Similarity = {similarity}\")"
   ]
  },
  {
   "cell_type": "markdown",
   "metadata": {},
   "source": [
    "#### Finally, the third function, recommend_movies, is defined which given a user id and their most similar users, grabs their most clicked (favorite) movies from the top_10_movies dataset created at the beginning of this notebook, and recommends at most five movies (in a descending order based on clicks number by similar users). Please refer to the functions docstrings and comments for further details on how they work."
   ]
  },
  {
   "cell_type": "code",
   "execution_count": null,
   "metadata": {},
   "outputs": [],
   "source": [
    "sample_user_id = '0ff9087f44'\n",
    "\n",
    "# Call the find_similar_users function for the sample user_id\n",
    "similar_users = find_similar_users(sample_user_id, user_genres.set_index('user_id')['bucket'].to_dict(), threshold=0.2)\n",
    "\n",
    "# Call the recommend_movies function for the sample user_id using similar_users\n",
    "recommended_movies = recommend_movies(sample_user_id, similar_users, top_10_movies, num_recommendations=5)\n",
    "\n",
    "# Display similar users and their Jaccard similarity scores\n",
    "print(f\"Similar users for user {sample_user_id}:\")\n",
    "for user, similarity in similar_users[0:2]:\n",
    "    print(f\"{user}: Jaccard Similarity = {similarity}\")\n",
    "\n",
    "# Display recommended movies\n",
    "print(f\"Recommended movies for user {sample_user_id}:\")\n",
    "print(recommended_movies)"
   ]
  },
  {
   "cell_type": "markdown",
   "metadata": {},
   "source": [
    "# 2. Grouping Users together!\n"
   ]
  },
  {
   "cell_type": "code",
   "execution_count": 1,
   "metadata": {},
   "outputs": [],
   "source": [
    "# Libraries\n",
    "import pandas as pd\n",
    "from collections import Counter\n",
    "from functools import reduce\n",
    "import numpy as np\n",
    "from ast import literal_eval  # Import literal_eval to safely evaluate string representation of lists\n",
    "from sklearn.impute import SimpleImputer\n",
    "import sklearn\n",
    "from sklearn.decomposition import PCA\n",
    "from sklearn.impute import SimpleImputer\n",
    "from sklearn.preprocessing import StandardScaler, LabelEncoder, MinMaxScaler\n",
    "\n",
    "# Data processing \n",
    "import pandas as pd\n",
    "import numpy as np\n",
    "\n",
    "\n",
    "\n",
    "# Visualization\n",
    "import matplotlib.pyplot as plt\n",
    "import seaborn as sns\n",
    "\n",
    "# Modeling\n",
    "from sklearn.cluster import KMeans\n",
    "import scipy.cluster.hierarchy as hier\n",
    "from sklearn.mixture import GaussianMixture\n",
    "\n",
    "import warnings\n",
    "\n",
    "# Suppress FutureWarnings\n",
    "warnings.filterwarnings(\"ignore\", category=FutureWarning)\n"
   ]
  },
  {
   "cell_type": "markdown",
   "metadata": {},
   "source": [
    "Now, we will deal with clustering algorithms that will provide groups of Netflix users that are similar among them.\n",
    "\n",
    "To solve this task, you must accomplish the following stages:\n",
    "\n",
    "## 2.1 Getting your data + feature engineering\n"
   ]
  },
  {
   "cell_type": "markdown",
   "metadata": {},
   "source": [
    "### 1. Access to the data found in this dataset\n",
    "\n"
   ]
  },
  {
   "cell_type": "code",
   "execution_count": 2,
   "metadata": {},
   "outputs": [],
   "source": [
    "# Load data\n",
    "data = pd.read_csv(\"vodclickstream_uk_movies_03.csv\")\n",
    "not_clean = data"
   ]
  },
  {
   "cell_type": "code",
   "execution_count": 538,
   "metadata": {},
   "outputs": [
    {
     "data": {
      "text/html": [
       "<div>\n",
       "<style scoped>\n",
       "    .dataframe tbody tr th:only-of-type {\n",
       "        vertical-align: middle;\n",
       "    }\n",
       "\n",
       "    .dataframe tbody tr th {\n",
       "        vertical-align: top;\n",
       "    }\n",
       "\n",
       "    .dataframe thead th {\n",
       "        text-align: right;\n",
       "    }\n",
       "</style>\n",
       "<table border=\"1\" class=\"dataframe\">\n",
       "  <thead>\n",
       "    <tr style=\"text-align: right;\">\n",
       "      <th></th>\n",
       "      <th>Unnamed: 0</th>\n",
       "      <th>datetime</th>\n",
       "      <th>duration</th>\n",
       "      <th>title</th>\n",
       "      <th>genres</th>\n",
       "      <th>release_date</th>\n",
       "      <th>movie_id</th>\n",
       "      <th>user_id</th>\n",
       "    </tr>\n",
       "  </thead>\n",
       "  <tbody>\n",
       "    <tr>\n",
       "      <th>0</th>\n",
       "      <td>58773</td>\n",
       "      <td>2017-01-01 01:15:09</td>\n",
       "      <td>0.0</td>\n",
       "      <td>Angus, Thongs and Perfect Snogging</td>\n",
       "      <td>Comedy, Drama, Romance</td>\n",
       "      <td>2008-07-25</td>\n",
       "      <td>26bd5987e8</td>\n",
       "      <td>1dea19f6fe</td>\n",
       "    </tr>\n",
       "    <tr>\n",
       "      <th>1</th>\n",
       "      <td>58774</td>\n",
       "      <td>2017-01-01 13:56:02</td>\n",
       "      <td>0.0</td>\n",
       "      <td>The Curse of Sleeping Beauty</td>\n",
       "      <td>Fantasy, Horror, Mystery, Thriller</td>\n",
       "      <td>2016-06-02</td>\n",
       "      <td>f26ed2675e</td>\n",
       "      <td>544dcbc510</td>\n",
       "    </tr>\n",
       "    <tr>\n",
       "      <th>2</th>\n",
       "      <td>58775</td>\n",
       "      <td>2017-01-01 15:17:47</td>\n",
       "      <td>10530.0</td>\n",
       "      <td>London Has Fallen</td>\n",
       "      <td>Action, Thriller</td>\n",
       "      <td>2016-03-04</td>\n",
       "      <td>f77e500e7a</td>\n",
       "      <td>7cbcc791bf</td>\n",
       "    </tr>\n",
       "    <tr>\n",
       "      <th>3</th>\n",
       "      <td>58776</td>\n",
       "      <td>2017-01-01 16:04:13</td>\n",
       "      <td>49.0</td>\n",
       "      <td>Vendetta</td>\n",
       "      <td>Action, Drama</td>\n",
       "      <td>2015-06-12</td>\n",
       "      <td>c74aec7673</td>\n",
       "      <td>ebf43c36b6</td>\n",
       "    </tr>\n",
       "    <tr>\n",
       "      <th>4</th>\n",
       "      <td>58777</td>\n",
       "      <td>2017-01-01 19:16:37</td>\n",
       "      <td>0.0</td>\n",
       "      <td>The SpongeBob SquarePants Movie</td>\n",
       "      <td>Animation, Action, Adventure, Comedy, Family, ...</td>\n",
       "      <td>2004-11-19</td>\n",
       "      <td>a80d6fc2aa</td>\n",
       "      <td>a57c992287</td>\n",
       "    </tr>\n",
       "  </tbody>\n",
       "</table>\n",
       "</div>"
      ],
      "text/plain": [
       "   Unnamed: 0             datetime  duration  \\\n",
       "0       58773  2017-01-01 01:15:09       0.0   \n",
       "1       58774  2017-01-01 13:56:02       0.0   \n",
       "2       58775  2017-01-01 15:17:47   10530.0   \n",
       "3       58776  2017-01-01 16:04:13      49.0   \n",
       "4       58777  2017-01-01 19:16:37       0.0   \n",
       "\n",
       "                                title  \\\n",
       "0  Angus, Thongs and Perfect Snogging   \n",
       "1        The Curse of Sleeping Beauty   \n",
       "2                   London Has Fallen   \n",
       "3                            Vendetta   \n",
       "4     The SpongeBob SquarePants Movie   \n",
       "\n",
       "                                              genres release_date    movie_id  \\\n",
       "0                             Comedy, Drama, Romance   2008-07-25  26bd5987e8   \n",
       "1                 Fantasy, Horror, Mystery, Thriller   2016-06-02  f26ed2675e   \n",
       "2                                   Action, Thriller   2016-03-04  f77e500e7a   \n",
       "3                                      Action, Drama   2015-06-12  c74aec7673   \n",
       "4  Animation, Action, Adventure, Comedy, Family, ...   2004-11-19  a80d6fc2aa   \n",
       "\n",
       "      user_id  \n",
       "0  1dea19f6fe  \n",
       "1  544dcbc510  \n",
       "2  7cbcc791bf  \n",
       "3  ebf43c36b6  \n",
       "4  a57c992287  "
      ]
     },
     "execution_count": 538,
     "metadata": {},
     "output_type": "execute_result"
    }
   ],
   "source": [
    "not_clean.head()"
   ]
  },
  {
   "cell_type": "code",
   "execution_count": 3,
   "metadata": {},
   "outputs": [],
   "source": [
    "# Cleaning data and adding needed columns\n",
    "\n",
    "# Remove useless column \"Unnamed: 0\"\n",
    "data = data.drop(\"Unnamed: 0\", axis=1)\n",
    "\n",
    "data[\"genres\"] = data[\"genres\"].apply(lambda x: x.split(\", \"))\n",
    "\n",
    "data.drop(data[data[\"duration\"] < 0].index, inplace = True)\n",
    "\n",
    "data[\"datetime\"] = pd.to_datetime(data[\"datetime\"], errors = 'coerce')\n",
    "data[\"release_date\"] = pd.to_datetime(data[\"release_date\"], errors = 'coerce')"
   ]
  },
  {
   "cell_type": "code",
   "execution_count": 4,
   "metadata": {},
   "outputs": [
    {
     "data": {
      "text/html": [
       "<div>\n",
       "<style scoped>\n",
       "    .dataframe tbody tr th:only-of-type {\n",
       "        vertical-align: middle;\n",
       "    }\n",
       "\n",
       "    .dataframe tbody tr th {\n",
       "        vertical-align: top;\n",
       "    }\n",
       "\n",
       "    .dataframe thead th {\n",
       "        text-align: right;\n",
       "    }\n",
       "</style>\n",
       "<table border=\"1\" class=\"dataframe\">\n",
       "  <thead>\n",
       "    <tr style=\"text-align: right;\">\n",
       "      <th></th>\n",
       "      <th>datetime</th>\n",
       "      <th>duration</th>\n",
       "      <th>title</th>\n",
       "      <th>genres</th>\n",
       "      <th>release_date</th>\n",
       "      <th>movie_id</th>\n",
       "      <th>user_id</th>\n",
       "    </tr>\n",
       "  </thead>\n",
       "  <tbody>\n",
       "    <tr>\n",
       "      <th>0</th>\n",
       "      <td>2017-01-01 01:15:09</td>\n",
       "      <td>0.0</td>\n",
       "      <td>Angus, Thongs and Perfect Snogging</td>\n",
       "      <td>[Comedy, Drama, Romance]</td>\n",
       "      <td>2008-07-25</td>\n",
       "      <td>26bd5987e8</td>\n",
       "      <td>1dea19f6fe</td>\n",
       "    </tr>\n",
       "    <tr>\n",
       "      <th>1</th>\n",
       "      <td>2017-01-01 13:56:02</td>\n",
       "      <td>0.0</td>\n",
       "      <td>The Curse of Sleeping Beauty</td>\n",
       "      <td>[Fantasy, Horror, Mystery, Thriller]</td>\n",
       "      <td>2016-06-02</td>\n",
       "      <td>f26ed2675e</td>\n",
       "      <td>544dcbc510</td>\n",
       "    </tr>\n",
       "    <tr>\n",
       "      <th>2</th>\n",
       "      <td>2017-01-01 15:17:47</td>\n",
       "      <td>10530.0</td>\n",
       "      <td>London Has Fallen</td>\n",
       "      <td>[Action, Thriller]</td>\n",
       "      <td>2016-03-04</td>\n",
       "      <td>f77e500e7a</td>\n",
       "      <td>7cbcc791bf</td>\n",
       "    </tr>\n",
       "    <tr>\n",
       "      <th>3</th>\n",
       "      <td>2017-01-01 16:04:13</td>\n",
       "      <td>49.0</td>\n",
       "      <td>Vendetta</td>\n",
       "      <td>[Action, Drama]</td>\n",
       "      <td>2015-06-12</td>\n",
       "      <td>c74aec7673</td>\n",
       "      <td>ebf43c36b6</td>\n",
       "    </tr>\n",
       "    <tr>\n",
       "      <th>4</th>\n",
       "      <td>2017-01-01 19:16:37</td>\n",
       "      <td>0.0</td>\n",
       "      <td>The SpongeBob SquarePants Movie</td>\n",
       "      <td>[Animation, Action, Adventure, Comedy, Family,...</td>\n",
       "      <td>2004-11-19</td>\n",
       "      <td>a80d6fc2aa</td>\n",
       "      <td>a57c992287</td>\n",
       "    </tr>\n",
       "    <tr>\n",
       "      <th>5</th>\n",
       "      <td>2017-01-01 19:21:37</td>\n",
       "      <td>0.0</td>\n",
       "      <td>London Has Fallen</td>\n",
       "      <td>[Action, Thriller]</td>\n",
       "      <td>2016-03-04</td>\n",
       "      <td>f77e500e7a</td>\n",
       "      <td>c5bf4f3f57</td>\n",
       "    </tr>\n",
       "    <tr>\n",
       "      <th>6</th>\n",
       "      <td>2017-01-01 19:43:06</td>\n",
       "      <td>4903.0</td>\n",
       "      <td>The Water Diviner</td>\n",
       "      <td>[Drama, History, War]</td>\n",
       "      <td>2014-12-26</td>\n",
       "      <td>7165c2fc94</td>\n",
       "      <td>8e1be40e32</td>\n",
       "    </tr>\n",
       "    <tr>\n",
       "      <th>7</th>\n",
       "      <td>2017-01-01 19:44:38</td>\n",
       "      <td>0.0</td>\n",
       "      <td>Angel of Christmas</td>\n",
       "      <td>[Comedy, Romance]</td>\n",
       "      <td>2015-11-29</td>\n",
       "      <td>b2f02f2689</td>\n",
       "      <td>892a51dee1</td>\n",
       "    </tr>\n",
       "    <tr>\n",
       "      <th>8</th>\n",
       "      <td>2017-01-01 19:46:24</td>\n",
       "      <td>3845.0</td>\n",
       "      <td>Ratter</td>\n",
       "      <td>[Drama, Horror, Thriller]</td>\n",
       "      <td>2016-02-12</td>\n",
       "      <td>c39aae36c3</td>\n",
       "      <td>cff8ea652a</td>\n",
       "    </tr>\n",
       "    <tr>\n",
       "      <th>9</th>\n",
       "      <td>2017-01-01 20:27:04</td>\n",
       "      <td>0.0</td>\n",
       "      <td>The Book of Life</td>\n",
       "      <td>[Animation, Adventure, Comedy, Family, Fantasy...</td>\n",
       "      <td>2014-10-17</td>\n",
       "      <td>97183b9136</td>\n",
       "      <td>bf53608c70</td>\n",
       "    </tr>\n",
       "  </tbody>\n",
       "</table>\n",
       "</div>"
      ],
      "text/plain": [
       "             datetime  duration                               title  \\\n",
       "0 2017-01-01 01:15:09       0.0  Angus, Thongs and Perfect Snogging   \n",
       "1 2017-01-01 13:56:02       0.0        The Curse of Sleeping Beauty   \n",
       "2 2017-01-01 15:17:47   10530.0                   London Has Fallen   \n",
       "3 2017-01-01 16:04:13      49.0                            Vendetta   \n",
       "4 2017-01-01 19:16:37       0.0     The SpongeBob SquarePants Movie   \n",
       "5 2017-01-01 19:21:37       0.0                   London Has Fallen   \n",
       "6 2017-01-01 19:43:06    4903.0                   The Water Diviner   \n",
       "7 2017-01-01 19:44:38       0.0                  Angel of Christmas   \n",
       "8 2017-01-01 19:46:24    3845.0                              Ratter   \n",
       "9 2017-01-01 20:27:04       0.0                    The Book of Life   \n",
       "\n",
       "                                              genres release_date    movie_id  \\\n",
       "0                           [Comedy, Drama, Romance]   2008-07-25  26bd5987e8   \n",
       "1               [Fantasy, Horror, Mystery, Thriller]   2016-06-02  f26ed2675e   \n",
       "2                                 [Action, Thriller]   2016-03-04  f77e500e7a   \n",
       "3                                    [Action, Drama]   2015-06-12  c74aec7673   \n",
       "4  [Animation, Action, Adventure, Comedy, Family,...   2004-11-19  a80d6fc2aa   \n",
       "5                                 [Action, Thriller]   2016-03-04  f77e500e7a   \n",
       "6                              [Drama, History, War]   2014-12-26  7165c2fc94   \n",
       "7                                  [Comedy, Romance]   2015-11-29  b2f02f2689   \n",
       "8                          [Drama, Horror, Thriller]   2016-02-12  c39aae36c3   \n",
       "9  [Animation, Adventure, Comedy, Family, Fantasy...   2014-10-17  97183b9136   \n",
       "\n",
       "      user_id  \n",
       "0  1dea19f6fe  \n",
       "1  544dcbc510  \n",
       "2  7cbcc791bf  \n",
       "3  ebf43c36b6  \n",
       "4  a57c992287  \n",
       "5  c5bf4f3f57  \n",
       "6  8e1be40e32  \n",
       "7  892a51dee1  \n",
       "8  cff8ea652a  \n",
       "9  bf53608c70  "
      ]
     },
     "execution_count": 4,
     "metadata": {},
     "output_type": "execute_result"
    }
   ],
   "source": [
    "# Show clean_data df\n",
    "data.head(10)"
   ]
  },
  {
   "cell_type": "markdown",
   "metadata": {},
   "source": [
    "\n",
    "### 2. Feature Engineering (1)\n",
    "Sometimes, the features (variables, fields) are not given in a dataset but can be created from it; this is known as feature engineering. For example, the original dataset has several clicks done by the same user, so grouping data by user_id will allow you to create new features for each user:"
   ]
  },
  {
   "cell_type": "markdown",
   "metadata": {},
   "source": [
    "**a) Favorite genre**"
   ]
  },
  {
   "cell_type": "code",
   "execution_count": 5,
   "metadata": {},
   "outputs": [],
   "source": [
    "#Favorite genre (i.e., the genre on which the user spent the most time)\n",
    "def favourite_genere(df):\n",
    "    df.drop(df[df.duration == 0].index)\n",
    "    \n",
    "    # Explode the list of genres into separate rows\n",
    "    df_expanded = df.explode('genres')\n",
    "\n",
    "    # Group by 'user_id' and 'genre', summing up the 'time_spent'\n",
    "    grouped_df = df_expanded.groupby(['user_id', 'genres'])['duration'].sum().reset_index()\n",
    "\n",
    "    # Find the index of the maximum 'time_spent' for each user\n",
    "    idx = grouped_df.groupby('user_id')['duration'].idxmax()\n",
    "\n",
    "    # Create a DataFrame with only the rows corresponding to the maximum 'time_spent' for each user\n",
    "    favorite_genre_df = grouped_df.loc[idx]\n",
    "\n",
    "    # Rename columns for clarity\n",
    "    favorite_genre_df = favorite_genre_df.rename(columns={'genres': 'favorite_genre', 'duration': 'time_spent_on_favorite_genre'})\n",
    "\n",
    "    # Merge the new DataFrame back to the original DataFrame based on 'user_id'\n",
    "    df = pd.merge(df, favorite_genre_df[['user_id', 'favorite_genre']], on='user_id', how='left')\n",
    "\n",
    "    return(df)"
   ]
  },
  {
   "cell_type": "code",
   "execution_count": 6,
   "metadata": {},
   "outputs": [],
   "source": [
    "data = favourite_genere(data)"
   ]
  },
  {
   "cell_type": "markdown",
   "metadata": {},
   "source": [
    "**b) Average click duration**"
   ]
  },
  {
   "cell_type": "code",
   "execution_count": 7,
   "metadata": {},
   "outputs": [],
   "source": [
    "def avg_click_time(df):\n",
    "    average_click_time_df = df.groupby('user_id')['duration'].mean().reset_index()\n",
    "\n",
    "    # Rename the columns for clarity\n",
    "    average_click_time_df = average_click_time_df.rename(columns={'duration': 'average_click_time'})\n",
    "\n",
    "    # Merge the new DataFrame back to the original DataFrame based on 'user_id'\n",
    "    df = pd.merge(df, average_click_time_df, on='user_id', how='left')\n",
    "\n",
    "    return(df)"
   ]
  },
  {
   "cell_type": "code",
   "execution_count": 8,
   "metadata": {},
   "outputs": [],
   "source": [
    "data = avg_click_time(data)"
   ]
  },
  {
   "cell_type": "markdown",
   "metadata": {},
   "source": [
    "**c) Time of the day (Morning/Afternoon/Night) when the user spends the most time on the platform (the time spent is tracked through the duration of the clicks)**"
   ]
  },
  {
   "cell_type": "code",
   "execution_count": 10,
   "metadata": {},
   "outputs": [],
   "source": [
    "def time_day(df):\n",
    "    df['hour'] = df['datetime'].dt.hour\n",
    "    preferred_time = df.groupby('user_id')['hour'].agg(lambda x: x.mode().iloc[0])\n",
    "\n",
    "    mapping = {range(0, 6): 'Night', range(6, 12): 'Morning', range(12, 18): 'Afternoon', range(18, 24): 'Night'}\n",
    "\n",
    "    # Apply the time_of_day mapping to each user's mode hour\n",
    "    df['time_of_day'] = df['user_id'].map(preferred_time).apply(lambda x: next((value for key, value in mapping.items() if x in key), None))\n",
    "\n",
    "    #Drop unwanted columns\n",
    "    df=df.drop(columns='hour')\n",
    "    return df"
   ]
  },
  {
   "cell_type": "code",
   "execution_count": 11,
   "metadata": {},
   "outputs": [],
   "source": [
    "data = time_day(data)"
   ]
  },
  {
   "cell_type": "markdown",
   "metadata": {},
   "source": [
    "**d) Is the user an old movie lover, or is he into more recent stuff (content released after 2010)?**"
   ]
  },
  {
   "cell_type": "code",
   "execution_count": 12,
   "metadata": {},
   "outputs": [],
   "source": [
    "def movie_preference(df):\n",
    "    df['release_date'] = pd.to_datetime(df['release_date'])\n",
    "    threshold_date = pd.Timestamp('2010-01-01')\n",
    "    \n",
    "    # Function to determine movie preference for a user\n",
    "    def determine_preference(group):\n",
    "        user_release_dates = group['release_date']\n",
    "        num_old_movies = sum(date <= threshold_date for date in user_release_dates)\n",
    "        num_recent_movies = len(user_release_dates) - num_old_movies\n",
    "        \n",
    "        # Decide preference based on the majority\n",
    "        if num_recent_movies >= num_old_movies:\n",
    "            return 'Recent Content Lover'\n",
    "        else:\n",
    "            return 'Old Movie Lover'\n",
    "    \n",
    "    # Apply the function for each user\n",
    "    user_preferences = df.groupby('user_id').apply(determine_preference).reset_index(name='movie_preference')\n",
    "    \n",
    "    # Merge the result back to the original dataframe\n",
    "    df = pd.merge(df, user_preferences, on='user_id', how='left')\n",
    "    \n",
    "    return df\n"
   ]
  },
  {
   "cell_type": "code",
   "execution_count": 13,
   "metadata": {},
   "outputs": [],
   "source": [
    "data = movie_preference(data)"
   ]
  },
  {
   "cell_type": "markdown",
   "metadata": {},
   "source": [
    "**e) Average time spent a day by the user (considering only the days he logs in)**"
   ]
  },
  {
   "cell_type": "code",
   "execution_count": 14,
   "metadata": {},
   "outputs": [],
   "source": [
    "def avg_timespent(df):\n",
    "    grouped_df = df.groupby(['user_id', 'datetime'])['duration'].sum().reset_index()\n",
    "    average_duration_per_day = grouped_df.groupby('user_id')['duration'].mean().reset_index()\n",
    "    average_duration_per_day = average_duration_per_day.rename(columns={'duration': 'average_duration_per_day'})\n",
    "    df = pd.merge(df, average_duration_per_day, on='user_id', how='left')\n",
    "    return(df)"
   ]
  },
  {
   "cell_type": "code",
   "execution_count": 15,
   "metadata": {},
   "outputs": [],
   "source": [
    "data = avg_timespent(data)"
   ]
  },
  {
   "cell_type": "markdown",
   "metadata": {},
   "source": [
    "Visualize the data for a specific user"
   ]
  },
  {
   "cell_type": "code",
   "execution_count": 16,
   "metadata": {},
   "outputs": [
    {
     "data": {
      "text/html": [
       "<div>\n",
       "<style scoped>\n",
       "    .dataframe tbody tr th:only-of-type {\n",
       "        vertical-align: middle;\n",
       "    }\n",
       "\n",
       "    .dataframe tbody tr th {\n",
       "        vertical-align: top;\n",
       "    }\n",
       "\n",
       "    .dataframe thead th {\n",
       "        text-align: right;\n",
       "    }\n",
       "</style>\n",
       "<table border=\"1\" class=\"dataframe\">\n",
       "  <thead>\n",
       "    <tr style=\"text-align: right;\">\n",
       "      <th></th>\n",
       "      <th>datetime</th>\n",
       "      <th>duration</th>\n",
       "      <th>title</th>\n",
       "      <th>genres</th>\n",
       "      <th>release_date</th>\n",
       "      <th>movie_id</th>\n",
       "      <th>user_id</th>\n",
       "      <th>favorite_genre</th>\n",
       "      <th>average_click_time</th>\n",
       "      <th>time_of_day</th>\n",
       "      <th>movie_preference</th>\n",
       "      <th>average_duration_per_day</th>\n",
       "    </tr>\n",
       "  </thead>\n",
       "  <tbody>\n",
       "    <tr>\n",
       "      <th>307113</th>\n",
       "      <td>2018-03-21 20:42:47</td>\n",
       "      <td>2400.0</td>\n",
       "      <td>Wild Child</td>\n",
       "      <td>[Comedy, Drama, Romance]</td>\n",
       "      <td>2008-08-15</td>\n",
       "      <td>c424c83faf</td>\n",
       "      <td>b15926c011</td>\n",
       "      <td>Comedy</td>\n",
       "      <td>3324.693351</td>\n",
       "      <td>Night</td>\n",
       "      <td>Recent Content Lover</td>\n",
       "      <td>3324.693351</td>\n",
       "    </tr>\n",
       "    <tr>\n",
       "      <th>307136</th>\n",
       "      <td>2018-03-21 21:22:47</td>\n",
       "      <td>179456.0</td>\n",
       "      <td>Wild Child</td>\n",
       "      <td>[Comedy, Drama, Romance]</td>\n",
       "      <td>2008-08-15</td>\n",
       "      <td>c424c83faf</td>\n",
       "      <td>b15926c011</td>\n",
       "      <td>Comedy</td>\n",
       "      <td>3324.693351</td>\n",
       "      <td>Night</td>\n",
       "      <td>Recent Content Lover</td>\n",
       "      <td>3324.693351</td>\n",
       "    </tr>\n",
       "    <tr>\n",
       "      <th>307990</th>\n",
       "      <td>2018-03-23 23:15:47</td>\n",
       "      <td>1217.0</td>\n",
       "      <td>Wild Child</td>\n",
       "      <td>[Comedy, Drama, Romance]</td>\n",
       "      <td>2008-08-15</td>\n",
       "      <td>c424c83faf</td>\n",
       "      <td>b15926c011</td>\n",
       "      <td>Comedy</td>\n",
       "      <td>3324.693351</td>\n",
       "      <td>Night</td>\n",
       "      <td>Recent Content Lover</td>\n",
       "      <td>3324.693351</td>\n",
       "    </tr>\n",
       "    <tr>\n",
       "      <th>308011</th>\n",
       "      <td>2018-03-23 23:36:04</td>\n",
       "      <td>1401.0</td>\n",
       "      <td>Wild Child</td>\n",
       "      <td>[Comedy, Drama, Romance]</td>\n",
       "      <td>2008-08-15</td>\n",
       "      <td>c424c83faf</td>\n",
       "      <td>b15926c011</td>\n",
       "      <td>Comedy</td>\n",
       "      <td>3324.693351</td>\n",
       "      <td>Night</td>\n",
       "      <td>Recent Content Lover</td>\n",
       "      <td>3324.693351</td>\n",
       "    </tr>\n",
       "    <tr>\n",
       "      <th>308035</th>\n",
       "      <td>2018-03-23 23:59:25</td>\n",
       "      <td>2635.0</td>\n",
       "      <td>Wild Child</td>\n",
       "      <td>[Comedy, Drama, Romance]</td>\n",
       "      <td>2008-08-15</td>\n",
       "      <td>c424c83faf</td>\n",
       "      <td>b15926c011</td>\n",
       "      <td>Comedy</td>\n",
       "      <td>3324.693351</td>\n",
       "      <td>Night</td>\n",
       "      <td>Recent Content Lover</td>\n",
       "      <td>3324.693351</td>\n",
       "    </tr>\n",
       "    <tr>\n",
       "      <th>...</th>\n",
       "      <td>...</td>\n",
       "      <td>...</td>\n",
       "      <td>...</td>\n",
       "      <td>...</td>\n",
       "      <td>...</td>\n",
       "      <td>...</td>\n",
       "      <td>...</td>\n",
       "      <td>...</td>\n",
       "      <td>...</td>\n",
       "      <td>...</td>\n",
       "      <td>...</td>\n",
       "      <td>...</td>\n",
       "    </tr>\n",
       "    <tr>\n",
       "      <th>348142</th>\n",
       "      <td>2018-05-14 00:04:10</td>\n",
       "      <td>1444.0</td>\n",
       "      <td>Wild Child</td>\n",
       "      <td>[Comedy, Drama, Romance]</td>\n",
       "      <td>2008-08-15</td>\n",
       "      <td>c424c83faf</td>\n",
       "      <td>b15926c011</td>\n",
       "      <td>Comedy</td>\n",
       "      <td>3324.693351</td>\n",
       "      <td>Night</td>\n",
       "      <td>Recent Content Lover</td>\n",
       "      <td>3324.693351</td>\n",
       "    </tr>\n",
       "    <tr>\n",
       "      <th>348162</th>\n",
       "      <td>2018-05-14 00:28:14</td>\n",
       "      <td>546.0</td>\n",
       "      <td>Wild Child</td>\n",
       "      <td>[Comedy, Drama, Romance]</td>\n",
       "      <td>2008-08-15</td>\n",
       "      <td>c424c83faf</td>\n",
       "      <td>b15926c011</td>\n",
       "      <td>Comedy</td>\n",
       "      <td>3324.693351</td>\n",
       "      <td>Night</td>\n",
       "      <td>Recent Content Lover</td>\n",
       "      <td>3324.693351</td>\n",
       "    </tr>\n",
       "    <tr>\n",
       "      <th>348480</th>\n",
       "      <td>2018-05-15 20:36:56</td>\n",
       "      <td>46.0</td>\n",
       "      <td>Coin Heist</td>\n",
       "      <td>[Crime, Drama, Romance, Thriller]</td>\n",
       "      <td>2017-01-06</td>\n",
       "      <td>57e2731b38</td>\n",
       "      <td>b15926c011</td>\n",
       "      <td>Comedy</td>\n",
       "      <td>3324.693351</td>\n",
       "      <td>Night</td>\n",
       "      <td>Recent Content Lover</td>\n",
       "      <td>3324.693351</td>\n",
       "    </tr>\n",
       "    <tr>\n",
       "      <th>348495</th>\n",
       "      <td>2018-05-15 20:37:42</td>\n",
       "      <td>86.0</td>\n",
       "      <td>Coin Heist</td>\n",
       "      <td>[Crime, Drama, Romance, Thriller]</td>\n",
       "      <td>2017-01-06</td>\n",
       "      <td>57e2731b38</td>\n",
       "      <td>b15926c011</td>\n",
       "      <td>Comedy</td>\n",
       "      <td>3324.693351</td>\n",
       "      <td>Night</td>\n",
       "      <td>Recent Content Lover</td>\n",
       "      <td>3324.693351</td>\n",
       "    </tr>\n",
       "    <tr>\n",
       "      <th>348532</th>\n",
       "      <td>2018-05-15 20:39:18</td>\n",
       "      <td>15.0</td>\n",
       "      <td>The Kissing Booth</td>\n",
       "      <td>[Comedy, Romance]</td>\n",
       "      <td>2018-05-11</td>\n",
       "      <td>cfd5317123</td>\n",
       "      <td>b15926c011</td>\n",
       "      <td>Comedy</td>\n",
       "      <td>3324.693351</td>\n",
       "      <td>Night</td>\n",
       "      <td>Recent Content Lover</td>\n",
       "      <td>3324.693351</td>\n",
       "    </tr>\n",
       "  </tbody>\n",
       "</table>\n",
       "<p>737 rows × 12 columns</p>\n",
       "</div>"
      ],
      "text/plain": [
       "                  datetime  duration              title  \\\n",
       "307113 2018-03-21 20:42:47    2400.0         Wild Child   \n",
       "307136 2018-03-21 21:22:47  179456.0         Wild Child   \n",
       "307990 2018-03-23 23:15:47    1217.0         Wild Child   \n",
       "308011 2018-03-23 23:36:04    1401.0         Wild Child   \n",
       "308035 2018-03-23 23:59:25    2635.0         Wild Child   \n",
       "...                    ...       ...                ...   \n",
       "348142 2018-05-14 00:04:10    1444.0         Wild Child   \n",
       "348162 2018-05-14 00:28:14     546.0         Wild Child   \n",
       "348480 2018-05-15 20:36:56      46.0         Coin Heist   \n",
       "348495 2018-05-15 20:37:42      86.0         Coin Heist   \n",
       "348532 2018-05-15 20:39:18      15.0  The Kissing Booth   \n",
       "\n",
       "                                   genres release_date    movie_id  \\\n",
       "307113           [Comedy, Drama, Romance]   2008-08-15  c424c83faf   \n",
       "307136           [Comedy, Drama, Romance]   2008-08-15  c424c83faf   \n",
       "307990           [Comedy, Drama, Romance]   2008-08-15  c424c83faf   \n",
       "308011           [Comedy, Drama, Romance]   2008-08-15  c424c83faf   \n",
       "308035           [Comedy, Drama, Romance]   2008-08-15  c424c83faf   \n",
       "...                                   ...          ...         ...   \n",
       "348142           [Comedy, Drama, Romance]   2008-08-15  c424c83faf   \n",
       "348162           [Comedy, Drama, Romance]   2008-08-15  c424c83faf   \n",
       "348480  [Crime, Drama, Romance, Thriller]   2017-01-06  57e2731b38   \n",
       "348495  [Crime, Drama, Romance, Thriller]   2017-01-06  57e2731b38   \n",
       "348532                  [Comedy, Romance]   2018-05-11  cfd5317123   \n",
       "\n",
       "           user_id favorite_genre  average_click_time time_of_day  \\\n",
       "307113  b15926c011         Comedy         3324.693351       Night   \n",
       "307136  b15926c011         Comedy         3324.693351       Night   \n",
       "307990  b15926c011         Comedy         3324.693351       Night   \n",
       "308011  b15926c011         Comedy         3324.693351       Night   \n",
       "308035  b15926c011         Comedy         3324.693351       Night   \n",
       "...            ...            ...                 ...         ...   \n",
       "348142  b15926c011         Comedy         3324.693351       Night   \n",
       "348162  b15926c011         Comedy         3324.693351       Night   \n",
       "348480  b15926c011         Comedy         3324.693351       Night   \n",
       "348495  b15926c011         Comedy         3324.693351       Night   \n",
       "348532  b15926c011         Comedy         3324.693351       Night   \n",
       "\n",
       "            movie_preference  average_duration_per_day  \n",
       "307113  Recent Content Lover               3324.693351  \n",
       "307136  Recent Content Lover               3324.693351  \n",
       "307990  Recent Content Lover               3324.693351  \n",
       "308011  Recent Content Lover               3324.693351  \n",
       "308035  Recent Content Lover               3324.693351  \n",
       "...                      ...                       ...  \n",
       "348142  Recent Content Lover               3324.693351  \n",
       "348162  Recent Content Lover               3324.693351  \n",
       "348480  Recent Content Lover               3324.693351  \n",
       "348495  Recent Content Lover               3324.693351  \n",
       "348532  Recent Content Lover               3324.693351  \n",
       "\n",
       "[737 rows x 12 columns]"
      ]
     },
     "execution_count": 16,
     "metadata": {},
     "output_type": "execute_result"
    }
   ],
   "source": [
    "data[data[\"user_id\"]==\"b15926c011\"]"
   ]
  },
  {
   "cell_type": "markdown",
   "metadata": {},
   "source": [
    "### 2.2.3. With the help of ChatGPT and our imagination we thouht of 10 other features we could add to the dataset\n",
    "\n",
    "ChatGPT helped us select the following:"
   ]
  },
  {
   "cell_type": "markdown",
   "metadata": {},
   "source": [
    "**1) Ratio between number of movies on weekdays vs. weekends**"
   ]
  },
  {
   "cell_type": "code",
   "execution_count": 17,
   "metadata": {},
   "outputs": [],
   "source": [
    "def ratio_weekend_weekday(df):\n",
    "    # Create a new column indicating whether the day is a weekend or weekday\n",
    "    df['week_day'] = df['datetime'].dt.weekday.map({0: 'weekday', 1: 'weekday', 2: 'weekday', 3: 'weekday', 4: 'weekday', 5: 'weekend', 6: 'weekend'})\n",
    "\n",
    "    # Count the number of movies seen on weekends and weekdays for each user\n",
    "    movies_count = df.groupby(['user_id', 'week_day']).size().reset_index(name='count')\n",
    "\n",
    "    # Pivot the table to have 'weekday' and 'weekend' as columns\n",
    "    movies_count_pivot = movies_count.pivot(index='user_id', columns='week_day', values='count').reset_index()\n",
    "\n",
    "    # Fill NaN values with 0\n",
    "    movies_count_pivot.fillna(0, inplace=True)\n",
    "\n",
    "    # Calculate the ratio of movies seen on weekends to weekdays \n",
    "    movies_count_pivot['ratio_weekend_weekday'] = movies_count_pivot['weekend'] - movies_count_pivot['weekday']\n",
    "    \n",
    "    # Merge the ratio back to the original dataframe\n",
    "    df = pd.merge(df, movies_count_pivot[['user_id', 'ratio_weekend_weekday']], on='user_id', how='left')\n",
    "\n",
    "    # Drop intermediate columns\n",
    "    df.drop(columns=['week_day'], inplace=True)\n",
    "\n",
    "    return df\n"
   ]
  },
  {
   "cell_type": "code",
   "execution_count": 18,
   "metadata": {},
   "outputs": [],
   "source": [
    "data = ratio_weekend_weekday(data)"
   ]
  },
  {
   "cell_type": "markdown",
   "metadata": {},
   "source": [
    "**2-3) Unique Genres and Genres Diversity**\n"
   ]
  },
  {
   "cell_type": "code",
   "execution_count": 20,
   "metadata": {},
   "outputs": [],
   "source": [
    "def genere_diversity(df):\n",
    "    unique_genres = df.explode('genres').groupby('user_id')['genres'].nunique().reset_index()\n",
    "    \n",
    "    # Calculate a diversity metric (e.g., Shannon entropy) I asked how to do this to ChatGPT\n",
    "    unique_genres['genre_diversity'] = -1 * unique_genres['genres'] * \\\n",
    "    unique_genres['genres'].apply(lambda x: x / unique_genres['genres'].sum()).apply(lambda x: 0 if pd.isna(x) else x * (np.log(x) if x != 0 else 0))\n",
    "    unique_genres = unique_genres.rename(columns={'genres': 'unique_genres'})\n",
    "    df = pd.merge(df, unique_genres[['user_id', 'unique_genres']], on='user_id', how='left')\n",
    "    df = pd.merge(df, unique_genres[['user_id', 'genre_diversity']], on='user_id', how='left')\n",
    "    return(df)"
   ]
  },
  {
   "cell_type": "code",
   "execution_count": 21,
   "metadata": {},
   "outputs": [],
   "source": [
    "data = genere_diversity(data)"
   ]
  },
  {
   "cell_type": "markdown",
   "metadata": {},
   "source": [
    "**4) Number of unique shows watched**"
   ]
  },
  {
   "cell_type": "code",
   "execution_count": 22,
   "metadata": {},
   "outputs": [],
   "source": [
    "def unique_shows(df):\n",
    "    # Calculate the number of unique shows each user has watched\n",
    "    unique_movies_count = df.groupby('user_id')['movie_id'].nunique().reset_index(name='unique_shows_count')\n",
    "\n",
    "    # Merge the result back to the original dataframe\n",
    "    df = pd.merge(df, unique_movies_count, on='user_id', how='left')\n",
    "\n",
    "    return df"
   ]
  },
  {
   "cell_type": "code",
   "execution_count": 23,
   "metadata": {},
   "outputs": [],
   "source": [
    "data = unique_shows(data)"
   ]
  },
  {
   "cell_type": "markdown",
   "metadata": {},
   "source": [
    "**5) Zapping percentage**\n"
   ]
  },
  {
   "cell_type": "code",
   "execution_count": 24,
   "metadata": {},
   "outputs": [],
   "source": [
    "def zapping(df):\n",
    "    df['time_diff'] = df.groupby('user_id')['datetime'].diff()\n",
    "\n",
    "    time_threshold = pd.Timedelta('5 minutes')\n",
    "\n",
    "    # Identify zapping events based on the time threshold\n",
    "    df['zapping_event'] = (df['time_diff'] <= time_threshold) & (df['time_diff'].notna())\n",
    "\n",
    "    # Calculate the zapping percentage for each user\n",
    "    zapping_percentage = df.groupby('user_id')['zapping_event'].mean().reset_index()\n",
    "    zapping_percentage = zapping_percentage.rename(columns={'zapping_event': 'zapping_percentage'})\n",
    "\n",
    "    # Merge back to the original DataFrame based on 'user_id'\n",
    "    df = pd.merge(df, zapping_percentage, on='user_id', how='left')\n",
    "    columns_to_drop = ['zapping_event', 'time_diff']\n",
    "    df = df.drop(columns=columns_to_drop)\n",
    "    return(df)\n"
   ]
  },
  {
   "cell_type": "code",
   "execution_count": 25,
   "metadata": {},
   "outputs": [],
   "source": [
    "data = zapping(data)"
   ]
  },
  {
   "cell_type": "markdown",
   "metadata": {},
   "source": [
    "**6) Average number of shows per month**"
   ]
  },
  {
   "cell_type": "code",
   "execution_count": 26,
   "metadata": {},
   "outputs": [],
   "source": [
    "#average number of movies per month\n",
    "def avg_movies_month(df):\n",
    "    df['month'] = df['datetime'].dt.to_period('M')\n",
    "\n",
    "    # Group by user_id and month, then count the number of shows\n",
    "    average_shows_per_month = df.groupby(['user_id', 'month'])['movie_id'].count().reset_index()\n",
    "\n",
    "    # Calculate the average number of shows per month per user\n",
    "    average_shows_per_month = average_shows_per_month.groupby('user_id')['movie_id'].mean().reset_index()\n",
    "    average_shows_per_month = average_shows_per_month.rename(columns={'movie_id': 'average_movies_per_month'})\n",
    "\n",
    "    df = pd.merge(df, average_shows_per_month, on='user_id', how='left')\n",
    "    columns_to_drop = ['month']\n",
    "    df = df.drop(columns=columns_to_drop)\n",
    "    return(df)"
   ]
  },
  {
   "cell_type": "code",
   "execution_count": 27,
   "metadata": {},
   "outputs": [],
   "source": [
    "data = avg_movies_month(data)"
   ]
  },
  {
   "cell_type": "markdown",
   "metadata": {},
   "source": [
    "**7) Average time between watches**\n"
   ]
  },
  {
   "cell_type": "code",
   "execution_count": 28,
   "metadata": {},
   "outputs": [],
   "source": [
    "#time since last watch \n",
    "def average_time_between_watches(df):\n",
    "    df = df.sort_values(by=['user_id', 'datetime'])\n",
    "\n",
    "    # Calculate the time difference between consecutive rows for each user\n",
    "    df['time_since_last_watch'] = df.groupby('user_id')['datetime'].diff() / pd.Timedelta(days=1)\n",
    "\n",
    "    # Calculate the average time between watches for each user\n",
    "    df['average_time_between_watches'] = df.groupby('user_id')['time_since_last_watch'].transform('mean')\n",
    "    \n",
    "    # Drop unwanted values\n",
    "    df = df.drop(columns='time_since_last_watch')\n",
    "    \n",
    "    # Fill NaN values with the mode of the non-NaN values\n",
    "    mode_value = df['average_time_between_watches'].mode().iloc[0]\n",
    "    df['average_time_between_watches'].fillna(mode_value, inplace=True)\n",
    "\n",
    "\n",
    "    return df"
   ]
  },
  {
   "cell_type": "code",
   "execution_count": 29,
   "metadata": {},
   "outputs": [],
   "source": [
    "data = average_time_between_watches(data)"
   ]
  },
  {
   "cell_type": "markdown",
   "metadata": {},
   "source": [
    "**8) Amount of times the same user has rewatched a serie/movie**"
   ]
  },
  {
   "cell_type": "code",
   "execution_count": 30,
   "metadata": {},
   "outputs": [],
   "source": [
    "def rewatch(df):\n",
    "    # Count the number of times each movie/series has been rewatched by the same user\n",
    "    rewatch_count = df.groupby(['user_id', 'movie_id']).size().reset_index(name='rewatch_count')\n",
    "\n",
    "    #subtract one so that the first time watching doesn't count\n",
    "    rewatch_count['rewatch_count'] = rewatch_count['rewatch_count'] - 1\n",
    "    \n",
    "    # Calculate the total rewatch count for each user\n",
    "    total_rewatch_count = rewatch_count.groupby('user_id')['rewatch_count'].sum().reset_index(name='total_rewatch_count')\n",
    "\n",
    "    # Merge the total rewatch count back to the original dataframe\n",
    "    df = pd.merge(df, total_rewatch_count, on='user_id', how='left')\n",
    "\n",
    "    # Create a new column with the total rewatch count, fill NaN with 0\n",
    "    df['total_rewatch_count_user'] = df['total_rewatch_count'].fillna(0)\n",
    "\n",
    "    # Drop the intermediate total_rewatch_count column\n",
    "    df.drop(columns=['total_rewatch_count'], inplace=True)\n",
    "\n",
    "    return df\n",
    "    "
   ]
  },
  {
   "cell_type": "code",
   "execution_count": 31,
   "metadata": {},
   "outputs": [],
   "source": [
    "data = rewatch(data)"
   ]
  },
  {
   "cell_type": "markdown",
   "metadata": {},
   "source": [
    "**9) Content diversity index**"
   ]
  },
  {
   "cell_type": "code",
   "execution_count": 32,
   "metadata": {},
   "outputs": [],
   "source": [
    "def calculate_content_diversity_index(df):\n",
    "\n",
    "    exploded_genres = df.explode('genres')\n",
    "\n",
    "    # Calculate the number of unique genres each user has watched\n",
    "    unique_genres_per_user = exploded_genres.groupby('user_id')['genres'].nunique()\n",
    "\n",
    "    # Calculate the total number of unique genres in the dataset\n",
    "    total_unique_genres = exploded_genres['genres'].nunique()\n",
    "\n",
    "    # Normalizing the diversity index\n",
    "    diversity_index = unique_genres_per_user / total_unique_genres\n",
    "\n",
    "    # Map the diversity index back to the original DataFrame\n",
    "    df['content_diversity_index'] = df['user_id'].map(diversity_index)\n",
    "\n",
    "    return df"
   ]
  },
  {
   "cell_type": "code",
   "execution_count": 33,
   "metadata": {},
   "outputs": [],
   "source": [
    "data = calculate_content_diversity_index(data)"
   ]
  },
  {
   "cell_type": "markdown",
   "metadata": {},
   "source": [
    "**10) Favorite Season of the Year**"
   ]
  },
  {
   "cell_type": "code",
   "execution_count": 34,
   "metadata": {},
   "outputs": [],
   "source": [
    "# Function to assign a season to a date\n",
    "def assign_season(df):\n",
    "\n",
    "    df['month'] = df['datetime'].dt.month\n",
    "    \n",
    "    conditions = [\n",
    "    (df['month'] >= 3) & (df['month'] <= 5),\n",
    "    (df['month'] >= 6) & (df['month'] <= 8),\n",
    "    (df['month'] >= 9) & (df['month'] <= 11),\n",
    "    (df['month'] == 12) | (df['month'] <= 2),\n",
    "    ]\n",
    "\n",
    "    choices = ['Spring', 'Summer', 'Autumn', 'Winter']\n",
    "\n",
    "\n",
    "    df['season'] = np.select(conditions, choices, default='Winter')\n",
    "    \n",
    "    seasonal_viewing = df.groupby('user_id')['season'].value_counts(normalize=True).unstack(fill_value=0)\n",
    "    \n",
    "    favorite_season = seasonal_viewing.idxmax(axis=1)\n",
    "    \n",
    "    favorite_season_map = favorite_season.to_dict()\n",
    "    \n",
    "    df['favorite_season'] = df['user_id'].map(favorite_season_map)\n",
    "    \n",
    "    df = df.drop(columns=['season','month'])   \n",
    "\n",
    "    return df"
   ]
  },
  {
   "cell_type": "code",
   "execution_count": 35,
   "metadata": {},
   "outputs": [],
   "source": [
    "data = assign_season(data)"
   ]
  },
  {
   "cell_type": "markdown",
   "metadata": {},
   "source": [
    "Let's visualize the data from a random user now with the new features, to check everithing works properly"
   ]
  },
  {
   "cell_type": "code",
   "execution_count": 36,
   "metadata": {},
   "outputs": [
    {
     "data": {
      "text/html": [
       "<div>\n",
       "<style scoped>\n",
       "    .dataframe tbody tr th:only-of-type {\n",
       "        vertical-align: middle;\n",
       "    }\n",
       "\n",
       "    .dataframe tbody tr th {\n",
       "        vertical-align: top;\n",
       "    }\n",
       "\n",
       "    .dataframe thead th {\n",
       "        text-align: right;\n",
       "    }\n",
       "</style>\n",
       "<table border=\"1\" class=\"dataframe\">\n",
       "  <thead>\n",
       "    <tr style=\"text-align: right;\">\n",
       "      <th></th>\n",
       "      <th>datetime</th>\n",
       "      <th>duration</th>\n",
       "      <th>title</th>\n",
       "      <th>genres</th>\n",
       "      <th>release_date</th>\n",
       "      <th>movie_id</th>\n",
       "      <th>user_id</th>\n",
       "      <th>favorite_genre</th>\n",
       "      <th>average_click_time</th>\n",
       "      <th>time_of_day</th>\n",
       "      <th>...</th>\n",
       "      <th>ratio_weekend_weekday</th>\n",
       "      <th>unique_genres</th>\n",
       "      <th>genre_diversity</th>\n",
       "      <th>unique_shows_count</th>\n",
       "      <th>zapping_percentage</th>\n",
       "      <th>average_movies_per_month</th>\n",
       "      <th>average_time_between_watches</th>\n",
       "      <th>total_rewatch_count_user</th>\n",
       "      <th>content_diversity_index</th>\n",
       "      <th>favorite_season</th>\n",
       "    </tr>\n",
       "  </thead>\n",
       "  <tbody>\n",
       "    <tr>\n",
       "      <th>449570</th>\n",
       "      <td>2018-03-21 20:42:47</td>\n",
       "      <td>2400.0</td>\n",
       "      <td>Wild Child</td>\n",
       "      <td>[Comedy, Drama, Romance]</td>\n",
       "      <td>2008-08-15</td>\n",
       "      <td>c424c83faf</td>\n",
       "      <td>b15926c011</td>\n",
       "      <td>Comedy</td>\n",
       "      <td>3324.693351</td>\n",
       "      <td>Night</td>\n",
       "      <td>...</td>\n",
       "      <td>-89.0</td>\n",
       "      <td>18</td>\n",
       "      <td>0.004203</td>\n",
       "      <td>210</td>\n",
       "      <td>0.430122</td>\n",
       "      <td>245.666667</td>\n",
       "      <td>0.074725</td>\n",
       "      <td>527</td>\n",
       "      <td>0.666667</td>\n",
       "      <td>Spring</td>\n",
       "    </tr>\n",
       "    <tr>\n",
       "      <th>449571</th>\n",
       "      <td>2018-03-21 21:22:47</td>\n",
       "      <td>179456.0</td>\n",
       "      <td>Wild Child</td>\n",
       "      <td>[Comedy, Drama, Romance]</td>\n",
       "      <td>2008-08-15</td>\n",
       "      <td>c424c83faf</td>\n",
       "      <td>b15926c011</td>\n",
       "      <td>Comedy</td>\n",
       "      <td>3324.693351</td>\n",
       "      <td>Night</td>\n",
       "      <td>...</td>\n",
       "      <td>-89.0</td>\n",
       "      <td>18</td>\n",
       "      <td>0.004203</td>\n",
       "      <td>210</td>\n",
       "      <td>0.430122</td>\n",
       "      <td>245.666667</td>\n",
       "      <td>0.074725</td>\n",
       "      <td>527</td>\n",
       "      <td>0.666667</td>\n",
       "      <td>Spring</td>\n",
       "    </tr>\n",
       "    <tr>\n",
       "      <th>449572</th>\n",
       "      <td>2018-03-23 23:15:47</td>\n",
       "      <td>1217.0</td>\n",
       "      <td>Wild Child</td>\n",
       "      <td>[Comedy, Drama, Romance]</td>\n",
       "      <td>2008-08-15</td>\n",
       "      <td>c424c83faf</td>\n",
       "      <td>b15926c011</td>\n",
       "      <td>Comedy</td>\n",
       "      <td>3324.693351</td>\n",
       "      <td>Night</td>\n",
       "      <td>...</td>\n",
       "      <td>-89.0</td>\n",
       "      <td>18</td>\n",
       "      <td>0.004203</td>\n",
       "      <td>210</td>\n",
       "      <td>0.430122</td>\n",
       "      <td>245.666667</td>\n",
       "      <td>0.074725</td>\n",
       "      <td>527</td>\n",
       "      <td>0.666667</td>\n",
       "      <td>Spring</td>\n",
       "    </tr>\n",
       "    <tr>\n",
       "      <th>449573</th>\n",
       "      <td>2018-03-23 23:36:04</td>\n",
       "      <td>1401.0</td>\n",
       "      <td>Wild Child</td>\n",
       "      <td>[Comedy, Drama, Romance]</td>\n",
       "      <td>2008-08-15</td>\n",
       "      <td>c424c83faf</td>\n",
       "      <td>b15926c011</td>\n",
       "      <td>Comedy</td>\n",
       "      <td>3324.693351</td>\n",
       "      <td>Night</td>\n",
       "      <td>...</td>\n",
       "      <td>-89.0</td>\n",
       "      <td>18</td>\n",
       "      <td>0.004203</td>\n",
       "      <td>210</td>\n",
       "      <td>0.430122</td>\n",
       "      <td>245.666667</td>\n",
       "      <td>0.074725</td>\n",
       "      <td>527</td>\n",
       "      <td>0.666667</td>\n",
       "      <td>Spring</td>\n",
       "    </tr>\n",
       "    <tr>\n",
       "      <th>449574</th>\n",
       "      <td>2018-03-23 23:59:25</td>\n",
       "      <td>2635.0</td>\n",
       "      <td>Wild Child</td>\n",
       "      <td>[Comedy, Drama, Romance]</td>\n",
       "      <td>2008-08-15</td>\n",
       "      <td>c424c83faf</td>\n",
       "      <td>b15926c011</td>\n",
       "      <td>Comedy</td>\n",
       "      <td>3324.693351</td>\n",
       "      <td>Night</td>\n",
       "      <td>...</td>\n",
       "      <td>-89.0</td>\n",
       "      <td>18</td>\n",
       "      <td>0.004203</td>\n",
       "      <td>210</td>\n",
       "      <td>0.430122</td>\n",
       "      <td>245.666667</td>\n",
       "      <td>0.074725</td>\n",
       "      <td>527</td>\n",
       "      <td>0.666667</td>\n",
       "      <td>Spring</td>\n",
       "    </tr>\n",
       "    <tr>\n",
       "      <th>...</th>\n",
       "      <td>...</td>\n",
       "      <td>...</td>\n",
       "      <td>...</td>\n",
       "      <td>...</td>\n",
       "      <td>...</td>\n",
       "      <td>...</td>\n",
       "      <td>...</td>\n",
       "      <td>...</td>\n",
       "      <td>...</td>\n",
       "      <td>...</td>\n",
       "      <td>...</td>\n",
       "      <td>...</td>\n",
       "      <td>...</td>\n",
       "      <td>...</td>\n",
       "      <td>...</td>\n",
       "      <td>...</td>\n",
       "      <td>...</td>\n",
       "      <td>...</td>\n",
       "      <td>...</td>\n",
       "      <td>...</td>\n",
       "      <td>...</td>\n",
       "    </tr>\n",
       "    <tr>\n",
       "      <th>450302</th>\n",
       "      <td>2018-05-14 20:21:55</td>\n",
       "      <td>28.0</td>\n",
       "      <td>The Outcasts</td>\n",
       "      <td>[Comedy]</td>\n",
       "      <td>2017-04-14</td>\n",
       "      <td>c72e35ec62</td>\n",
       "      <td>b15926c011</td>\n",
       "      <td>Comedy</td>\n",
       "      <td>3324.693351</td>\n",
       "      <td>Night</td>\n",
       "      <td>...</td>\n",
       "      <td>-89.0</td>\n",
       "      <td>18</td>\n",
       "      <td>0.004203</td>\n",
       "      <td>210</td>\n",
       "      <td>0.430122</td>\n",
       "      <td>245.666667</td>\n",
       "      <td>0.074725</td>\n",
       "      <td>527</td>\n",
       "      <td>0.666667</td>\n",
       "      <td>Spring</td>\n",
       "    </tr>\n",
       "    <tr>\n",
       "      <th>450303</th>\n",
       "      <td>2018-05-14 21:37:25</td>\n",
       "      <td>475.0</td>\n",
       "      <td>Audrie &amp; Daisy</td>\n",
       "      <td>[Documentary]</td>\n",
       "      <td>2016-09-23</td>\n",
       "      <td>e52ac4e2fa</td>\n",
       "      <td>b15926c011</td>\n",
       "      <td>Comedy</td>\n",
       "      <td>3324.693351</td>\n",
       "      <td>Night</td>\n",
       "      <td>...</td>\n",
       "      <td>-89.0</td>\n",
       "      <td>18</td>\n",
       "      <td>0.004203</td>\n",
       "      <td>210</td>\n",
       "      <td>0.430122</td>\n",
       "      <td>245.666667</td>\n",
       "      <td>0.074725</td>\n",
       "      <td>527</td>\n",
       "      <td>0.666667</td>\n",
       "      <td>Spring</td>\n",
       "    </tr>\n",
       "    <tr>\n",
       "      <th>450304</th>\n",
       "      <td>2018-05-15 20:36:56</td>\n",
       "      <td>46.0</td>\n",
       "      <td>Coin Heist</td>\n",
       "      <td>[Crime, Drama, Romance, Thriller]</td>\n",
       "      <td>2017-01-06</td>\n",
       "      <td>57e2731b38</td>\n",
       "      <td>b15926c011</td>\n",
       "      <td>Comedy</td>\n",
       "      <td>3324.693351</td>\n",
       "      <td>Night</td>\n",
       "      <td>...</td>\n",
       "      <td>-89.0</td>\n",
       "      <td>18</td>\n",
       "      <td>0.004203</td>\n",
       "      <td>210</td>\n",
       "      <td>0.430122</td>\n",
       "      <td>245.666667</td>\n",
       "      <td>0.074725</td>\n",
       "      <td>527</td>\n",
       "      <td>0.666667</td>\n",
       "      <td>Spring</td>\n",
       "    </tr>\n",
       "    <tr>\n",
       "      <th>450305</th>\n",
       "      <td>2018-05-15 20:37:42</td>\n",
       "      <td>86.0</td>\n",
       "      <td>Coin Heist</td>\n",
       "      <td>[Crime, Drama, Romance, Thriller]</td>\n",
       "      <td>2017-01-06</td>\n",
       "      <td>57e2731b38</td>\n",
       "      <td>b15926c011</td>\n",
       "      <td>Comedy</td>\n",
       "      <td>3324.693351</td>\n",
       "      <td>Night</td>\n",
       "      <td>...</td>\n",
       "      <td>-89.0</td>\n",
       "      <td>18</td>\n",
       "      <td>0.004203</td>\n",
       "      <td>210</td>\n",
       "      <td>0.430122</td>\n",
       "      <td>245.666667</td>\n",
       "      <td>0.074725</td>\n",
       "      <td>527</td>\n",
       "      <td>0.666667</td>\n",
       "      <td>Spring</td>\n",
       "    </tr>\n",
       "    <tr>\n",
       "      <th>450306</th>\n",
       "      <td>2018-05-15 20:39:18</td>\n",
       "      <td>15.0</td>\n",
       "      <td>The Kissing Booth</td>\n",
       "      <td>[Comedy, Romance]</td>\n",
       "      <td>2018-05-11</td>\n",
       "      <td>cfd5317123</td>\n",
       "      <td>b15926c011</td>\n",
       "      <td>Comedy</td>\n",
       "      <td>3324.693351</td>\n",
       "      <td>Night</td>\n",
       "      <td>...</td>\n",
       "      <td>-89.0</td>\n",
       "      <td>18</td>\n",
       "      <td>0.004203</td>\n",
       "      <td>210</td>\n",
       "      <td>0.430122</td>\n",
       "      <td>245.666667</td>\n",
       "      <td>0.074725</td>\n",
       "      <td>527</td>\n",
       "      <td>0.666667</td>\n",
       "      <td>Spring</td>\n",
       "    </tr>\n",
       "  </tbody>\n",
       "</table>\n",
       "<p>737 rows × 22 columns</p>\n",
       "</div>"
      ],
      "text/plain": [
       "                  datetime  duration              title  \\\n",
       "449570 2018-03-21 20:42:47    2400.0         Wild Child   \n",
       "449571 2018-03-21 21:22:47  179456.0         Wild Child   \n",
       "449572 2018-03-23 23:15:47    1217.0         Wild Child   \n",
       "449573 2018-03-23 23:36:04    1401.0         Wild Child   \n",
       "449574 2018-03-23 23:59:25    2635.0         Wild Child   \n",
       "...                    ...       ...                ...   \n",
       "450302 2018-05-14 20:21:55      28.0       The Outcasts   \n",
       "450303 2018-05-14 21:37:25     475.0     Audrie & Daisy   \n",
       "450304 2018-05-15 20:36:56      46.0         Coin Heist   \n",
       "450305 2018-05-15 20:37:42      86.0         Coin Heist   \n",
       "450306 2018-05-15 20:39:18      15.0  The Kissing Booth   \n",
       "\n",
       "                                   genres release_date    movie_id  \\\n",
       "449570           [Comedy, Drama, Romance]   2008-08-15  c424c83faf   \n",
       "449571           [Comedy, Drama, Romance]   2008-08-15  c424c83faf   \n",
       "449572           [Comedy, Drama, Romance]   2008-08-15  c424c83faf   \n",
       "449573           [Comedy, Drama, Romance]   2008-08-15  c424c83faf   \n",
       "449574           [Comedy, Drama, Romance]   2008-08-15  c424c83faf   \n",
       "...                                   ...          ...         ...   \n",
       "450302                           [Comedy]   2017-04-14  c72e35ec62   \n",
       "450303                      [Documentary]   2016-09-23  e52ac4e2fa   \n",
       "450304  [Crime, Drama, Romance, Thriller]   2017-01-06  57e2731b38   \n",
       "450305  [Crime, Drama, Romance, Thriller]   2017-01-06  57e2731b38   \n",
       "450306                  [Comedy, Romance]   2018-05-11  cfd5317123   \n",
       "\n",
       "           user_id favorite_genre  average_click_time time_of_day  ...  \\\n",
       "449570  b15926c011         Comedy         3324.693351       Night  ...   \n",
       "449571  b15926c011         Comedy         3324.693351       Night  ...   \n",
       "449572  b15926c011         Comedy         3324.693351       Night  ...   \n",
       "449573  b15926c011         Comedy         3324.693351       Night  ...   \n",
       "449574  b15926c011         Comedy         3324.693351       Night  ...   \n",
       "...            ...            ...                 ...         ...  ...   \n",
       "450302  b15926c011         Comedy         3324.693351       Night  ...   \n",
       "450303  b15926c011         Comedy         3324.693351       Night  ...   \n",
       "450304  b15926c011         Comedy         3324.693351       Night  ...   \n",
       "450305  b15926c011         Comedy         3324.693351       Night  ...   \n",
       "450306  b15926c011         Comedy         3324.693351       Night  ...   \n",
       "\n",
       "       ratio_weekend_weekday  unique_genres  genre_diversity  \\\n",
       "449570                 -89.0             18         0.004203   \n",
       "449571                 -89.0             18         0.004203   \n",
       "449572                 -89.0             18         0.004203   \n",
       "449573                 -89.0             18         0.004203   \n",
       "449574                 -89.0             18         0.004203   \n",
       "...                      ...            ...              ...   \n",
       "450302                 -89.0             18         0.004203   \n",
       "450303                 -89.0             18         0.004203   \n",
       "450304                 -89.0             18         0.004203   \n",
       "450305                 -89.0             18         0.004203   \n",
       "450306                 -89.0             18         0.004203   \n",
       "\n",
       "        unique_shows_count  zapping_percentage  average_movies_per_month  \\\n",
       "449570                 210            0.430122                245.666667   \n",
       "449571                 210            0.430122                245.666667   \n",
       "449572                 210            0.430122                245.666667   \n",
       "449573                 210            0.430122                245.666667   \n",
       "449574                 210            0.430122                245.666667   \n",
       "...                    ...                 ...                       ...   \n",
       "450302                 210            0.430122                245.666667   \n",
       "450303                 210            0.430122                245.666667   \n",
       "450304                 210            0.430122                245.666667   \n",
       "450305                 210            0.430122                245.666667   \n",
       "450306                 210            0.430122                245.666667   \n",
       "\n",
       "        average_time_between_watches  total_rewatch_count_user  \\\n",
       "449570                      0.074725                       527   \n",
       "449571                      0.074725                       527   \n",
       "449572                      0.074725                       527   \n",
       "449573                      0.074725                       527   \n",
       "449574                      0.074725                       527   \n",
       "...                              ...                       ...   \n",
       "450302                      0.074725                       527   \n",
       "450303                      0.074725                       527   \n",
       "450304                      0.074725                       527   \n",
       "450305                      0.074725                       527   \n",
       "450306                      0.074725                       527   \n",
       "\n",
       "        content_diversity_index  favorite_season  \n",
       "449570                 0.666667           Spring  \n",
       "449571                 0.666667           Spring  \n",
       "449572                 0.666667           Spring  \n",
       "449573                 0.666667           Spring  \n",
       "449574                 0.666667           Spring  \n",
       "...                         ...              ...  \n",
       "450302                 0.666667           Spring  \n",
       "450303                 0.666667           Spring  \n",
       "450304                 0.666667           Spring  \n",
       "450305                 0.666667           Spring  \n",
       "450306                 0.666667           Spring  \n",
       "\n",
       "[737 rows x 22 columns]"
      ]
     },
     "execution_count": 36,
     "metadata": {},
     "output_type": "execute_result"
    }
   ],
   "source": [
    "data[data[\"user_id\"]==\"b15926c011\"]"
   ]
  },
  {
   "cell_type": "code",
   "execution_count": 37,
   "metadata": {},
   "outputs": [
    {
     "name": "stdout",
     "output_type": "stream",
     "text": [
      "datetime                        datetime64[ns]\n",
      "duration                               float64\n",
      "title                                   object\n",
      "genres                                  object\n",
      "release_date                    datetime64[ns]\n",
      "movie_id                                object\n",
      "user_id                                 object\n",
      "favorite_genre                          object\n",
      "average_click_time                     float64\n",
      "time_of_day                             object\n",
      "movie_preference                        object\n",
      "average_duration_per_day               float64\n",
      "ratio_weekend_weekday                  float64\n",
      "unique_genres                            int64\n",
      "genre_diversity                        float64\n",
      "unique_shows_count                       int64\n",
      "zapping_percentage                     float64\n",
      "average_movies_per_month               float64\n",
      "average_time_between_watches           float64\n",
      "total_rewatch_count_user                 int64\n",
      "content_diversity_index                float64\n",
      "favorite_season                         object\n",
      "dtype: object\n"
     ]
    }
   ],
   "source": [
    "print(data.dtypes)"
   ]
  },
  {
   "cell_type": "code",
   "execution_count": 38,
   "metadata": {},
   "outputs": [
    {
     "data": {
      "text/html": [
       "<div>\n",
       "<style scoped>\n",
       "    .dataframe tbody tr th:only-of-type {\n",
       "        vertical-align: middle;\n",
       "    }\n",
       "\n",
       "    .dataframe tbody tr th {\n",
       "        vertical-align: top;\n",
       "    }\n",
       "\n",
       "    .dataframe thead th {\n",
       "        text-align: right;\n",
       "    }\n",
       "</style>\n",
       "<table border=\"1\" class=\"dataframe\">\n",
       "  <thead>\n",
       "    <tr style=\"text-align: right;\">\n",
       "      <th></th>\n",
       "      <th>duration</th>\n",
       "      <th>average_click_time</th>\n",
       "      <th>average_duration_per_day</th>\n",
       "      <th>ratio_weekend_weekday</th>\n",
       "      <th>unique_genres</th>\n",
       "      <th>genre_diversity</th>\n",
       "      <th>unique_shows_count</th>\n",
       "      <th>zapping_percentage</th>\n",
       "      <th>average_movies_per_month</th>\n",
       "      <th>average_time_between_watches</th>\n",
       "      <th>total_rewatch_count_user</th>\n",
       "      <th>content_diversity_index</th>\n",
       "    </tr>\n",
       "  </thead>\n",
       "  <tbody>\n",
       "    <tr>\n",
       "      <th>count</th>\n",
       "      <td>6.500020e+05</td>\n",
       "      <td>6.500020e+05</td>\n",
       "      <td>6.500020e+05</td>\n",
       "      <td>650002.000000</td>\n",
       "      <td>650002.000000</td>\n",
       "      <td>650002.000000</td>\n",
       "      <td>650002.000000</td>\n",
       "      <td>650002.000000</td>\n",
       "      <td>650002.000000</td>\n",
       "      <td>650002.000000</td>\n",
       "      <td>650002.000000</td>\n",
       "      <td>650002.000000</td>\n",
       "    </tr>\n",
       "    <tr>\n",
       "      <th>mean</th>\n",
       "      <td>3.459540e+04</td>\n",
       "      <td>3.459540e+04</td>\n",
       "      <td>3.666408e+04</td>\n",
       "      <td>-4.339608</td>\n",
       "      <td>8.772651</td>\n",
       "      <td>0.001313</td>\n",
       "      <td>9.468111</td>\n",
       "      <td>0.160198</td>\n",
       "      <td>8.331862</td>\n",
       "      <td>2.286212</td>\n",
       "      <td>5.244084</td>\n",
       "      <td>0.324913</td>\n",
       "    </tr>\n",
       "    <tr>\n",
       "      <th>std</th>\n",
       "      <td>1.599291e+05</td>\n",
       "      <td>1.039437e+05</td>\n",
       "      <td>1.082688e+05</td>\n",
       "      <td>10.159049</td>\n",
       "      <td>4.544741</td>\n",
       "      <td>0.001172</td>\n",
       "      <td>14.154136</td>\n",
       "      <td>0.168973</td>\n",
       "      <td>13.669171</td>\n",
       "      <td>3.800391</td>\n",
       "      <td>22.192433</td>\n",
       "      <td>0.168324</td>\n",
       "    </tr>\n",
       "    <tr>\n",
       "      <th>min</th>\n",
       "      <td>0.000000e+00</td>\n",
       "      <td>0.000000e+00</td>\n",
       "      <td>0.000000e+00</td>\n",
       "      <td>-111.000000</td>\n",
       "      <td>1.000000</td>\n",
       "      <td>0.000016</td>\n",
       "      <td>1.000000</td>\n",
       "      <td>0.000000</td>\n",
       "      <td>1.000000</td>\n",
       "      <td>0.000000</td>\n",
       "      <td>0.000000</td>\n",
       "      <td>0.037037</td>\n",
       "    </tr>\n",
       "    <tr>\n",
       "      <th>25%</th>\n",
       "      <td>0.000000e+00</td>\n",
       "      <td>2.152250e+03</td>\n",
       "      <td>2.360750e+03</td>\n",
       "      <td>-6.000000</td>\n",
       "      <td>5.000000</td>\n",
       "      <td>0.000363</td>\n",
       "      <td>2.000000</td>\n",
       "      <td>0.000000</td>\n",
       "      <td>3.000000</td>\n",
       "      <td>0.415827</td>\n",
       "      <td>0.000000</td>\n",
       "      <td>0.185185</td>\n",
       "    </tr>\n",
       "    <tr>\n",
       "      <th>50%</th>\n",
       "      <td>4.300000e+01</td>\n",
       "      <td>1.092471e+04</td>\n",
       "      <td>1.179480e+04</td>\n",
       "      <td>-2.000000</td>\n",
       "      <td>8.000000</td>\n",
       "      <td>0.000893</td>\n",
       "      <td>5.000000</td>\n",
       "      <td>0.130435</td>\n",
       "      <td>5.000000</td>\n",
       "      <td>1.241543</td>\n",
       "      <td>2.000000</td>\n",
       "      <td>0.296296</td>\n",
       "    </tr>\n",
       "    <tr>\n",
       "      <th>75%</th>\n",
       "      <td>7.059000e+03</td>\n",
       "      <td>3.065360e+04</td>\n",
       "      <td>3.260796e+04</td>\n",
       "      <td>1.000000</td>\n",
       "      <td>12.000000</td>\n",
       "      <td>0.001939</td>\n",
       "      <td>11.000000</td>\n",
       "      <td>0.250000</td>\n",
       "      <td>10.000000</td>\n",
       "      <td>2.704917</td>\n",
       "      <td>5.000000</td>\n",
       "      <td>0.444444</td>\n",
       "    </tr>\n",
       "    <tr>\n",
       "      <th>max</th>\n",
       "      <td>1.823725e+07</td>\n",
       "      <td>1.147194e+07</td>\n",
       "      <td>1.147194e+07</td>\n",
       "      <td>86.000000</td>\n",
       "      <td>23.000000</td>\n",
       "      <td>0.006706</td>\n",
       "      <td>210.000000</td>\n",
       "      <td>0.923077</td>\n",
       "      <td>245.666667</td>\n",
       "      <td>244.805058</td>\n",
       "      <td>527.000000</td>\n",
       "      <td>0.851852</td>\n",
       "    </tr>\n",
       "  </tbody>\n",
       "</table>\n",
       "</div>"
      ],
      "text/plain": [
       "           duration  average_click_time  average_duration_per_day  \\\n",
       "count  6.500020e+05        6.500020e+05              6.500020e+05   \n",
       "mean   3.459540e+04        3.459540e+04              3.666408e+04   \n",
       "std    1.599291e+05        1.039437e+05              1.082688e+05   \n",
       "min    0.000000e+00        0.000000e+00              0.000000e+00   \n",
       "25%    0.000000e+00        2.152250e+03              2.360750e+03   \n",
       "50%    4.300000e+01        1.092471e+04              1.179480e+04   \n",
       "75%    7.059000e+03        3.065360e+04              3.260796e+04   \n",
       "max    1.823725e+07        1.147194e+07              1.147194e+07   \n",
       "\n",
       "       ratio_weekend_weekday  unique_genres  genre_diversity  \\\n",
       "count          650002.000000  650002.000000    650002.000000   \n",
       "mean               -4.339608       8.772651         0.001313   \n",
       "std                10.159049       4.544741         0.001172   \n",
       "min              -111.000000       1.000000         0.000016   \n",
       "25%                -6.000000       5.000000         0.000363   \n",
       "50%                -2.000000       8.000000         0.000893   \n",
       "75%                 1.000000      12.000000         0.001939   \n",
       "max                86.000000      23.000000         0.006706   \n",
       "\n",
       "       unique_shows_count  zapping_percentage  average_movies_per_month  \\\n",
       "count       650002.000000       650002.000000             650002.000000   \n",
       "mean             9.468111            0.160198                  8.331862   \n",
       "std             14.154136            0.168973                 13.669171   \n",
       "min              1.000000            0.000000                  1.000000   \n",
       "25%              2.000000            0.000000                  3.000000   \n",
       "50%              5.000000            0.130435                  5.000000   \n",
       "75%             11.000000            0.250000                 10.000000   \n",
       "max            210.000000            0.923077                245.666667   \n",
       "\n",
       "       average_time_between_watches  total_rewatch_count_user  \\\n",
       "count                 650002.000000             650002.000000   \n",
       "mean                       2.286212                  5.244084   \n",
       "std                        3.800391                 22.192433   \n",
       "min                        0.000000                  0.000000   \n",
       "25%                        0.415827                  0.000000   \n",
       "50%                        1.241543                  2.000000   \n",
       "75%                        2.704917                  5.000000   \n",
       "max                      244.805058                527.000000   \n",
       "\n",
       "       content_diversity_index  \n",
       "count            650002.000000  \n",
       "mean                  0.324913  \n",
       "std                   0.168324  \n",
       "min                   0.037037  \n",
       "25%                   0.185185  \n",
       "50%                   0.296296  \n",
       "75%                   0.444444  \n",
       "max                   0.851852  "
      ]
     },
     "execution_count": 38,
     "metadata": {},
     "output_type": "execute_result"
    }
   ],
   "source": [
    "data.describe()"
   ]
  },
  {
   "cell_type": "markdown",
   "metadata": {},
   "source": [
    "## 2.2"
   ]
  },
  {
   "cell_type": "markdown",
   "metadata": {},
   "source": [
    "### 1. To normalise or not to normalise? "
   ]
  },
  {
   "cell_type": "markdown",
   "metadata": {},
   "source": [
    "Let's normalise the **numerical features** and select the best ones for the dimensionality reduction (and clustering)"
   ]
  },
  {
   "cell_type": "code",
   "execution_count": 39,
   "metadata": {},
   "outputs": [
    {
     "data": {
      "text/plain": [
       "Index(['duration', 'average_click_time', 'average_duration_per_day',\n",
       "       'ratio_weekend_weekday', 'unique_genres', 'genre_diversity',\n",
       "       'unique_shows_count', 'zapping_percentage', 'average_movies_per_month',\n",
       "       'average_time_between_watches', 'total_rewatch_count_user',\n",
       "       'content_diversity_index'],\n",
       "      dtype='object')"
      ]
     },
     "execution_count": 39,
     "metadata": {},
     "output_type": "execute_result"
    }
   ],
   "source": [
    "numerical_features = data.select_dtypes(['float64','int64']).columns \n",
    "numerical_features"
   ]
  },
  {
   "cell_type": "code",
   "execution_count": 40,
   "metadata": {},
   "outputs": [],
   "source": [
    "data_norm = data.copy()"
   ]
  },
  {
   "cell_type": "code",
   "execution_count": 41,
   "metadata": {},
   "outputs": [],
   "source": [
    "#MinMaxScalre takes care of NaN values\n",
    "scaler = MinMaxScaler()\n",
    "\n",
    "# Fit and transform the selected continuous features\n",
    "data_norm[numerical_features] = scaler.fit_transform(data_norm[numerical_features])"
   ]
  },
  {
   "cell_type": "markdown",
   "metadata": {},
   "source": [
    "Visualizing the correlation matrix. Too correlated features will not help the clustering and the dimensionality reduction"
   ]
  },
  {
   "cell_type": "code",
   "execution_count": null,
   "metadata": {},
   "outputs": [],
   "source": [
    "corr = data_norm[numerical_features].corr()\n",
    "\n",
    "sns.heatmap(corr, xticklabels=corr.columns.values,yticklabels=corr.columns.values, cmap=sns.color_palette(\"coolwarm\"),annot=True)"
   ]
  },
  {
   "cell_type": "markdown",
   "metadata": {},
   "source": [
    "Looking at this correlation matrix we can see that some variables are too correlated with each other so we need to drop redundant variables and keep the useful and independent.\n",
    "\n",
    "The last 8 features (except 'average_time_between_watches') are highly correlated so we chose to only keep 3.\n",
    "Same thing with the first 3, we only kept 'average_duration_per_day'\n",
    "\n",
    "Keep: 'average_duration_per_day','ratio_weekend_weekday', 'zapping_percentage', 'average_movies_per_month','average_time_between_watches', 'content_diversity_index'"
   ]
  },
  {
   "cell_type": "markdown",
   "metadata": {},
   "source": [
    "Let's analyze now the **categorical features** and transform them in numerical values using *LabelEncoder* "
   ]
  },
  {
   "cell_type": "code",
   "execution_count": 43,
   "metadata": {},
   "outputs": [
    {
     "data": {
      "text/plain": [
       "Index(['title', 'genres', 'movie_id', 'user_id', 'favorite_genre',\n",
       "       'time_of_day', 'movie_preference', 'favorite_season'],\n",
       "      dtype='object')"
      ]
     },
     "execution_count": 43,
     "metadata": {},
     "output_type": "execute_result"
    }
   ],
   "source": [
    "categorical_features =data_norm.select_dtypes(['object','bool']).columns\n",
    "categorical_features"
   ]
  },
  {
   "cell_type": "markdown",
   "metadata": {},
   "source": [
    "of course the first 4 columns aren't useful and don't need to me encoded"
   ]
  },
  {
   "cell_type": "code",
   "execution_count": 44,
   "metadata": {},
   "outputs": [],
   "source": [
    "categorical_features = ['favorite_genre',\n",
    "        'time_of_day', 'movie_preference', 'favorite_season']"
   ]
  },
  {
   "cell_type": "code",
   "execution_count": 45,
   "metadata": {},
   "outputs": [],
   "source": [
    "label_encoder = LabelEncoder()\n",
    "\n",
    "data_norm[categorical_features] = data_norm[categorical_features].apply(label_encoder.fit_transform)"
   ]
  },
  {
   "cell_type": "code",
   "execution_count": 46,
   "metadata": {},
   "outputs": [
    {
     "data": {
      "text/plain": [
       "<AxesSubplot:>"
      ]
     },
     "execution_count": 46,
     "metadata": {},
     "output_type": "execute_result"
    },
    {
     "data": {
      "image/png": "[encoded data removed]",
      "text/plain": [
       "<Figure size 432x288 with 2 Axes>"
      ]
     },
     "metadata": {
      "needs_background": "light"
     },
     "output_type": "display_data"
    }
   ],
   "source": [
    "# Calculate the correlation matrix\n",
    "corr = data_norm[categorical_features].corr()\n",
    "\n",
    "# Plot the heatmap \n",
    "sns.heatmap(corr,  xticklabels=corr.columns.values, yticklabels=corr.columns.values, cmap=sns.color_palette('coolwarm'), annot=True)\n"
   ]
  },
  {
   "cell_type": "markdown",
   "metadata": {},
   "source": [
    "They are all independent so we chose to keep them all."
   ]
  },
  {
   "cell_type": "markdown",
   "metadata": {},
   "source": [
    "These are the selected features for the dimensionality reduction:"
   ]
  },
  {
   "cell_type": "code",
   "execution_count": 47,
   "metadata": {},
   "outputs": [],
   "source": [
    "\n",
    "features = ['user_id','average_duration_per_day','ratio_weekend_weekday', \n",
    "            'zapping_percentage', 'average_movies_per_month','average_time_between_watches', \n",
    "            'content_diversity_index','favorite_genre',\n",
    "        'time_of_day', 'movie_preference', 'favorite_season']\n",
    "\n",
    "data_norm_reduced = data_norm[features]"
   ]
  },
  {
   "cell_type": "markdown",
   "metadata": {},
   "source": [
    "Now of course we need to drop all the duplicates and keep one row for each user"
   ]
  },
  {
   "cell_type": "code",
   "execution_count": 48,
   "metadata": {},
   "outputs": [
    {
     "data": {
      "text/html": [
       "<div>\n",
       "<style scoped>\n",
       "    .dataframe tbody tr th:only-of-type {\n",
       "        vertical-align: middle;\n",
       "    }\n",
       "\n",
       "    .dataframe tbody tr th {\n",
       "        vertical-align: top;\n",
       "    }\n",
       "\n",
       "    .dataframe thead th {\n",
       "        text-align: right;\n",
       "    }\n",
       "</style>\n",
       "<table border=\"1\" class=\"dataframe\">\n",
       "  <thead>\n",
       "    <tr style=\"text-align: right;\">\n",
       "      <th></th>\n",
       "      <th>user_id</th>\n",
       "      <th>average_duration_per_day</th>\n",
       "      <th>ratio_weekend_weekday</th>\n",
       "      <th>zapping_percentage</th>\n",
       "      <th>average_movies_per_month</th>\n",
       "      <th>average_time_between_watches</th>\n",
       "      <th>content_diversity_index</th>\n",
       "      <th>favorite_genre</th>\n",
       "      <th>time_of_day</th>\n",
       "      <th>movie_preference</th>\n",
       "      <th>favorite_season</th>\n",
       "    </tr>\n",
       "  </thead>\n",
       "  <tbody>\n",
       "    <tr>\n",
       "      <th>0</th>\n",
       "      <td>00004e2862</td>\n",
       "      <td>0.000000</td>\n",
       "      <td>0.558376</td>\n",
       "      <td>0.000000</td>\n",
       "      <td>0.000000</td>\n",
       "      <td>0.000000</td>\n",
       "      <td>0.090909</td>\n",
       "      <td>5</td>\n",
       "      <td>2</td>\n",
       "      <td>0</td>\n",
       "      <td>3</td>\n",
       "    </tr>\n",
       "    <tr>\n",
       "      <th>1</th>\n",
       "      <td>000052a0a0</td>\n",
       "      <td>0.000235</td>\n",
       "      <td>0.553299</td>\n",
       "      <td>0.451389</td>\n",
       "      <td>0.044959</td>\n",
       "      <td>0.006037</td>\n",
       "      <td>0.590909</td>\n",
       "      <td>0</td>\n",
       "      <td>2</td>\n",
       "      <td>1</td>\n",
       "      <td>2</td>\n",
       "    </tr>\n",
       "    <tr>\n",
       "      <th>25</th>\n",
       "      <td>000090e7c8</td>\n",
       "      <td>0.000000</td>\n",
       "      <td>0.558376</td>\n",
       "      <td>0.000000</td>\n",
       "      <td>0.000000</td>\n",
       "      <td>0.000000</td>\n",
       "      <td>0.090909</td>\n",
       "      <td>14</td>\n",
       "      <td>2</td>\n",
       "      <td>1</td>\n",
       "      <td>1</td>\n",
       "    </tr>\n",
       "    <tr>\n",
       "      <th>26</th>\n",
       "      <td>000118a755</td>\n",
       "      <td>0.000000</td>\n",
       "      <td>0.548223</td>\n",
       "      <td>0.000000</td>\n",
       "      <td>0.008174</td>\n",
       "      <td>0.000314</td>\n",
       "      <td>0.045455</td>\n",
       "      <td>11</td>\n",
       "      <td>2</td>\n",
       "      <td>1</td>\n",
       "      <td>2</td>\n",
       "    </tr>\n",
       "    <tr>\n",
       "      <th>29</th>\n",
       "      <td>000296842d</td>\n",
       "      <td>0.001685</td>\n",
       "      <td>0.548223</td>\n",
       "      <td>0.464286</td>\n",
       "      <td>0.024523</td>\n",
       "      <td>0.000625</td>\n",
       "      <td>0.136364</td>\n",
       "      <td>7</td>\n",
       "      <td>2</td>\n",
       "      <td>1</td>\n",
       "      <td>3</td>\n",
       "    </tr>\n",
       "    <tr>\n",
       "      <th>...</th>\n",
       "      <td>...</td>\n",
       "      <td>...</td>\n",
       "      <td>...</td>\n",
       "      <td>...</td>\n",
       "      <td>...</td>\n",
       "      <td>...</td>\n",
       "      <td>...</td>\n",
       "      <td>...</td>\n",
       "      <td>...</td>\n",
       "      <td>...</td>\n",
       "      <td>...</td>\n",
       "    </tr>\n",
       "    <tr>\n",
       "      <th>649986</th>\n",
       "      <td>fffd9bf758</td>\n",
       "      <td>0.000741</td>\n",
       "      <td>0.558376</td>\n",
       "      <td>0.000000</td>\n",
       "      <td>0.000000</td>\n",
       "      <td>0.000000</td>\n",
       "      <td>0.090909</td>\n",
       "      <td>5</td>\n",
       "      <td>2</td>\n",
       "      <td>1</td>\n",
       "      <td>2</td>\n",
       "    </tr>\n",
       "    <tr>\n",
       "      <th>649987</th>\n",
       "      <td>fffe7b777b</td>\n",
       "      <td>0.000156</td>\n",
       "      <td>0.568528</td>\n",
       "      <td>0.000000</td>\n",
       "      <td>0.000000</td>\n",
       "      <td>0.000000</td>\n",
       "      <td>0.090909</td>\n",
       "      <td>7</td>\n",
       "      <td>0</td>\n",
       "      <td>1</td>\n",
       "      <td>2</td>\n",
       "    </tr>\n",
       "    <tr>\n",
       "      <th>649988</th>\n",
       "      <td>fffeac83be</td>\n",
       "      <td>0.003540</td>\n",
       "      <td>0.517766</td>\n",
       "      <td>0.098485</td>\n",
       "      <td>0.018392</td>\n",
       "      <td>0.017173</td>\n",
       "      <td>0.363636</td>\n",
       "      <td>7</td>\n",
       "      <td>2</td>\n",
       "      <td>1</td>\n",
       "      <td>2</td>\n",
       "    </tr>\n",
       "    <tr>\n",
       "      <th>649999</th>\n",
       "      <td>ffff2c5f9e</td>\n",
       "      <td>0.000000</td>\n",
       "      <td>0.573604</td>\n",
       "      <td>0.000000</td>\n",
       "      <td>0.004087</td>\n",
       "      <td>0.000050</td>\n",
       "      <td>0.181818</td>\n",
       "      <td>0</td>\n",
       "      <td>0</td>\n",
       "      <td>1</td>\n",
       "      <td>2</td>\n",
       "    </tr>\n",
       "    <tr>\n",
       "      <th>650001</th>\n",
       "      <td>ffffd36adf</td>\n",
       "      <td>0.000000</td>\n",
       "      <td>0.568528</td>\n",
       "      <td>0.000000</td>\n",
       "      <td>0.000000</td>\n",
       "      <td>0.000000</td>\n",
       "      <td>0.045455</td>\n",
       "      <td>5</td>\n",
       "      <td>2</td>\n",
       "      <td>0</td>\n",
       "      <td>0</td>\n",
       "    </tr>\n",
       "  </tbody>\n",
       "</table>\n",
       "<p>154388 rows × 11 columns</p>\n",
       "</div>"
      ],
      "text/plain": [
       "           user_id  average_duration_per_day  ratio_weekend_weekday  \\\n",
       "0       00004e2862                  0.000000               0.558376   \n",
       "1       000052a0a0                  0.000235               0.553299   \n",
       "25      000090e7c8                  0.000000               0.558376   \n",
       "26      000118a755                  0.000000               0.548223   \n",
       "29      000296842d                  0.001685               0.548223   \n",
       "...            ...                       ...                    ...   \n",
       "649986  fffd9bf758                  0.000741               0.558376   \n",
       "649987  fffe7b777b                  0.000156               0.568528   \n",
       "649988  fffeac83be                  0.003540               0.517766   \n",
       "649999  ffff2c5f9e                  0.000000               0.573604   \n",
       "650001  ffffd36adf                  0.000000               0.568528   \n",
       "\n",
       "        zapping_percentage  average_movies_per_month  \\\n",
       "0                 0.000000                  0.000000   \n",
       "1                 0.451389                  0.044959   \n",
       "25                0.000000                  0.000000   \n",
       "26                0.000000                  0.008174   \n",
       "29                0.464286                  0.024523   \n",
       "...                    ...                       ...   \n",
       "649986            0.000000                  0.000000   \n",
       "649987            0.000000                  0.000000   \n",
       "649988            0.098485                  0.018392   \n",
       "649999            0.000000                  0.004087   \n",
       "650001            0.000000                  0.000000   \n",
       "\n",
       "        average_time_between_watches  content_diversity_index  favorite_genre  \\\n",
       "0                           0.000000                 0.090909               5   \n",
       "1                           0.006037                 0.590909               0   \n",
       "25                          0.000000                 0.090909              14   \n",
       "26                          0.000314                 0.045455              11   \n",
       "29                          0.000625                 0.136364               7   \n",
       "...                              ...                      ...             ...   \n",
       "649986                      0.000000                 0.090909               5   \n",
       "649987                      0.000000                 0.090909               7   \n",
       "649988                      0.017173                 0.363636               7   \n",
       "649999                      0.000050                 0.181818               0   \n",
       "650001                      0.000000                 0.045455               5   \n",
       "\n",
       "        time_of_day  movie_preference  favorite_season  \n",
       "0                 2                 0                3  \n",
       "1                 2                 1                2  \n",
       "25                2                 1                1  \n",
       "26                2                 1                2  \n",
       "29                2                 1                3  \n",
       "...             ...               ...              ...  \n",
       "649986            2                 1                2  \n",
       "649987            0                 1                2  \n",
       "649988            2                 1                2  \n",
       "649999            0                 1                2  \n",
       "650001            2                 0                0  \n",
       "\n",
       "[154388 rows x 11 columns]"
      ]
     },
     "execution_count": 48,
     "metadata": {},
     "output_type": "execute_result"
    }
   ],
   "source": [
    "data_norm_reduced = data_norm_reduced.drop_duplicates(subset='user_id', keep='first')\n",
    "data_norm_reduced"
   ]
  },
  {
   "cell_type": "markdown",
   "metadata": {},
   "source": [
    "### 2. Dimensionality reduction"
   ]
  },
  {
   "cell_type": "markdown",
   "metadata": {},
   "source": [
    "Principal Component Analysis (PCA) is a statistical technique used for dimensionality reduction and feature extraction in data analysis. It is particularly useful in reducing the number of variables in a dataset while retaining as much of the original information as possible. Here are some advantages or pros of using PCA:\n",
    "\n",
    "1. **Data Visualization:** PCA is often used for data visualization purposes. It allows you to project high-dimensional data onto a lower-dimensional space (usually 2 or 3 dimensions) while preserving the most important information. This facilitates the identification of patterns, clusters, or trends in the data.\n",
    "\n",
    "2. **Collinearity Handling:** PCA can be useful when dealing with multicollinearity, a situation where independent variables in a dataset are highly correlated. The principal components are orthogonal, meaning they are uncorrelated, which can help mitigate the collinearity issue.\n"
   ]
  },
  {
   "cell_type": "code",
   "execution_count": 49,
   "metadata": {},
   "outputs": [],
   "source": [
    "data_pca=data_norm_reduced.loc[:,data_norm_reduced.columns != 'user_id']"
   ]
  },
  {
   "cell_type": "markdown",
   "metadata": {},
   "source": [
    "It's important for PCA to standardize the data"
   ]
  },
  {
   "cell_type": "code",
   "execution_count": 50,
   "metadata": {},
   "outputs": [],
   "source": [
    "scaler = StandardScaler()\n",
    "data_pca = scaler.fit_transform(data_pca)"
   ]
  },
  {
   "cell_type": "code",
   "execution_count": 51,
   "metadata": {},
   "outputs": [],
   "source": [
    "# Applying PCA to the features\n",
    "pca = PCA() \n",
    "pca_components = pca.fit_transform(data_pca)"
   ]
  },
  {
   "cell_type": "markdown",
   "metadata": {},
   "source": [
    "Now we want to see how many components are necessary using the *explained_variance_ratio_* function"
   ]
  },
  {
   "cell_type": "code",
   "execution_count": 52,
   "metadata": {},
   "outputs": [
    {
     "data": {
      "image/png": "[encoded data removed]",
      "text/plain": [
       "<Figure size 720x288 with 1 Axes>"
      ]
     },
     "metadata": {
      "needs_background": "light"
     },
     "output_type": "display_data"
    }
   ],
   "source": [
    "# Explained variance \n",
    "pca = PCA().fit(data_pca)\n",
    "fig, ax = plt.subplots(figsize=(12,5))\n",
    "xi = np.arange(1, 1+data_pca.shape[1], step=1)\n",
    "yi = np.cumsum(pca.explained_variance_ratio_)\n",
    "plt.plot(xi, yi, marker='o')\n",
    "\n",
    "\n",
    "plt.ylim(0.0,1.1)\n",
    "plt.xlabel('Number of Components')\n",
    "plt.xticks(np.arange(1, 1+data_pca.shape[1], step=2))\n",
    "plt.ylabel('Cumulative variance (%)')\n",
    "plt.title('Explained variance')\n",
    "ax.grid(axis='x')"
   ]
  },
  {
   "cell_type": "markdown",
   "metadata": {},
   "source": [
    "A good number of features could be when the cumulative variance is at 80%"
   ]
  },
  {
   "cell_type": "code",
   "execution_count": 53,
   "metadata": {},
   "outputs": [
    {
     "data": {
      "text/plain": [
       "7"
      ]
     },
     "execution_count": 53,
     "metadata": {},
     "output_type": "execute_result"
    }
   ],
   "source": [
    "# Calculating the cumulative explained variance\n",
    "cumulative_variance_ratio = np.cumsum(pca.explained_variance_ratio_)\n",
    "\n",
    "# Determining the number of components \n",
    "n_components = np.argmax(cumulative_variance_ratio >= 0.80) + 1\n",
    "n_components"
   ]
  },
  {
   "cell_type": "markdown",
   "metadata": {},
   "source": [
    "Applying PCA with the chosen number of components (7, in this case)"
   ]
  },
  {
   "cell_type": "code",
   "execution_count": 54,
   "metadata": {},
   "outputs": [],
   "source": [
    "pca = PCA(n_components=n_components)\n",
    "data_reduced = pca.fit_transform(data_pca)"
   ]
  },
  {
   "cell_type": "markdown",
   "metadata": {},
   "source": [
    "As we said earlier PCA is useful to visualize the data, so now we plot the first two principal components in a 2D graph and the first three principal components in the 3D model below."
   ]
  },
  {
   "cell_type": "code",
   "execution_count": 55,
   "metadata": {},
   "outputs": [
    {
     "data": {
      "image/png": "[encoded data removed]",
      "text/plain": [
       "<Figure size 432x288 with 1 Axes>"
      ]
     },
     "metadata": {
      "needs_background": "light"
     },
     "output_type": "display_data"
    }
   ],
   "source": [
    "plt.scatter(data_reduced[:, 0], data_reduced[:, 1])\n",
    "plt.title('PCA - Scatter Plot of the First Two Principal Components')\n",
    "plt.xlabel('Principal Component 1')\n",
    "plt.ylabel('Principal Component 2')\n",
    "plt.show()"
   ]
  },
  {
   "cell_type": "code",
   "execution_count": 56,
   "metadata": {},
   "outputs": [
    {
     "data": {
      "image/png": "[encoded data removed]",
      "text/plain": [
       "<Figure size 432x288 with 2 Axes>"
      ]
     },
     "metadata": {
      "needs_background": "light"
     },
     "output_type": "display_data"
    }
   ],
   "source": [
    "import matplotlib.pyplot as plt\n",
    "from mpl_toolkits.mplot3d import Axes3D\n",
    "\n",
    "fig = plt.figure()\n",
    "ax = fig.add_subplot(111, projection='3d')\n",
    "\n",
    "scatter = ax.scatter(data_reduced[:, 0], data_reduced[:, 1],data_reduced[:, 2] , c=data_reduced[:, 2], cmap='viridis')\n",
    "\n",
    "ax.set_title('PCA - 3D Scatter Plot')\n",
    "ax.set_xlabel('Principal Component 1')\n",
    "ax.set_ylabel('Principal Component 2')\n",
    "ax.set_zlabel('Principal Component 3')\n",
    "\n",
    "# Adding a colorbar\n",
    "cbar = fig.colorbar(scatter, ax=ax, label='Principal Component 3')\n",
    "\n",
    "plt.show()\n"
   ]
  },
  {
   "cell_type": "code",
   "execution_count": 57,
   "metadata": {},
   "outputs": [
    {
     "data": {
      "text/html": [
       "<div>\n",
       "<style scoped>\n",
       "    .dataframe tbody tr th:only-of-type {\n",
       "        vertical-align: middle;\n",
       "    }\n",
       "\n",
       "    .dataframe tbody tr th {\n",
       "        vertical-align: top;\n",
       "    }\n",
       "\n",
       "    .dataframe thead th {\n",
       "        text-align: right;\n",
       "    }\n",
       "</style>\n",
       "<table border=\"1\" class=\"dataframe\">\n",
       "  <thead>\n",
       "    <tr style=\"text-align: right;\">\n",
       "      <th></th>\n",
       "      <th>0</th>\n",
       "      <th>1</th>\n",
       "      <th>2</th>\n",
       "      <th>3</th>\n",
       "      <th>4</th>\n",
       "      <th>5</th>\n",
       "      <th>6</th>\n",
       "    </tr>\n",
       "    <tr>\n",
       "      <th>user_id</th>\n",
       "      <th></th>\n",
       "      <th></th>\n",
       "      <th></th>\n",
       "      <th></th>\n",
       "      <th></th>\n",
       "      <th></th>\n",
       "      <th></th>\n",
       "    </tr>\n",
       "  </thead>\n",
       "  <tbody>\n",
       "    <tr>\n",
       "      <th>00004e2862</th>\n",
       "      <td>-1.048322</td>\n",
       "      <td>-1.506168</td>\n",
       "      <td>0.586066</td>\n",
       "      <td>1.241243</td>\n",
       "      <td>0.544535</td>\n",
       "      <td>0.419952</td>\n",
       "      <td>-1.714800</td>\n",
       "    </tr>\n",
       "    <tr>\n",
       "      <th>000052a0a0</th>\n",
       "      <td>3.470310</td>\n",
       "      <td>-0.613362</td>\n",
       "      <td>0.541658</td>\n",
       "      <td>0.211986</td>\n",
       "      <td>1.006471</td>\n",
       "      <td>-0.542008</td>\n",
       "      <td>1.457044</td>\n",
       "    </tr>\n",
       "    <tr>\n",
       "      <th>000090e7c8</th>\n",
       "      <td>-0.584572</td>\n",
       "      <td>-0.110177</td>\n",
       "      <td>-1.440874</td>\n",
       "      <td>0.362781</td>\n",
       "      <td>-1.685428</td>\n",
       "      <td>-0.590317</td>\n",
       "      <td>-0.806439</td>\n",
       "    </tr>\n",
       "    <tr>\n",
       "      <th>000118a755</th>\n",
       "      <td>-0.259728</td>\n",
       "      <td>-0.420331</td>\n",
       "      <td>-1.390965</td>\n",
       "      <td>0.642282</td>\n",
       "      <td>-0.693939</td>\n",
       "      <td>-0.399078</td>\n",
       "      <td>-0.918880</td>\n",
       "    </tr>\n",
       "    <tr>\n",
       "      <th>000296842d</th>\n",
       "      <td>1.452601</td>\n",
       "      <td>-1.367514</td>\n",
       "      <td>-1.325479</td>\n",
       "      <td>0.747585</td>\n",
       "      <td>0.430428</td>\n",
       "      <td>0.123207</td>\n",
       "      <td>0.540403</td>\n",
       "    </tr>\n",
       "    <tr>\n",
       "      <th>...</th>\n",
       "      <td>...</td>\n",
       "      <td>...</td>\n",
       "      <td>...</td>\n",
       "      <td>...</td>\n",
       "      <td>...</td>\n",
       "      <td>...</td>\n",
       "      <td>...</td>\n",
       "    </tr>\n",
       "    <tr>\n",
       "      <th>fffd9bf758</th>\n",
       "      <td>-0.831037</td>\n",
       "      <td>-0.428220</td>\n",
       "      <td>-0.674920</td>\n",
       "      <td>0.516855</td>\n",
       "      <td>0.071369</td>\n",
       "      <td>-0.642214</td>\n",
       "      <td>-0.180091</td>\n",
       "    </tr>\n",
       "    <tr>\n",
       "      <th>fffe7b777b</th>\n",
       "      <td>-1.086489</td>\n",
       "      <td>0.022871</td>\n",
       "      <td>-1.081861</td>\n",
       "      <td>-1.200653</td>\n",
       "      <td>0.188887</td>\n",
       "      <td>0.787000</td>\n",
       "      <td>-0.391845</td>\n",
       "    </tr>\n",
       "    <tr>\n",
       "      <th>fffeac83be</th>\n",
       "      <td>2.026405</td>\n",
       "      <td>0.469810</td>\n",
       "      <td>-0.213639</td>\n",
       "      <td>0.805002</td>\n",
       "      <td>0.140555</td>\n",
       "      <td>-0.486430</td>\n",
       "      <td>-0.716628</td>\n",
       "    </tr>\n",
       "    <tr>\n",
       "      <th>ffff2c5f9e</th>\n",
       "      <td>-0.938657</td>\n",
       "      <td>0.007795</td>\n",
       "      <td>-0.103782</td>\n",
       "      <td>-1.363444</td>\n",
       "      <td>1.089346</td>\n",
       "      <td>0.527926</td>\n",
       "      <td>0.347251</td>\n",
       "    </tr>\n",
       "    <tr>\n",
       "      <th>ffffd36adf</th>\n",
       "      <td>-1.540317</td>\n",
       "      <td>-0.933978</td>\n",
       "      <td>1.635259</td>\n",
       "      <td>0.369671</td>\n",
       "      <td>-1.657444</td>\n",
       "      <td>-0.161799</td>\n",
       "      <td>-0.868627</td>\n",
       "    </tr>\n",
       "  </tbody>\n",
       "</table>\n",
       "<p>154388 rows × 7 columns</p>\n",
       "</div>"
      ],
      "text/plain": [
       "                   0         1         2         3         4         5  \\\n",
       "user_id                                                                  \n",
       "00004e2862 -1.048322 -1.506168  0.586066  1.241243  0.544535  0.419952   \n",
       "000052a0a0  3.470310 -0.613362  0.541658  0.211986  1.006471 -0.542008   \n",
       "000090e7c8 -0.584572 -0.110177 -1.440874  0.362781 -1.685428 -0.590317   \n",
       "000118a755 -0.259728 -0.420331 -1.390965  0.642282 -0.693939 -0.399078   \n",
       "000296842d  1.452601 -1.367514 -1.325479  0.747585  0.430428  0.123207   \n",
       "...              ...       ...       ...       ...       ...       ...   \n",
       "fffd9bf758 -0.831037 -0.428220 -0.674920  0.516855  0.071369 -0.642214   \n",
       "fffe7b777b -1.086489  0.022871 -1.081861 -1.200653  0.188887  0.787000   \n",
       "fffeac83be  2.026405  0.469810 -0.213639  0.805002  0.140555 -0.486430   \n",
       "ffff2c5f9e -0.938657  0.007795 -0.103782 -1.363444  1.089346  0.527926   \n",
       "ffffd36adf -1.540317 -0.933978  1.635259  0.369671 -1.657444 -0.161799   \n",
       "\n",
       "                   6  \n",
       "user_id               \n",
       "00004e2862 -1.714800  \n",
       "000052a0a0  1.457044  \n",
       "000090e7c8 -0.806439  \n",
       "000118a755 -0.918880  \n",
       "000296842d  0.540403  \n",
       "...              ...  \n",
       "fffd9bf758 -0.180091  \n",
       "fffe7b777b -0.391845  \n",
       "fffeac83be -0.716628  \n",
       "ffff2c5f9e  0.347251  \n",
       "ffffd36adf -0.868627  \n",
       "\n",
       "[154388 rows x 7 columns]"
      ]
     },
     "execution_count": 57,
     "metadata": {},
     "output_type": "execute_result"
    }
   ],
   "source": [
    "#converting the PCA reduced data to a pandas dataframe.\n",
    "data_final=pd.DataFrame(data_reduced)\n",
    "\n",
    "#We want the User ID to still be the primary key for our projected data \n",
    "\n",
    "data_final.index = data_norm_reduced['user_id']\n",
    "data_final"
   ]
  },
  {
   "cell_type": "markdown",
   "metadata": {},
   "source": [
    "## 2.3\n"
   ]
  },
  {
   "cell_type": "markdown",
   "metadata": {},
   "source": [
    "### 1"
   ]
  },
  {
   "cell_type": "markdown",
   "metadata": {},
   "source": [
    "**Outline of the code**\n",
    "\n",
    "1. Initialize random centroids\n",
    "2. Get labels for each data point (Map)\n",
    "3. Create new centroids (Reduce)\n",
    "4. Plot the centroids\n",
    "5. Repeat 3-5 until the centroids stop changing\n"
   ]
  },
  {
   "cell_type": "code",
   "execution_count": 592,
   "metadata": {},
   "outputs": [],
   "source": [
    "\n",
    "def assign_centroid(centroids,p):\n",
    "    #computing the distances from all the centroids\n",
    "    distances = [np.linalg.norm(p - centroid) for centroid in centroids]\n",
    "    #choosing the closest\n",
    "    closest_centroid = np.argmin(distances)\n",
    "    return closest_centroid\n",
    "\n",
    "def map_(data, centroids):\n",
    "    cluster_assignments = []\n",
    "    for point in data:\n",
    "        #for each point in the dataset it will assigned the cluster \n",
    "        cluster_assignments.append((assign_centroid(centroids, point), point))\n",
    "    return cluster_assignments\n",
    "\n",
    "def reduce_(cluster_assignments, k):\n",
    "    cluster_assignments = np.array(cluster_assignments, dtype=object) \n",
    "    # for each cluster take the mean of the points and set these as new centroids\n",
    "    new_centroids = [np.mean(cluster_assignments[cluster_assignments[:, 0] == i][:, 1], axis=0) for i in range(k)]\n",
    "    return new_centroids\n",
    "\n",
    "def plot_clusters(data,centroids,cluster_assignments, k, i):\n",
    "    # In order to visualize the clustering process we use PCA once again to make a 2-dimentional plot\n",
    "    pca = PCA(n_components=2)\n",
    "    data_2d = pca.fit_transform(data)\n",
    "    centroids_2d = pca.transform(centroids)\n",
    "    cluster_ids, clustered_data = zip(*cluster_assignments)\n",
    "    \n",
    "    # Plot the clustered data\n",
    "    plt.scatter(data_2d[:, 0], data_2d[:, 1], c=cluster_ids, cmap='viridis', alpha=0.7)\n",
    "    plt.scatter(centroids_2d[:, 0], centroids_2d[:, 1], s=100, c='red')\n",
    "    plt.title(f'Iteration (i={i})')\n",
    "    plt.xlabel('Principal Component 1')\n",
    "    plt.ylabel('Principal Component 2')\n",
    "    plt.legend()\n",
    "    plt.show()\n",
    "    \n",
    "# K-means algorithm\n",
    "def Kmeans_from_scratch_with_plot_mapreduce(data, k):\n",
    "    \n",
    "    # Step 1: Initialize centroids randomly\n",
    "    centroids = data[np.random.choice(len(data), k, replace=False)]\n",
    "    \n",
    "    #we chose 100 as the max number of iterations as a stopping point\n",
    "    for i in range(100):\n",
    "        # Step 2: Get labels for each data point (Map)\n",
    "        cluster_assignments = map_(data, centroids)\n",
    "        \n",
    "        # Step 3: Create new centroids (Reduce)\n",
    "        new_centroids = reduce_(cluster_assignments, k)\n",
    "        \n",
    "        # Step 5: Repeat 3-5 until the centroids stop changing\n",
    "        if np.all(np.array(new_centroids) == np.array(centroids)):\n",
    "            # Step 4: Plot the centroids\n",
    "            plot_clusters(data,centroids,cluster_assignments, k, i)\n",
    "            break\n",
    "\n",
    "        # Update centroids for the next iteration\n",
    "        centroids = new_centroids\n",
    "\n",
    "    return centroids"
   ]
  },
  {
   "cell_type": "markdown",
   "metadata": {},
   "source": [
    "### 2\n"
   ]
  },
  {
   "cell_type": "markdown",
   "metadata": {},
   "source": [
    "Find an optimal number of clusters."
   ]
  },
  {
   "cell_type": "markdown",
   "metadata": {},
   "source": [
    "#### Method 1: Elbow"
   ]
  },
  {
   "cell_type": "markdown",
   "metadata": {},
   "source": [
    "The elbow method is the most widely used method for choosing the number of clusters. It runs clustering models for a range of cluster numbers and plots the within cluster sum of squares. The elbow on the plot shows the point where the diminishing returns for additional clusters happen."
   ]
  },
  {
   "cell_type": "code",
   "execution_count": 593,
   "metadata": {},
   "outputs": [],
   "source": [
    "from yellowbrick.cluster import KElbowVisualizer, SilhouetteVisualizer\n",
    "from sklearn.metrics import silhouette_score"
   ]
  },
  {
   "cell_type": "code",
   "execution_count": 594,
   "metadata": {},
   "outputs": [
    {
     "name": "stderr",
     "output_type": "stream",
     "text": [
      "C:\\Users\\Gabriele\\AppData\\Local\\Packages\\PythonSoftwareFoundation.Python.3.11_qbz5n2kfra8p0\\LocalCache\\local-packages\\Python311\\site-packages\\yellowbrick\\utils\\kneed.py:156: YellowbrickWarning: No 'knee' or 'elbow point' detected This could be due to bad clustering, no actual clusters being formed etc.\n",
      "  warnings.warn(warning_message, YellowbrickWarning)\n",
      "C:\\Users\\Gabriele\\AppData\\Local\\Packages\\PythonSoftwareFoundation.Python.3.11_qbz5n2kfra8p0\\LocalCache\\local-packages\\Python311\\site-packages\\yellowbrick\\cluster\\elbow.py:374: YellowbrickWarning: No 'knee' or 'elbow' point detected, pass `locate_elbow=False` to remove the warning\n",
      "  warnings.warn(warning_message, YellowbrickWarning)\n"
     ]
    },
    {
     "data": {
      "image/png": "[encoded data removed]",
      "text/plain": [
       "<Figure size 800x550 with 2 Axes>"
      ]
     },
     "metadata": {},
     "output_type": "display_data"
    },
    {
     "data": {
      "text/plain": [
       "<Axes: title={'center': 'Distortion Score Elbow for KMeans Clustering'}, xlabel='k', ylabel='distortion score'>"
      ]
     },
     "execution_count": 594,
     "metadata": {},
     "output_type": "execute_result"
    }
   ],
   "source": [
    "model = KMeans()\n",
    "visualizer = KElbowVisualizer(model, k=(2,8))\n",
    "\n",
    "visualizer.fit(data_reduced)\n",
    "visualizer.show()"
   ]
  },
  {
   "cell_type": "markdown",
   "metadata": {},
   "source": [
    "##### Method 2: Silhouette method"
   ]
  },
  {
   "cell_type": "code",
   "execution_count": 595,
   "metadata": {},
   "outputs": [],
   "source": [
    "#We took a sample of 10,000 items from our dataset\n",
    "data_sample = data_final.sample(10000)"
   ]
  },
  {
   "cell_type": "code",
   "execution_count": 596,
   "metadata": {},
   "outputs": [
    {
     "data": {
      "image/png": "[encoded data removed]",
      "text/plain": [
       "<Figure size 800x550 with 1 Axes>"
      ]
     },
     "metadata": {},
     "output_type": "display_data"
    }
   ],
   "source": [
    "clusters = [2, 3, 4, 5, 6, 7]\n",
    "silhouette_avg = []\n",
    "\n",
    "for cluster in clusters:\n",
    "    kmeans=KMeans(n_clusters=cluster, random_state=42).fit(data_sample)\n",
    "    cluster_labels = kmeans.labels_\n",
    "    silhouette_avg.append(silhouette_score(data_sample, cluster_labels))\n",
    "    \n",
    "plt.plot(clusters,silhouette_avg,'bx-')    \n",
    "plt.xlabel('Values of K') \n",
    "plt.ylabel('Silhouette score') \n",
    "plt.title('Silhouette analysis For Optimal k')\n",
    "plt.show()"
   ]
  },
  {
   "cell_type": "code",
   "execution_count": 597,
   "metadata": {},
   "outputs": [
    {
     "data": {
      "image/png": "[encoded data removed]",
      "text/plain": [
       "<Figure size 1500x800 with 4 Axes>"
      ]
     },
     "metadata": {},
     "output_type": "display_data"
    }
   ],
   "source": [
    "fig, ax = plt.subplots(2, 2, figsize=(15,8))\n",
    "for i in [2, 3, 4, 5]:\n",
    "    km = KMeans(n_clusters=i, random_state=42)\n",
    "    q, mod = divmod(i, 2)\n",
    "    visualizer = SilhouetteVisualizer(km, colors='yellowbrick', ax=ax[q-1][mod])\n",
    "    visualizer.fit(data_sample)\n",
    "    cluster_labels = km.fit_predict(data_sample)\n",
    "    silhouette_avg = silhouette_score(data_sample, cluster_labels)"
   ]
  },
  {
   "cell_type": "markdown",
   "metadata": {},
   "source": [
    "#### Method 3: Hierarchical Graph\n",
    "\n",
    "The y axis is the euclidean distance, so the longer the vertical line is, the larger distance between the clusters.\n",
    "\n",
    "From the graph, we can see that the two clusters connected by the blue line have the largest distance, and the two sub-clusters in red have a relatively large distance too. Therefore, the hierarchical graph suggests 2 or 3 clusters as well."
   ]
  },
  {
   "cell_type": "code",
   "execution_count": 598,
   "metadata": {},
   "outputs": [
    {
     "data": {
      "text/plain": [
       "Text(0, 0.5, 'Euclidean Distance')"
      ]
     },
     "execution_count": 598,
     "metadata": {},
     "output_type": "execute_result"
    },
    {
     "data": {
      "image/png": "[encoded data removed]",
      "text/plain": [
       "<Figure size 800x550 with 1 Axes>"
      ]
     },
     "metadata": {},
     "output_type": "display_data"
    }
   ],
   "source": [
    "plt.figure()\n",
    "\n",
    "# Fit the heirachical graph\n",
    "heirachical_graph=hier.dendrogram(hier.linkage(data_sample, method='ward')) #method='ward' uses the Ward variance minimization algorithm\n",
    "\n",
    "# Add titles and labels\n",
    "plt.title('Hierachical Clustering Graph')\n",
    "plt.xlabel('data')\n",
    "plt.ylabel('Euclidean Distance')"
   ]
  },
  {
   "cell_type": "markdown",
   "metadata": {},
   "source": [
    "- Unfortunately Method 1 (Elbow) didn't give us a visible elbow\n",
    "- Method 2 (Silhouette) seems to suggest k=2 or 3 but there was no clear winner\n",
    "- Method 3 (Hierarchical) has 5 blue lines suggesting k=6\n",
    "\n",
    "Since all three methods didn't yield a significant result, we based our choice on the plot of the first principal components. The plot in question showed that there are not well defined clusters, so we implemented the clustering algorithms with the lowest number of clusters that can give meaningful results (**3**, in this case) so that we can avoid excessive partitioning of the data or, on the other side, too simplistic answers."
   ]
  },
  {
   "cell_type": "markdown",
   "metadata": {},
   "source": [
    "### 3. Run the algorithm on the data obtained from the dimensionality reduction."
   ]
  },
  {
   "cell_type": "code",
   "execution_count": 600,
   "metadata": {},
   "outputs": [
    {
     "name": "stderr",
     "output_type": "stream",
     "text": [
      "No artists with labels found to put in legend.  Note that artists whose label start with an underscore are ignored when legend() is called with no argument.\n"
     ]
    },
    {
     "data": {
      "image/png": "[encoded data removed]",
      "text/plain": [
       "<Figure size 800x550 with 1 Axes>"
      ]
     },
     "metadata": {},
     "output_type": "display_data"
    }
   ],
   "source": [
    "optimal_k=3\n",
    "final_centroids = Kmeans_from_scratch_with_plot_mapreduce(data_reduced, optimal_k)"
   ]
  },
  {
   "cell_type": "markdown",
   "metadata": {},
   "source": [
    "This is a plot is losing a lot of dimensions, so even though two final centroids seem overlapping they might be actually distant "
   ]
  },
  {
   "cell_type": "markdown",
   "metadata": {},
   "source": [
    "### 4. Implement K-means++ from scratch and explain the differences with the results you got earlier."
   ]
  },
  {
   "cell_type": "code",
   "execution_count": 601,
   "metadata": {},
   "outputs": [],
   "source": [
    "def kmeans_plusplus_init(data, k):\n",
    "    # Choose the first centroid randomly from the data points\n",
    "    centroids = [data[np.random.choice(data.shape[0])]]\n",
    "    \n",
    "    # Choose the remaining centroids using K-means++ method\n",
    "    for _ in range(1, k):\n",
    "        # Calculate distances from each data point to the nearest existing centroid\n",
    "        distances = np.array([min(np.linalg.norm(point - np.array(centroid)) for centroid in centroids) for point in data])\n",
    "\n",
    "        # Calculate probabilities for each data point based on squared distances\n",
    "        probabilities = distances**2 / np.sum(distances**2)\n",
    "\n",
    "        # Choose the next centroid randomly from the data points based on probabilities\n",
    "        new_centroid = data[np.random.choice(data.shape[0], p=probabilities)]\n",
    "        centroids.append(new_centroid)\n",
    "\n",
    "    return np.array(centroids)"
   ]
  },
  {
   "cell_type": "markdown",
   "metadata": {},
   "source": [
    "This implementation randomly selects the first centroid and then chooses the subsequent centroids with a probability proportional to the squared distance from the nearest existing centroid. This ensures that the initial centroids are well spread out in the data space.\n",
    "\n",
    "K-means++ is typically used as the initialization step to provide better starting points for convergence. in fact other than the initial centroids the code is the same as before"
   ]
  },
  {
   "cell_type": "code",
   "execution_count": 602,
   "metadata": {},
   "outputs": [],
   "source": [
    "# K-means++ algorithm\n",
    "def Kmeans_pp_from_scratch_with_plot_mapreduce(data, k):\n",
    "    # Step 1: Initialize centroids with the new method (++)\n",
    "    centroids = kmeans_plusplus_init(data, k)\n",
    "\n",
    "    for i in range(100):\n",
    "        # Step 2: Get labels for each data point (Map)\n",
    "        cluster_assignments = map_(data, centroids)\n",
    "        \n",
    "        # Step 3: Create new centroids (Reduce)\n",
    "        new_centroids = reduce_(cluster_assignments, k)\n",
    "                \n",
    "        # Step 5: Repeat 3-5 until the centroids stop changing\n",
    "        if np.all(np.array(new_centroids) == np.array(centroids)):\n",
    "            # Step 4: Plot the centroids\n",
    "            plot_clusters(data,centroids,cluster_assignments, k, i)\n",
    "            break\n",
    "\n",
    "        # Update centroids for the next iteration\n",
    "        centroids = new_centroids\n",
    "\n",
    "    return centroids"
   ]
  },
  {
   "cell_type": "code",
   "execution_count": 603,
   "metadata": {},
   "outputs": [
    {
     "name": "stderr",
     "output_type": "stream",
     "text": [
      "No artists with labels found to put in legend.  Note that artists whose label start with an underscore are ignored when legend() is called with no argument.\n"
     ]
    },
    {
     "data": {
      "image/png": "[encoded data removed]",
      "text/plain": [
       "<Figure size 800x550 with 1 Axes>"
      ]
     },
     "metadata": {},
     "output_type": "display_data"
    }
   ],
   "source": [
    "final_centroids = Kmeans_pp_from_scratch_with_plot_mapreduce(data_reduced, optimal_k)"
   ]
  },
  {
   "cell_type": "markdown",
   "metadata": {},
   "source": [
    " This method is supposed to reduce the number of iteration (faster convergence). This means that, over many runs, this last algorithm will always give a consistently low number of iterations, and the former will be more unstable depending on the first random centroids. The clusters don't seem to be more defined than before."
   ]
  },
  {
   "cell_type": "markdown",
   "metadata": {},
   "source": [
    "### 5. Ask ChatGPT to recommend other clustering algorithms and choose one. Explain your choice, then ask ChatGPT to implement it or use already implemented versions (e.g., the one provided in the scikit-learn library) and run it on your data. Explain the differences (if there are any) in the results. Which one is the best, in your opinion, and why?"
   ]
  },
  {
   "cell_type": "markdown",
   "metadata": {},
   "source": [
    "Gaussian Mixture Model (GMM) is a probabilistic model that represents a mixture of multiple Gaussian distributions. It is often used for clustering and density estimation. These are some advantages or pros of using Gaussian Mixture Models:\n",
    "\n",
    "1. **Flexibility in Modeling Complex Distributions:** GMMs are capable of modeling complex probability distributions by combining multiple Gaussian components. This flexibility allows GMMs to represent a wide range of data patterns and structures.\n",
    "\n",
    "2. **Soft Assignment of Data Points:** Unlike hard clustering algorithms that assign each data point to a single cluster, GMMs provide a soft assignment by assigning probabilities to each data point belonging to each cluster. This soft assignment can be more realistic in situations where data points may belong to multiple clusters simultaneously.\n",
    "\n",
    "3. **No Assumption of Equal Cluster Sizes or Variances:** Unlike K-means, which assumes equal cluster sizes and variances, GMMs do not impose such constraints. This makes GMMs more suitable for situations where the clusters have varying sizes and shapes.\n",
    "\n",
    "4. **Density Estimation:** GMMs can be used for density estimation, allowing for the estimation of the underlying probability distribution of the data. This is useful in applications such as anomaly detection.\n",
    "\n",
    "The last two points highlight the specific reasons for choosing the Gaussian Mixture Model (GMM) in our analysis. Based on the results from the previous clustering, it appears that we are dealing with the subdivision of one large cluster. By opting for the GMM method, we can take into account the density of the points, considering not only the distance from a centroid but also the probability distribution. This is crucial, as GMMs allow for clusters of different sizes and shapes, accommodating the inherent variability in the data rather than assuming equal cluster sizes and variances, as done in traditional methods like K-means. The ability of GMMs to perform density estimation further enhances our capability to identify and handle anomalies effectively in the dataset."
   ]
  },
  {
   "cell_type": "code",
   "execution_count": 604,
   "metadata": {},
   "outputs": [
    {
     "data": {
      "image/png": "[encoded data removed]",
      "text/plain": [
       "<Figure size 800x600 with 1 Axes>"
      ]
     },
     "metadata": {},
     "output_type": "display_data"
    }
   ],
   "source": [
    "from sklearn.mixture import GaussianMixture\n",
    "\n",
    "# Create a Gaussian Mixture Model\n",
    "gmm = GaussianMixture(n_components=optimal_k)\n",
    "\n",
    "# Fit the GMM to the reduced data\n",
    "gmm.fit(data_reduced)\n",
    "\n",
    "# Predict the cluster labels for each data point\n",
    "cluster_labels = gmm.predict(data_reduced)\n",
    "\n",
    "# You can also obtain the probabilities of each sample belonging to each cluster\n",
    "# This can be useful for assessing the uncertainty of the clustering\n",
    "probs = gmm.predict_proba(data_reduced)\n",
    "\n",
    "# Now, cluster_labels contains the cluster assignments for each data point\n",
    "# probs contains the probability scores for each data point in each cluster\n",
    "plt.figure(figsize=(8, 6))\n",
    "sns.scatterplot(x=data_reduced[:, 0], y=data_reduced[:, 1], hue=cluster_labels, palette='viridis', legend='full')\n",
    "\n",
    "# Plot the GMM cluster centers\n",
    "means = gmm.means_\n",
    "plt.scatter(means[:, 0], means[:, 1], marker='o', s=200, c='red', edgecolors='black', linewidths=2, label='GMM Centers')\n",
    "\n",
    "plt.title('GMM Clustering Results in 2D Space')\n",
    "plt.xlabel('Principal Component 1')\n",
    "plt.ylabel('Principal Component 2')\n",
    "plt.legend()\n",
    "plt.show()"
   ]
  },
  {
   "cell_type": "markdown",
   "metadata": {},
   "source": [
    "It is evident that the data exhibits a more complex structure than a simple partition into equally sized and shaped clusters. In particular, the analysis reveals the presence of a more dense cluster (referred to as Cluster 2) located in the middle of the plotted points. This observation aligns with the advantages of using GMMs, as highlighted before."
   ]
  },
  {
   "cell_type": "markdown",
   "metadata": {},
   "source": [
    "## 2.4 Analysing your results! \n",
    "\n",
    "You are often encouraged to explain the main characteristics that your clusters have. The latter is called the Characterizing Clusters step. Thus, follow the next steps to do it:"
   ]
  },
  {
   "cell_type": "markdown",
   "metadata": {},
   "source": [
    "Let's use our Kmeans++ algorithm"
   ]
  },
  {
   "cell_type": "code",
   "execution_count": 628,
   "metadata": {},
   "outputs": [
    {
     "data": {
      "text/plain": [
       "array([0, 0, 0, ..., 0, 2, 0], dtype=object)"
      ]
     },
     "execution_count": 628,
     "metadata": {},
     "output_type": "execute_result"
    }
   ],
   "source": [
    "cluster_assignments = map_(data_reduced, final_centroids)\n",
    "cluster_assignments = np.array(cluster_assignments, dtype=object)\n",
    "cluster_assignments[:, 0]"
   ]
  },
  {
   "cell_type": "code",
   "execution_count": 606,
   "metadata": {},
   "outputs": [
    {
     "data": {
      "text/html": [
       "<div>\n",
       "<style scoped>\n",
       "    .dataframe tbody tr th:only-of-type {\n",
       "        vertical-align: middle;\n",
       "    }\n",
       "\n",
       "    .dataframe tbody tr th {\n",
       "        vertical-align: top;\n",
       "    }\n",
       "\n",
       "    .dataframe thead th {\n",
       "        text-align: right;\n",
       "    }\n",
       "</style>\n",
       "<table border=\"1\" class=\"dataframe\">\n",
       "  <thead>\n",
       "    <tr style=\"text-align: right;\">\n",
       "      <th></th>\n",
       "      <th>user_id</th>\n",
       "      <th>average_duration_per_day</th>\n",
       "      <th>ratio_weekend_weekday</th>\n",
       "      <th>zapping_percentage</th>\n",
       "      <th>average_movies_per_month</th>\n",
       "      <th>average_time_between_watches</th>\n",
       "      <th>content_diversity_index</th>\n",
       "      <th>favorite_genre</th>\n",
       "      <th>time_of_day</th>\n",
       "      <th>movie_preference</th>\n",
       "      <th>favorite_season</th>\n",
       "      <th>Cluster</th>\n",
       "    </tr>\n",
       "  </thead>\n",
       "  <tbody>\n",
       "    <tr>\n",
       "      <th>0</th>\n",
       "      <td>00004e2862</td>\n",
       "      <td>0.000000</td>\n",
       "      <td>0.558376</td>\n",
       "      <td>0.000000</td>\n",
       "      <td>0.000000</td>\n",
       "      <td>0.000000</td>\n",
       "      <td>0.090909</td>\n",
       "      <td>5</td>\n",
       "      <td>2</td>\n",
       "      <td>0</td>\n",
       "      <td>3</td>\n",
       "      <td></td>\n",
       "    </tr>\n",
       "    <tr>\n",
       "      <th>1</th>\n",
       "      <td>000052a0a0</td>\n",
       "      <td>0.000235</td>\n",
       "      <td>0.553299</td>\n",
       "      <td>0.451389</td>\n",
       "      <td>0.044959</td>\n",
       "      <td>0.006037</td>\n",
       "      <td>0.590909</td>\n",
       "      <td>0</td>\n",
       "      <td>2</td>\n",
       "      <td>1</td>\n",
       "      <td>2</td>\n",
       "      <td></td>\n",
       "    </tr>\n",
       "    <tr>\n",
       "      <th>25</th>\n",
       "      <td>000090e7c8</td>\n",
       "      <td>0.000000</td>\n",
       "      <td>0.558376</td>\n",
       "      <td>0.000000</td>\n",
       "      <td>0.000000</td>\n",
       "      <td>0.000000</td>\n",
       "      <td>0.090909</td>\n",
       "      <td>14</td>\n",
       "      <td>2</td>\n",
       "      <td>1</td>\n",
       "      <td>1</td>\n",
       "      <td></td>\n",
       "    </tr>\n",
       "    <tr>\n",
       "      <th>26</th>\n",
       "      <td>000118a755</td>\n",
       "      <td>0.000000</td>\n",
       "      <td>0.548223</td>\n",
       "      <td>0.000000</td>\n",
       "      <td>0.008174</td>\n",
       "      <td>0.000314</td>\n",
       "      <td>0.045455</td>\n",
       "      <td>11</td>\n",
       "      <td>2</td>\n",
       "      <td>1</td>\n",
       "      <td>2</td>\n",
       "      <td></td>\n",
       "    </tr>\n",
       "    <tr>\n",
       "      <th>29</th>\n",
       "      <td>000296842d</td>\n",
       "      <td>0.001685</td>\n",
       "      <td>0.548223</td>\n",
       "      <td>0.464286</td>\n",
       "      <td>0.024523</td>\n",
       "      <td>0.000625</td>\n",
       "      <td>0.136364</td>\n",
       "      <td>7</td>\n",
       "      <td>2</td>\n",
       "      <td>1</td>\n",
       "      <td>3</td>\n",
       "      <td></td>\n",
       "    </tr>\n",
       "  </tbody>\n",
       "</table>\n",
       "</div>"
      ],
      "text/plain": [
       "       user_id  average_duration_per_day  ratio_weekend_weekday  \\\n",
       "0   00004e2862                  0.000000               0.558376   \n",
       "1   000052a0a0                  0.000235               0.553299   \n",
       "25  000090e7c8                  0.000000               0.558376   \n",
       "26  000118a755                  0.000000               0.548223   \n",
       "29  000296842d                  0.001685               0.548223   \n",
       "\n",
       "    zapping_percentage  average_movies_per_month  \\\n",
       "0             0.000000                  0.000000   \n",
       "1             0.451389                  0.044959   \n",
       "25            0.000000                  0.000000   \n",
       "26            0.000000                  0.008174   \n",
       "29            0.464286                  0.024523   \n",
       "\n",
       "    average_time_between_watches  content_diversity_index  favorite_genre  \\\n",
       "0                       0.000000                 0.090909               5   \n",
       "1                       0.006037                 0.590909               0   \n",
       "25                      0.000000                 0.090909              14   \n",
       "26                      0.000314                 0.045455              11   \n",
       "29                      0.000625                 0.136364               7   \n",
       "\n",
       "    time_of_day  movie_preference  favorite_season Cluster  \n",
       "0             2                 0                3          \n",
       "1             2                 1                2          \n",
       "25            2                 1                1          \n",
       "26            2                 1                2          \n",
       "29            2                 1                3          "
      ]
     },
     "execution_count": 606,
     "metadata": {},
     "output_type": "execute_result"
    }
   ],
   "source": [
    "#Create an empty column to add to the dataframe\n",
    "data_norm_reduced['Cluster'] = data_norm_reduced.apply(lambda _: '', axis=1)\n",
    "data_norm_reduced.head()"
   ]
  },
  {
   "cell_type": "code",
   "execution_count": 629,
   "metadata": {},
   "outputs": [],
   "source": [
    "#Fill the column with the corresponding cluster for each customer\n",
    "data_norm_reduced['Cluster'] = cluster_assignments[:, 0]+1"
   ]
  },
  {
   "cell_type": "code",
   "execution_count": 630,
   "metadata": {},
   "outputs": [
    {
     "data": {
      "text/plain": [
       "0     1\n",
       "1     1\n",
       "25    1\n",
       "26    1\n",
       "29    1\n",
       "Name: Cluster, dtype: object"
      ]
     },
     "execution_count": 630,
     "metadata": {},
     "output_type": "execute_result"
    }
   ],
   "source": [
    "data_norm_reduced['Cluster'].head()"
   ]
  },
  {
   "cell_type": "code",
   "execution_count": null,
   "metadata": {},
   "outputs": [],
   "source": [
    "data_norm_reduced.columns #the features to choose from"
   ]
  },
  {
   "cell_type": "code",
   "execution_count": 632,
   "metadata": {},
   "outputs": [
    {
     "data": {
      "text/plain": [
       "Index(['user_id', 'average_duration_per_day', 'ratio_weekend_weekday',\n",
       "       'zapping_percentage', 'average_movies_per_month',\n",
       "       'average_time_between_watches', 'content_diversity_index',\n",
       "       'favorite_genre', 'time_of_day', 'movie_preference', 'favorite_season',\n",
       "       'Cluster'],\n",
       "      dtype='object')"
      ]
     },
     "execution_count": 632,
     "metadata": {},
     "output_type": "execute_result"
    }
   ],
   "source": [
    "data_norm_reduced.columns"
   ]
  },
  {
   "cell_type": "markdown",
   "metadata": {},
   "source": [
    "#### 1. Select 2-3 variables you think are relevant to identify the cluster of the customer. "
   ]
  },
  {
   "cell_type": "code",
   "execution_count": 633,
   "metadata": {},
   "outputs": [
    {
     "data": {
      "text/html": [
       "<div>\n",
       "<style scoped>\n",
       "    .dataframe tbody tr th:only-of-type {\n",
       "        vertical-align: middle;\n",
       "    }\n",
       "\n",
       "    .dataframe tbody tr th {\n",
       "        vertical-align: top;\n",
       "    }\n",
       "\n",
       "    .dataframe thead th {\n",
       "        text-align: right;\n",
       "    }\n",
       "</style>\n",
       "<table border=\"1\" class=\"dataframe\">\n",
       "  <thead>\n",
       "    <tr style=\"text-align: right;\">\n",
       "      <th></th>\n",
       "      <th>ratio_weekend_weekday</th>\n",
       "      <th>average_duration_per_day</th>\n",
       "      <th>zapping_percentage</th>\n",
       "      <th>Cluster</th>\n",
       "    </tr>\n",
       "  </thead>\n",
       "  <tbody>\n",
       "    <tr>\n",
       "      <th>0</th>\n",
       "      <td>0.558376</td>\n",
       "      <td>0.000000</td>\n",
       "      <td>0.000000</td>\n",
       "      <td>1</td>\n",
       "    </tr>\n",
       "    <tr>\n",
       "      <th>1</th>\n",
       "      <td>0.553299</td>\n",
       "      <td>0.000235</td>\n",
       "      <td>0.451389</td>\n",
       "      <td>1</td>\n",
       "    </tr>\n",
       "    <tr>\n",
       "      <th>25</th>\n",
       "      <td>0.558376</td>\n",
       "      <td>0.000000</td>\n",
       "      <td>0.000000</td>\n",
       "      <td>1</td>\n",
       "    </tr>\n",
       "    <tr>\n",
       "      <th>26</th>\n",
       "      <td>0.548223</td>\n",
       "      <td>0.000000</td>\n",
       "      <td>0.000000</td>\n",
       "      <td>1</td>\n",
       "    </tr>\n",
       "    <tr>\n",
       "      <th>29</th>\n",
       "      <td>0.548223</td>\n",
       "      <td>0.001685</td>\n",
       "      <td>0.464286</td>\n",
       "      <td>1</td>\n",
       "    </tr>\n",
       "  </tbody>\n",
       "</table>\n",
       "</div>"
      ],
      "text/plain": [
       "    ratio_weekend_weekday  average_duration_per_day  zapping_percentage  \\\n",
       "0                0.558376                  0.000000            0.000000   \n",
       "1                0.553299                  0.000235            0.451389   \n",
       "25               0.558376                  0.000000            0.000000   \n",
       "26               0.548223                  0.000000            0.000000   \n",
       "29               0.548223                  0.001685            0.464286   \n",
       "\n",
       "   Cluster  \n",
       "0        1  \n",
       "1        1  \n",
       "25       1  \n",
       "26       1  \n",
       "29       1  "
      ]
     },
     "execution_count": 633,
     "metadata": {},
     "output_type": "execute_result"
    }
   ],
   "source": [
    "#Select variables we think are important to identify a cluster\n",
    "data1 = pd.DataFrame(data_norm_reduced, columns=['ratio_weekend_weekday', 'average_duration_per_day', 'zapping_percentage', 'Cluster'])\n",
    "data1.head()"
   ]
  },
  {
   "cell_type": "markdown",
   "metadata": {},
   "source": [
    "#### 2. Most of your selected variables will be numerical (continuous or discrete), then categorise them into four categories."
   ]
  },
  {
   "cell_type": "code",
   "execution_count": 634,
   "metadata": {},
   "outputs": [],
   "source": [
    "#Add a column with the respective category for each numerical variable \n",
    "data1['Categories_ratio_weekend_weekday'] = pd.cut(data1['ratio_weekend_weekday'], [0, .25, .5, .75, 1.], labels=[1,2,3,4], include_lowest=True) \n",
    "data1['Categories_average_duration_per_day'] = pd.cut(data1['average_duration_per_day'], [0, .25, .5, .75, 1.], labels=[1,2,3,4],include_lowest=True)\n",
    "data1['Categories_zapping_percentage'] = pd.cut(data1['zapping_percentage'], [0, .25, .5, .75, 1.], labels=[1,2,3,4],include_lowest=True)"
   ]
  },
  {
   "cell_type": "code",
   "execution_count": 635,
   "metadata": {},
   "outputs": [
    {
     "data": {
      "text/plain": [
       "0     3\n",
       "1     3\n",
       "25    3\n",
       "26    3\n",
       "29    3\n",
       "Name: Categories_ratio_weekend_weekday, dtype: category\n",
       "Categories (4, int64): [1 < 2 < 3 < 4]"
      ]
     },
     "execution_count": 635,
     "metadata": {},
     "output_type": "execute_result"
    }
   ],
   "source": [
    "data1['Categories_ratio_weekend_weekday'].head()"
   ]
  },
  {
   "cell_type": "code",
   "execution_count": 636,
   "metadata": {},
   "outputs": [
    {
     "data": {
      "text/plain": [
       "0     1\n",
       "1     1\n",
       "25    1\n",
       "26    1\n",
       "29    1\n",
       "Name: Categories_average_duration_per_day, dtype: category\n",
       "Categories (4, int64): [1 < 2 < 3 < 4]"
      ]
     },
     "execution_count": 636,
     "metadata": {},
     "output_type": "execute_result"
    }
   ],
   "source": [
    "data1['Categories_average_duration_per_day'].head()"
   ]
  },
  {
   "cell_type": "code",
   "execution_count": 637,
   "metadata": {},
   "outputs": [
    {
     "data": {
      "text/plain": [
       "0     1\n",
       "1     2\n",
       "25    1\n",
       "26    1\n",
       "29    2\n",
       "Name: Categories_zapping_percentage, dtype: category\n",
       "Categories (4, int64): [1 < 2 < 3 < 4]"
      ]
     },
     "execution_count": 637,
     "metadata": {},
     "output_type": "execute_result"
    }
   ],
   "source": [
    "data1['Categories_zapping_percentage'].head()"
   ]
  },
  {
   "cell_type": "code",
   "execution_count": 638,
   "metadata": {},
   "outputs": [
    {
     "data": {
      "text/html": [
       "<div>\n",
       "<style scoped>\n",
       "    .dataframe tbody tr th:only-of-type {\n",
       "        vertical-align: middle;\n",
       "    }\n",
       "\n",
       "    .dataframe tbody tr th {\n",
       "        vertical-align: top;\n",
       "    }\n",
       "\n",
       "    .dataframe thead th {\n",
       "        text-align: right;\n",
       "    }\n",
       "</style>\n",
       "<table border=\"1\" class=\"dataframe\">\n",
       "  <thead>\n",
       "    <tr style=\"text-align: right;\">\n",
       "      <th></th>\n",
       "      <th>ratio_weekend_weekday</th>\n",
       "      <th>average_duration_per_day</th>\n",
       "      <th>zapping_percentage</th>\n",
       "      <th>Cluster</th>\n",
       "      <th>Categories_ratio_weekend_weekday</th>\n",
       "      <th>Categories_average_duration_per_day</th>\n",
       "      <th>Categories_zapping_percentage</th>\n",
       "    </tr>\n",
       "  </thead>\n",
       "  <tbody>\n",
       "    <tr>\n",
       "      <th>0</th>\n",
       "      <td>0.558376</td>\n",
       "      <td>0.000000</td>\n",
       "      <td>0.000000</td>\n",
       "      <td>1</td>\n",
       "      <td>3</td>\n",
       "      <td>1</td>\n",
       "      <td>1</td>\n",
       "    </tr>\n",
       "    <tr>\n",
       "      <th>1</th>\n",
       "      <td>0.553299</td>\n",
       "      <td>0.000235</td>\n",
       "      <td>0.451389</td>\n",
       "      <td>1</td>\n",
       "      <td>3</td>\n",
       "      <td>1</td>\n",
       "      <td>2</td>\n",
       "    </tr>\n",
       "    <tr>\n",
       "      <th>25</th>\n",
       "      <td>0.558376</td>\n",
       "      <td>0.000000</td>\n",
       "      <td>0.000000</td>\n",
       "      <td>1</td>\n",
       "      <td>3</td>\n",
       "      <td>1</td>\n",
       "      <td>1</td>\n",
       "    </tr>\n",
       "    <tr>\n",
       "      <th>26</th>\n",
       "      <td>0.548223</td>\n",
       "      <td>0.000000</td>\n",
       "      <td>0.000000</td>\n",
       "      <td>1</td>\n",
       "      <td>3</td>\n",
       "      <td>1</td>\n",
       "      <td>1</td>\n",
       "    </tr>\n",
       "    <tr>\n",
       "      <th>29</th>\n",
       "      <td>0.548223</td>\n",
       "      <td>0.001685</td>\n",
       "      <td>0.464286</td>\n",
       "      <td>1</td>\n",
       "      <td>3</td>\n",
       "      <td>1</td>\n",
       "      <td>2</td>\n",
       "    </tr>\n",
       "  </tbody>\n",
       "</table>\n",
       "</div>"
      ],
      "text/plain": [
       "    ratio_weekend_weekday  average_duration_per_day  zapping_percentage  \\\n",
       "0                0.558376                  0.000000            0.000000   \n",
       "1                0.553299                  0.000235            0.451389   \n",
       "25               0.558376                  0.000000            0.000000   \n",
       "26               0.548223                  0.000000            0.000000   \n",
       "29               0.548223                  0.001685            0.464286   \n",
       "\n",
       "   Cluster Categories_ratio_weekend_weekday  \\\n",
       "0        1                                3   \n",
       "1        1                                3   \n",
       "25       1                                3   \n",
       "26       1                                3   \n",
       "29       1                                3   \n",
       "\n",
       "   Categories_average_duration_per_day Categories_zapping_percentage  \n",
       "0                                    1                             1  \n",
       "1                                    1                             2  \n",
       "25                                   1                             1  \n",
       "26                                   1                             1  \n",
       "29                                   1                             2  "
      ]
     },
     "execution_count": 638,
     "metadata": {},
     "output_type": "execute_result"
    }
   ],
   "source": [
    "data1.head()"
   ]
  },
  {
   "cell_type": "markdown",
   "metadata": {},
   "source": [
    "#### 3. With the selected variables, perform pivot tables. On the horizontal axis, you will have the clusters, and on the vertical axis, you will have the categories of each variable. Notice that you have to do one pivot table per variable."
   ]
  },
  {
   "cell_type": "code",
   "execution_count": 639,
   "metadata": {},
   "outputs": [
    {
     "data": {
      "text/html": [
       "<div>\n",
       "<style scoped>\n",
       "    .dataframe tbody tr th:only-of-type {\n",
       "        vertical-align: middle;\n",
       "    }\n",
       "\n",
       "    .dataframe tbody tr th {\n",
       "        vertical-align: top;\n",
       "    }\n",
       "\n",
       "    .dataframe thead th {\n",
       "        text-align: right;\n",
       "    }\n",
       "</style>\n",
       "<table border=\"1\" class=\"dataframe\">\n",
       "  <thead>\n",
       "    <tr style=\"text-align: right;\">\n",
       "      <th>Categories_ratio_weekend_weekday</th>\n",
       "      <th>1</th>\n",
       "      <th>2</th>\n",
       "      <th>3</th>\n",
       "      <th>4</th>\n",
       "    </tr>\n",
       "    <tr>\n",
       "      <th>Cluster</th>\n",
       "      <th></th>\n",
       "      <th></th>\n",
       "      <th></th>\n",
       "      <th></th>\n",
       "    </tr>\n",
       "  </thead>\n",
       "  <tbody>\n",
       "    <tr>\n",
       "      <th>1</th>\n",
       "      <td>15</td>\n",
       "      <td>1902</td>\n",
       "      <td>93999</td>\n",
       "      <td>1</td>\n",
       "    </tr>\n",
       "    <tr>\n",
       "      <th>2</th>\n",
       "      <td>0</td>\n",
       "      <td>1</td>\n",
       "      <td>2410</td>\n",
       "      <td>0</td>\n",
       "    </tr>\n",
       "    <tr>\n",
       "      <th>3</th>\n",
       "      <td>0</td>\n",
       "      <td>405</td>\n",
       "      <td>55654</td>\n",
       "      <td>1</td>\n",
       "    </tr>\n",
       "  </tbody>\n",
       "</table>\n",
       "</div>"
      ],
      "text/plain": [
       "Categories_ratio_weekend_weekday   1     2      3  4\n",
       "Cluster                                             \n",
       "1                                 15  1902  93999  1\n",
       "2                                  0     1   2410  0\n",
       "3                                  0   405  55654  1"
      ]
     },
     "execution_count": 639,
     "metadata": {},
     "output_type": "execute_result"
    }
   ],
   "source": [
    "data1.pivot_table('ratio_weekend_weekday', ['Cluster'], ['Categories_ratio_weekend_weekday'], aggfunc={'Categories_ratio_weekend_weekday':'count'})"
   ]
  },
  {
   "cell_type": "code",
   "execution_count": 640,
   "metadata": {},
   "outputs": [
    {
     "data": {
      "text/html": [
       "<div>\n",
       "<style scoped>\n",
       "    .dataframe tbody tr th:only-of-type {\n",
       "        vertical-align: middle;\n",
       "    }\n",
       "\n",
       "    .dataframe tbody tr th {\n",
       "        vertical-align: top;\n",
       "    }\n",
       "\n",
       "    .dataframe thead th {\n",
       "        text-align: right;\n",
       "    }\n",
       "</style>\n",
       "<table border=\"1\" class=\"dataframe\">\n",
       "  <thead>\n",
       "    <tr style=\"text-align: right;\">\n",
       "      <th>Categories_average_duration_per_day</th>\n",
       "      <th>1</th>\n",
       "      <th>2</th>\n",
       "      <th>3</th>\n",
       "      <th>4</th>\n",
       "    </tr>\n",
       "    <tr>\n",
       "      <th>Cluster</th>\n",
       "      <th></th>\n",
       "      <th></th>\n",
       "      <th></th>\n",
       "      <th></th>\n",
       "    </tr>\n",
       "  </thead>\n",
       "  <tbody>\n",
       "    <tr>\n",
       "      <th>1</th>\n",
       "      <td>95917</td>\n",
       "      <td>0</td>\n",
       "      <td>0</td>\n",
       "      <td>0</td>\n",
       "    </tr>\n",
       "    <tr>\n",
       "      <th>2</th>\n",
       "      <td>2350</td>\n",
       "      <td>55</td>\n",
       "      <td>4</td>\n",
       "      <td>2</td>\n",
       "    </tr>\n",
       "    <tr>\n",
       "      <th>3</th>\n",
       "      <td>56060</td>\n",
       "      <td>0</td>\n",
       "      <td>0</td>\n",
       "      <td>0</td>\n",
       "    </tr>\n",
       "  </tbody>\n",
       "</table>\n",
       "</div>"
      ],
      "text/plain": [
       "Categories_average_duration_per_day      1   2  3  4\n",
       "Cluster                                             \n",
       "1                                    95917   0  0  0\n",
       "2                                     2350  55  4  2\n",
       "3                                    56060   0  0  0"
      ]
     },
     "execution_count": 640,
     "metadata": {},
     "output_type": "execute_result"
    }
   ],
   "source": [
    "data1.pivot_table('average_duration_per_day', ['Cluster'], ['Categories_average_duration_per_day'],aggfunc={'Categories_average_duration_per_day':'count'})"
   ]
  },
  {
   "cell_type": "code",
   "execution_count": 641,
   "metadata": {},
   "outputs": [
    {
     "data": {
      "text/html": [
       "<div>\n",
       "<style scoped>\n",
       "    .dataframe tbody tr th:only-of-type {\n",
       "        vertical-align: middle;\n",
       "    }\n",
       "\n",
       "    .dataframe tbody tr th {\n",
       "        vertical-align: top;\n",
       "    }\n",
       "\n",
       "    .dataframe thead th {\n",
       "        text-align: right;\n",
       "    }\n",
       "</style>\n",
       "<table border=\"1\" class=\"dataframe\">\n",
       "  <thead>\n",
       "    <tr style=\"text-align: right;\">\n",
       "      <th>Categories_zapping_percentage</th>\n",
       "      <th>1</th>\n",
       "      <th>2</th>\n",
       "      <th>3</th>\n",
       "      <th>4</th>\n",
       "    </tr>\n",
       "    <tr>\n",
       "      <th>Cluster</th>\n",
       "      <th></th>\n",
       "      <th></th>\n",
       "      <th></th>\n",
       "      <th></th>\n",
       "    </tr>\n",
       "  </thead>\n",
       "  <tbody>\n",
       "    <tr>\n",
       "      <th>1</th>\n",
       "      <td>75870</td>\n",
       "      <td>12515</td>\n",
       "      <td>7036</td>\n",
       "      <td>496</td>\n",
       "    </tr>\n",
       "    <tr>\n",
       "      <th>2</th>\n",
       "      <td>2175</td>\n",
       "      <td>102</td>\n",
       "      <td>133</td>\n",
       "      <td>1</td>\n",
       "    </tr>\n",
       "    <tr>\n",
       "      <th>3</th>\n",
       "      <td>46874</td>\n",
       "      <td>5555</td>\n",
       "      <td>3425</td>\n",
       "      <td>206</td>\n",
       "    </tr>\n",
       "  </tbody>\n",
       "</table>\n",
       "</div>"
      ],
      "text/plain": [
       "Categories_zapping_percentage      1      2     3    4\n",
       "Cluster                                               \n",
       "1                              75870  12515  7036  496\n",
       "2                               2175    102   133    1\n",
       "3                              46874   5555  3425  206"
      ]
     },
     "execution_count": 641,
     "metadata": {},
     "output_type": "execute_result"
    }
   ],
   "source": [
    "data1.pivot_table('zapping_percentage', ['Cluster'], ['Categories_zapping_percentage'], aggfunc={'Categories_zapping_percentage':'count'})"
   ]
  },
  {
   "cell_type": "markdown",
   "metadata": {},
   "source": [
    "#### 4. Calculate the percentage by column for each pivot table. The sum of each row (cluster) must be 100."
   ]
  },
  {
   "cell_type": "code",
   "execution_count": 642,
   "metadata": {},
   "outputs": [
    {
     "data": {
      "text/html": [
       "<div>\n",
       "<style scoped>\n",
       "    .dataframe tbody tr th:only-of-type {\n",
       "        vertical-align: middle;\n",
       "    }\n",
       "\n",
       "    .dataframe tbody tr th {\n",
       "        vertical-align: top;\n",
       "    }\n",
       "\n",
       "    .dataframe thead th {\n",
       "        text-align: right;\n",
       "    }\n",
       "</style>\n",
       "<table border=\"1\" class=\"dataframe\">\n",
       "  <thead>\n",
       "    <tr style=\"text-align: right;\">\n",
       "      <th>Categories_ratio_weekend_weekday</th>\n",
       "      <th>1</th>\n",
       "      <th>2</th>\n",
       "      <th>3</th>\n",
       "      <th>4</th>\n",
       "    </tr>\n",
       "    <tr>\n",
       "      <th>Cluster</th>\n",
       "      <th></th>\n",
       "      <th></th>\n",
       "      <th></th>\n",
       "      <th></th>\n",
       "    </tr>\n",
       "  </thead>\n",
       "  <tbody>\n",
       "    <tr>\n",
       "      <th>1</th>\n",
       "      <td>0.015639</td>\n",
       "      <td>1.982964</td>\n",
       "      <td>98.000354</td>\n",
       "      <td>0.001043</td>\n",
       "    </tr>\n",
       "    <tr>\n",
       "      <th>2</th>\n",
       "      <td>0.000000</td>\n",
       "      <td>0.041477</td>\n",
       "      <td>99.958523</td>\n",
       "      <td>0.000000</td>\n",
       "    </tr>\n",
       "    <tr>\n",
       "      <th>3</th>\n",
       "      <td>0.000000</td>\n",
       "      <td>0.722440</td>\n",
       "      <td>99.275776</td>\n",
       "      <td>0.001784</td>\n",
       "    </tr>\n",
       "  </tbody>\n",
       "</table>\n",
       "</div>"
      ],
      "text/plain": [
       "Categories_ratio_weekend_weekday         1         2          3         4\n",
       "Cluster                                                                  \n",
       "1                                 0.015639  1.982964  98.000354  0.001043\n",
       "2                                 0.000000  0.041477  99.958523  0.000000\n",
       "3                                 0.000000  0.722440  99.275776  0.001784"
      ]
     },
     "execution_count": 642,
     "metadata": {},
     "output_type": "execute_result"
    }
   ],
   "source": [
    "table=data1.pivot_table('ratio_weekend_weekday', ['Cluster'], ['Categories_ratio_weekend_weekday'], aggfunc={'Categories_ratio_weekend_weekday':'count'})\n",
    "# Calculate percentages\n",
    "table_percentage = table.div(table.sum(axis=1), axis=0) * 100\n",
    "table_percentage"
   ]
  },
  {
   "cell_type": "code",
   "execution_count": 643,
   "metadata": {},
   "outputs": [
    {
     "data": {
      "text/html": [
       "<div>\n",
       "<style scoped>\n",
       "    .dataframe tbody tr th:only-of-type {\n",
       "        vertical-align: middle;\n",
       "    }\n",
       "\n",
       "    .dataframe tbody tr th {\n",
       "        vertical-align: top;\n",
       "    }\n",
       "\n",
       "    .dataframe thead th {\n",
       "        text-align: right;\n",
       "    }\n",
       "</style>\n",
       "<table border=\"1\" class=\"dataframe\">\n",
       "  <thead>\n",
       "    <tr style=\"text-align: right;\">\n",
       "      <th>Categories_average_duration_per_day</th>\n",
       "      <th>1</th>\n",
       "      <th>2</th>\n",
       "      <th>3</th>\n",
       "      <th>4</th>\n",
       "    </tr>\n",
       "    <tr>\n",
       "      <th>Cluster</th>\n",
       "      <th></th>\n",
       "      <th></th>\n",
       "      <th></th>\n",
       "      <th></th>\n",
       "    </tr>\n",
       "  </thead>\n",
       "  <tbody>\n",
       "    <tr>\n",
       "      <th>1</th>\n",
       "      <td>100.000000</td>\n",
       "      <td>0.000000</td>\n",
       "      <td>0.000000</td>\n",
       "      <td>0.000000</td>\n",
       "    </tr>\n",
       "    <tr>\n",
       "      <th>2</th>\n",
       "      <td>97.469929</td>\n",
       "      <td>2.281211</td>\n",
       "      <td>0.165906</td>\n",
       "      <td>0.082953</td>\n",
       "    </tr>\n",
       "    <tr>\n",
       "      <th>3</th>\n",
       "      <td>100.000000</td>\n",
       "      <td>0.000000</td>\n",
       "      <td>0.000000</td>\n",
       "      <td>0.000000</td>\n",
       "    </tr>\n",
       "  </tbody>\n",
       "</table>\n",
       "</div>"
      ],
      "text/plain": [
       "Categories_average_duration_per_day           1         2         3         4\n",
       "Cluster                                                                      \n",
       "1                                    100.000000  0.000000  0.000000  0.000000\n",
       "2                                     97.469929  2.281211  0.165906  0.082953\n",
       "3                                    100.000000  0.000000  0.000000  0.000000"
      ]
     },
     "execution_count": 643,
     "metadata": {},
     "output_type": "execute_result"
    }
   ],
   "source": [
    "table=data1.pivot_table('average_duration_per_day', ['Cluster'], ['Categories_average_duration_per_day'],aggfunc={'Categories_average_duration_per_day':'count'})\n",
    "# Calculate percentages\n",
    "table_percentage = table.div(table.sum(axis=1), axis=0) * 100\n",
    "table_percentage"
   ]
  },
  {
   "cell_type": "code",
   "execution_count": 644,
   "metadata": {},
   "outputs": [
    {
     "data": {
      "text/html": [
       "<div>\n",
       "<style scoped>\n",
       "    .dataframe tbody tr th:only-of-type {\n",
       "        vertical-align: middle;\n",
       "    }\n",
       "\n",
       "    .dataframe tbody tr th {\n",
       "        vertical-align: top;\n",
       "    }\n",
       "\n",
       "    .dataframe thead th {\n",
       "        text-align: right;\n",
       "    }\n",
       "</style>\n",
       "<table border=\"1\" class=\"dataframe\">\n",
       "  <thead>\n",
       "    <tr style=\"text-align: right;\">\n",
       "      <th>Categories_zapping_percentage</th>\n",
       "      <th>1</th>\n",
       "      <th>2</th>\n",
       "      <th>3</th>\n",
       "      <th>4</th>\n",
       "    </tr>\n",
       "    <tr>\n",
       "      <th>Cluster</th>\n",
       "      <th></th>\n",
       "      <th></th>\n",
       "      <th></th>\n",
       "      <th></th>\n",
       "    </tr>\n",
       "  </thead>\n",
       "  <tbody>\n",
       "    <tr>\n",
       "      <th>1</th>\n",
       "      <td>79.099638</td>\n",
       "      <td>13.047739</td>\n",
       "      <td>7.335509</td>\n",
       "      <td>0.517114</td>\n",
       "    </tr>\n",
       "    <tr>\n",
       "      <th>2</th>\n",
       "      <td>90.211530</td>\n",
       "      <td>4.230610</td>\n",
       "      <td>5.516383</td>\n",
       "      <td>0.041477</td>\n",
       "    </tr>\n",
       "    <tr>\n",
       "      <th>3</th>\n",
       "      <td>83.613985</td>\n",
       "      <td>9.909026</td>\n",
       "      <td>6.109526</td>\n",
       "      <td>0.367463</td>\n",
       "    </tr>\n",
       "  </tbody>\n",
       "</table>\n",
       "</div>"
      ],
      "text/plain": [
       "Categories_zapping_percentage          1          2         3         4\n",
       "Cluster                                                                \n",
       "1                              79.099638  13.047739  7.335509  0.517114\n",
       "2                              90.211530   4.230610  5.516383  0.041477\n",
       "3                              83.613985   9.909026  6.109526  0.367463"
      ]
     },
     "execution_count": 644,
     "metadata": {},
     "output_type": "execute_result"
    }
   ],
   "source": [
    "table=data1.pivot_table('zapping_percentage', ['Cluster'], ['Categories_zapping_percentage'], aggfunc={'Categories_zapping_percentage':'count'})\n",
    "# Calculate percentages\n",
    "table_percentage = table.div(table.sum(axis=1), axis=0) * 100\n",
    "table_percentage"
   ]
  },
  {
   "cell_type": "markdown",
   "metadata": {},
   "source": [
    "#### 5. Interpret the results for each pivot table."
   ]
  },
  {
   "cell_type": "markdown",
   "metadata": {},
   "source": [
    "Each value in the pivot table represents the percentage of each category of a variable in the cluster of the corresponding row. For example, in the last pivot table, 83.61% is the percentage of values of the variable 'zapping_percentage' which are in the first category and in the third cluster. As we can easily calculate the sum of each row is 100 which means that every element of each cluster belongs to a category.\n",
    "\n",
    "It seems like you've provided a detailed analysis of three pivot tables related to different features in a clustering algorithm. While your analysis is informative, I can help you refine and structure it for clarity. Here's a revised version:\n",
    "\n",
    "**1. ratio_weekend_weekday Pivot Table:**\n",
    "   - Predominance in the third category is observed across all clusters.\n",
    "   - Notable distinctions:\n",
    "      - Clusters 2 and 3 lack values in the first category.\n",
    "      - Cluster 1 is distinct in having values in the first category.\n",
    "\n",
    "**2. average_duration_per_day Pivot Table:**\n",
    "   - Concentration of values in the first category.\n",
    "   - Cluster differences:\n",
    "      - Only cluster 2 contains values in the remaining three categories.\n",
    "\n",
    "**3. zapping_percentage Pivot Table:**\n",
    "   - Less evident imbalance compared to the other features.\n",
    "   - Similar percentages for category 1 across all clusters, indicating minimal cluster-based variations.\n",
    "   \n",
    "**Overall Importance in Clustering Algorithm:**\n",
    "   - Zapping_percentage seems less crucial due to consistent percentages across clusters.\n",
    "   - Ratio_weekend_weekday and average_duration_per_day exhibit more pronounced cluster-specific patterns.\n",
    "   - While the first two features show significant cluster differences, neither appears to be a sole determinant in the clustering decision.\n",
    "\n",
    "**Conclusion:**\n",
    "   - Ratio_weekend_weekday and average_duration_per_day contribute more substantially to clustering decisions, with discernible cluster-specific variations.\n",
    "   - Zapping_percentage, while less impactful, still provides information, albeit with less variation between clusters."
   ]
  },
  {
   "cell_type": "markdown",
   "metadata": {},
   "source": [
    "#### 6. Use any known metrics to estimate clustering algorithm performance (how good are the clusters you found?)."
   ]
  },
  {
   "cell_type": "markdown",
   "metadata": {},
   "source": [
    "The silhouette Coefficient is the most popular evaluation metrics for clustering algorithms. The formula is the following one: $$s = \\frac{b-a}{max(b-a)}$$ <br> where **a** is the mean distance between a sample and all other points in the same cluster while **b** is the mean distance between a sample and all other points in the next nearest cluster. <br> The score is bounded between $[-1, 1]$ where -1 means incorrect clustering and 1 means highly dense and wellseparated clusters. 0 means overlapping clusters. "
   ]
  },
  {
   "cell_type": "code",
   "execution_count": 645,
   "metadata": {},
   "outputs": [],
   "source": [
    "from sklearn.metrics import silhouette_score"
   ]
  },
  {
   "cell_type": "code",
   "execution_count": 649,
   "metadata": {},
   "outputs": [
    {
     "data": {
      "text/plain": [
       "0.15600455514076547"
      ]
     },
     "execution_count": 649,
     "metadata": {},
     "output_type": "execute_result"
    }
   ],
   "source": [
    "silhouette_score(data_reduced, cluster_assignments[:, 0], metric='euclidean',sample_size=100000)"
   ]
  },
  {
   "cell_type": "markdown",
   "metadata": {},
   "source": [
    "To evaluate the clustering we obtained, we used the silhouette score but given the dimensions of the data matrix we had to take just a sample (with size = 100000) to make it run in reasonable time. The result is encouraging, it is bigger than zero which means our clustering goes in the right direction but there might be a little overlapping."
   ]
  },
  {
   "cell_type": "markdown",
   "metadata": {},
   "source": [
    "# 4. Command Line Question (CLQ)"
   ]
  },
  {
   "cell_type": "markdown",
   "metadata": {},
   "source": [
    "**What is the most-watched Netflix title?**"
   ]
  },
  {
   "cell_type": "code",
   "execution_count": null,
   "metadata": {},
   "outputs": [],
   "source": [
    "awk -F, '{print $4}' dataset.csv | sort | uniq -c | sort -nr | head -n 1"
   ]
  },
  {
   "cell_type": "markdown",
   "metadata": {},
   "source": [
    "**Provide the ID of the user that has spent the most time on Netflix**"
   ]
  },
  {
   "cell_type": "code",
   "execution_count": null,
   "metadata": {},
   "outputs": [],
   "source": [
    "awk -F, '{duration[$NF] += $3} END {for (id in duration) print duration[id], id}' dataset.csv | sort -nr | head -n 1"
   ]
  },
  {
   "cell_type": "markdown",
   "metadata": {},
   "source": [
    "**Report the average time between subsequent clicks on Netflix.com**"
   ]
  },
  {
   "cell_type": "code",
   "execution_count": null,
   "metadata": {},
   "outputs": [],
   "source": [
    "awk -F, 'NR>1 {print $2}' dataset.csv | \n",
    "while read -r line; do \n",
    "    date -j -f \"%Y-%m-%d %T\" \"$line\" +%s\n",
    "done | \n",
    "awk 'NR>1 {print $1-prev} {prev=$1}' | \n",
    "awk '{sum+=$1; count+=1} END {if (count > 0) print sum/count}'\n"
   ]
  },
  {
   "cell_type": "markdown",
   "metadata": {},
   "source": [
    "# 5. Algorithmic Question (AQ)"
   ]
  },
  {
   "cell_type": "markdown",
   "metadata": {},
   "source": [
    "He was given an initial personal score of **S** when he enrolled, which changes every time he takes an exam: now comes the crazy part. He soon discovered that every of the **N** exams he has to take is assigned a mark **p**. Once he has chosen an exam, his score becomes equal to the mark **p**, and at the same time, the scoring system changes:\n",
    "\n",
    "-  If he takes an \"easy\" exam (the score of the exam being less than his score), every other exam's mark is increased by the quantity **S-p**.\n",
    "-  If he takes a \"hard\" exam (the score of the exam is greater than his score), every other exam's mark is decreased by the quantity **p-S**.\n",
    "\n",
    "\n",
    "In this chaotic university where the only real exam seems to be choosing the best way to take exams, you are the poor student advisor who is facing a long queue of confused people who need some help. Federico is next in line, and he comes up in turn with an inescapable question: he wants to know which is the highest score possible he could get.\n",
    "\n",
    "**a) Fortunately, you have a computer app designed by a brilliant student. Federico wants you to show him the code which this app is based on because he wants to do paid counseling for other desperate students: in a recursive fashion, the helped helps the helpable.**"
   ]
  },
  {
   "cell_type": "code",
   "execution_count": null,
   "metadata": {},
   "outputs": [],
   "source": [
    "def solution1(S,grades):\n",
    "    results=[]\n",
    "    #define the function that returns the list with all the possible outcomes\n",
    "    def function(grades,S,r):\n",
    "        for i in range(len(grades)):\n",
    "            #build the list with the new grades after taking one exam\n",
    "            changed_grades=[x+(S-grades[i]) for x in grades[:i]+grades[i+1:]]\n",
    "            if len(changed_grades)==1:\n",
    "                r.append(changed_grades[0])\n",
    "            else:\n",
    "                function(changed_grades, grades[i],r)\n",
    "        return r\n",
    "    #find the highest possible final grade\n",
    "    return(max(function(grades,S,[])))\n"
   ]
  },
  {
   "cell_type": "markdown",
   "metadata": {},
   "source": [
    "**b) Federico is getting angry because he claims that your code is slow! Show him formally with a big-O notation that he is as crazy as this university!**\n"
   ]
  },
  {
   "cell_type": "markdown",
   "metadata": {},
   "source": [
    "The time complexity of the provided code is O(N!) where N is the length of the list of initial grades. This is because the function `function(grades, S, r)` is recursively called for every element in the `grades` list, creating a new list for each call. \n",
    "\n",
    "The function essentially generates all permutations of the grades list. To be more specific, the function explores all possible outcomes of improving grades, which means it considers each possible sequence of exams a student could take. This is similar to generating all permutations of a list, which is known to have a time complexity of O(N!)\n",
    "Here is a step-by-step breakdown of the time complexity:\n",
    "\n",
    "1. The function is called once for each grade in the grades list, which gives us N recursive calls.\n",
    "2. For each recursive call, the function creates a new list `changed_grades` that excludes one grade and adds (S - grade[i]) to each remaining grade. This operation has a time complexity of O(N) as it needs to iterate over the list.\n",
    "3. Each recursive call then generates its own set of recursive calls, again one for each grade in the `changed_grades` list. This results in N! (N factorial) total function calls, since for each of the N grades there are (N-1) recursive calls, for each of those there are (N-2) calls, and so on down to 1.\n",
    "4. The function then finds the maximum value in the results list, which requires iterating over the list once and has a time complexity of O(N).\n",
    "\n",
    "Therefore, the overall time complexity is O(N!) due to the factorial number of recursive calls, each of which performs an operation that takes O(N) time. This is a worst-case scenario as it assumes that the recursive calls are not terminated early and all possible sequences of exams are explored."
   ]
  },
  {
   "cell_type": "markdown",
   "metadata": {},
   "source": [
    "**c) If, unfortunately, Federico is right in the grip of madness, he will threaten you to optimize the code through a different approach. You should end this theater of the absurd by any means! (And again, formally prove that you improved time complexity)**\n"
   ]
  },
  {
   "cell_type": "markdown",
   "metadata": {},
   "source": [
    "To find an optimized code let's analyze the problem further:\n",
    "\n",
    "1. Let's notice that it doesn't matter if the exam chosen next is \"easier\" or not because adding $S-p$ is equivalent to subtracting $p-S$. From now on we will only add $S-p$ when choosing a new exam\n",
    "\n",
    "2. Let's see some examples of the process to get better understanding of what is happening.\n",
    "    - initialize $S$ and $p=[p_1,p_2]$ and $p_1 \\leq p_2$\n",
    "        - randomly select $p_2$ so now: $S^1=p_2$ and $p^1=[p_1+S-p_2]=S^{final}$\n",
    "        - randomly select $p_1$ so now: $S^1=p_1$ and $p^1=[p_2+S-p_1]=S^{final}$\n",
    "\n",
    "        so the two possible final grades are $p_2+S-p_1$ or $p_1+S-p_2$ but since we are looking for the maximum we will select $p_2+S-p_1$ ($p_1 \\leq p_2$)\n",
    "    - initialize $S$ and $p=[p_1,p_2,p_3]$ and $p_1 \\leq p_2 \\leq p_3$\n",
    "        - randomly select $p_3$ so now: $S^1=p_3$ and $p^1=[p_1+S-p_3, p_2+S-p_3]$\n",
    "            - randomly select $p_2+S-p_3$ so now: $S^2=p_2+S-p_3$ and $p^2=[p_1+S-p_3+S^1-(p_2+S-p_3)]=[p_1+S-p_3+p_3-(p_2+S-p_3)]=[p_1+p_3-p_2]$\n",
    "            - randomly select $p_1+S-p_3$ so now: $S^2=p_1+S-p_3$ and $p^2=[p_2+S-p_3+S^1-(p_1+S-p_3)]=[p_2+S-p_3+p_3-(p_1+S-p_3)]=[p_2+p_3-p_1]$\n",
    "\n",
    "        choosing different paths will bring the same kind of result, where two grades are summed and one is subtracted and S doesn't come up in the final grade. So the maximum grade will of course be $p_2+p_3-p_1$\n",
    "3. We noticed there is a difference between the results where the number of grades is even or odd. Let's propose a solution and let's try to demonstrate it.\n",
    "$$S^{final, max} = \\sum^n_{j=\\frac{n-1}{2}+1}{p_j} - \\sum^{\\frac{n-1}{2}}_{j=1}{p_j} \\quad {when\\ n\\ is\\ odd}$$\n",
    "$$S^{final, max} = S + \\sum^n_{j=\\frac{n}{2}+1}{p_j} - \\sum^{\\frac{n}{2}}_{j=1}{p_j} \\quad {when\\ n\\ is\\ even}$$\n",
    "\n",
    "Let's show that if $n$ is odd then the final result does not depend from $S$. the algorithm has to make $n−1$ choices for the exams (the last is forced). Every 2 rounds of choices $S$ is added and subtracted (see previous example). $n-1$ is even so there is no $S$ in the final grade. Consequently, when $n$ is even, $S$ is added one last time.\n",
    "\n",
    "Now we prove our optimized algorithm using strong induction on the length $n$ of the vector of exams.\n",
    "- $n=1$ obvious\n",
    "- $n=2,3$ shown above\n",
    "\n",
    "By inductive hypothesis we have that the algorithm is right $\\forall k<n$ and the same parity (we are actually doing two different problems).\n",
    "\n",
    "Let's show when n is odd. In this case we can assume $S=0$ and $[p_1,p_2, ... , p_n]$ is in ascending order, We randomly choose $p_i$ as our first exam and adjust our list as $[p_1-p_i, ... , p_n-p_i]$ that now has $n-1$ grades ($n-1$ is even so we can't use the inductive hypotesis). Now we randomly choose $p_j-p_i$ as the next exam and adjust our list as $[p_1-p_j+p_i, ... , p_n-p_j+p_i]$ (calculations were shown before). Now we can use the hypotesis on the new list and say the maximum grade we can achieve is:\n",
    "$$S^{final, max} = \\sum^n_{k=\\frac{n-1}{2}+1, k\\not=i,j}{p_k-p_j+p_i} - \\sum^{\\frac{n-1}{2}}_{k=1, k\\not=i,j}{p_k-p_j+p_i} $$ \n",
    "In order to make the values of the grades in the list the greatest possible (so that the final grade is as highest as possible), we should consider $i=n$ and $j=1$. In this case the grade is the greatest possible and, rewriting the last formula, is in the form:\n",
    "\n",
    "\\begin{align*}\n",
    "S^{final, max} &= \\sum^n_{k=\\frac{n-1}{2}+1, k\\not=n}{p_k-p_1+p_n} - \\sum^{\\frac{n-1}{2}}_{k=1, k\\not=1}{p_k-p_1+p_n} \\\\\n",
    "&=(\\sum^n_{k=\\frac{n-1}{2}+1, k\\not=n}{p_k} - \\sum^{\\frac{n-1}{2}}_{k=1, k\\not=1}{p_k}) + (-p_1+p_n) \\\\\n",
    "&=(\\sum^n_{k=\\frac{n-1}{2}+1}{p_k} - \\sum^{\\frac{n-1}{2}}_{k=1}{p_k}) + (-p_1+p_n) - p_n + p_1 \\\\\n",
    "&=\\sum^n_{k=\\frac{n-1}{2}+1}{p_k} - \\sum^{\\frac{n-1}{2}}_{k=1}{p_k} \\\\\n",
    "\n",
    "\\end{align*}\n",
    "which concludes our proof. The reasoning is similar for even values of $n$.\n",
    "\n",
    "The code is simple:"
   ]
  },
  {
   "cell_type": "code",
   "execution_count": 1,
   "metadata": {},
   "outputs": [],
   "source": [
    "def solution2(S, grades):\n",
    "  n = len(grades)\n",
    "\n",
    "  # Sort the grades in ascending order\n",
    "  grades = sorted(grades)\n",
    "\n",
    "  # Lower half of the grades summed:\n",
    "  lower = sum([grades[i] for i in range(0, n // 2)])\n",
    "\n",
    "  # Upper half of the grades summed:\n",
    "  upper = sum([grades[i] for i in range(n // 2, n)]) \n",
    "\n",
    "  # following what we said earlier\n",
    "  if n % 2 == 0:  \n",
    "    return(S + upper - lower)\n",
    "    \n",
    "  if n % 2 == 1:\n",
    "    return(upper - lower)"
   ]
  },
  {
   "cell_type": "markdown",
   "metadata": {},
   "source": [
    "Let's analyze the time complexity of this code:\n",
    "\n",
    "- Sorting the grades: The sorting operation has a time complexity of O(n log n), where n is the number of grades.\n",
    "\n",
    "- Summing the lower half of grades: The sum operation involves iterating over the first half of the sorted list, which takes O(n/2) time in the worst case.\n",
    "\n",
    "- Summing the upper half of grades: Similarly, the sum operation for the second half of the sorted list takes O(n/2) time in the worst case.\n",
    "\n",
    "Therefore, the overall time complexity of the code is dominated by the sorting operation, and it is O(n log n)."
   ]
  },
  {
   "cell_type": "markdown",
   "metadata": {},
   "source": [
    "\n",
    "**d) Ask chatGPT for a third (optimized) implementation and analyze again its time complexity. Be careful (and crafty) in defining the prompt, and challenge the machine in this coding question!**"
   ]
  },
  {
   "cell_type": "markdown",
   "metadata": {},
   "source": [
    "This is the code that ChatGPT provided us"
   ]
  },
  {
   "cell_type": "code",
   "execution_count": null,
   "metadata": {},
   "outputs": [],
   "source": [
    "def solution_chatgpt(grades, current_score, memo):\n",
    "    # Base case: If no exams left, return the current score\n",
    "    if not grades:\n",
    "        return current_score\n",
    "\n",
    "    # Sort and convert to tuple for consistent memoization key\n",
    "    grades_key = tuple(sorted(grades))\n",
    "\n",
    "    # Check if this state has been computed before\n",
    "    if (grades_key, current_score) in memo:\n",
    "        return memo[(grades_key, current_score)]\n",
    "\n",
    "    max_score = 0\n",
    "    for i, grade in enumerate(grades):\n",
    "        new_score = grade\n",
    "        updated_grades = grades[:i] + grades[i+1:]\n",
    "\n",
    "        if grade < current_score:\n",
    "            updated_grades = [g + current_score - grade for g in updated_grades]\n",
    "        else:\n",
    "            updated_grades = [g - grade + current_score for g in updated_grades]\n",
    "\n",
    "        max_score = max(max_score, solution_chatgpt(updated_grades, new_score, memo))\n",
    "\n",
    "    memo[(grades_key, current_score)] = max_score\n",
    "    return max_score"
   ]
  },
  {
   "cell_type": "markdown",
   "metadata": {},
   "source": [
    "The time complexity of this recursive solution depends on the number of recursive calls and the work done within each call.\n",
    "\n",
    "- Recursive Calls: In the worst case, the function explores all possible combinations of grades, making a recursive call for each combination. The number of recursive calls is exponential in the number of grades, but memoization helps avoid redundant calculations.\n",
    "\n",
    "- Work within Each Call: For each recursive call, the function performs a constant amount of work, including sorting the grades, creating a tuple for memoization, and iterating through the grades. The dominant factor is the sorting operation, which has a time complexity of O(n log n), where n is the number of grades.\n",
    "\n",
    "Considering both factors, the overall time complexity is O(n!), where n is the number of grades. Memoization significantly reduces the actual computation time by avoiding redundant calculations.\n",
    "So it is somewhat better than solution1 but not solution2 which seems to be optimal."
   ]
  },
  {
   "cell_type": "markdown",
   "metadata": {},
   "source": [
    "**Solutions used on the examples in the homework** "
   ]
  },
  {
   "cell_type": "code",
   "execution_count": null,
   "metadata": {},
   "outputs": [],
   "source": [
    "S=8\n",
    "grades=[5,7,1]\n",
    "\n",
    "print('First Solution: ',solution1(S, grades))\n",
    "print('Second Solution: ',solution2(S, grades))\n",
    "print('ChatGPT Solution: ',solution_chatgpt(grades,S,{}))"
   ]
  },
  {
   "cell_type": "code",
   "execution_count": null,
   "metadata": {},
   "outputs": [],
   "source": [
    "S=25\n",
    "grades=[18, 24, 21, 32, 27]\n",
    "\n",
    "print('First Solution: ',solution1(S, grades))\n",
    "print('Second Solution: ',solution2(S, grades))\n",
    "print('ChatGPT Solution: ',solution_chatgpt(grades,S,{}))"
   ]
  },
  {
   "cell_type": "code",
   "execution_count": null,
   "metadata": {},
   "outputs": [],
   "source": [
    "S=30\n",
    "grades=[13, 27, 41, 59, 28, 33, 39, 19, 52, 48, 55, 79]\n",
    "\n",
    "\n",
    "print('Second Solution: ',solution2(S, grades))\n",
    "print('ChatGPT Solution: ',solution_chatgpt(grades,S,{}))"
   ]
  },
  {
   "cell_type": "markdown",
   "metadata": {},
   "source": [
    "We are not showing the results for the first solution because it will take too much time"
   ]
  }
 ],
 "metadata": {
  "kernelspec": {
   "display_name": "Python 3",
   "language": "python",
   "name": "python3"
  },
  "language_info": {
   "codemirror_mode": {
    "name": "ipython",
    "version": 3
   },
   "file_extension": ".py",
   "mimetype": "text/x-python",
   "name": "python",
   "nbconvert_exporter": "python",
   "pygments_lexer": "ipython3",
   "version": "3.7.6"
  }
 },
 "nbformat": 4,
 "nbformat_minor": 2
}
