{
 "cells": [
  {
   "cell_type": "markdown",
   "metadata": {},
   "source": [
    "He was given an initial personal score of **S** when he enrolled, which changes every time he takes an exam: now comes the crazy part. He soon discovered that every of the **N** exams he has to take is assigned a mark **p**. Once he has chosen an exam, his score becomes equal to the mark **p**, and at the same time, the scoring system changes:\n",
    "\n",
    "-  If he takes an \"easy\" exam (the score of the exam being less than his score), every other exam's mark is increased by the quantity **S-p**.\n",
    "-  If he takes a \"hard\" exam (the score of the exam is greater than his score), every other exam's mark is decreased by the quantity **p-S**.\n",
    "\n",
    "\n",
    "In this chaotic university where the only real exam seems to be choosing the best way to take exams, you are the poor student advisor who is facing a long queue of confused people who need some help. Federico is next in line, and he comes up in turn with an inescapable question: he wants to know which is the highest score possible he could get.\n",
    "\n",
    "**a) Fortunately, you have a computer app designed by a brilliant student. Federico wants you to show him the code which this app is based on because he wants to do paid counseling for other desperate students: in a recursive fashion, the helped helps the helpable.**"
   ]
  },
  {
   "cell_type": "code",
   "execution_count": 3,
   "metadata": {},
   "outputs": [],
   "source": [
    "def solution1(S,grades):\n",
    "    results=[]\n",
    "    #define the function that returns the list with all the possible outcomes\n",
    "    def function(grades,S,r):\n",
    "        for i in range(len(grades)):\n",
    "            #build the list with the new grades after taking one exam\n",
    "            changed_grades=[x+(S-grades[i]) for x in grades[:i]+grades[i+1:]]\n",
    "            if len(changed_grades)==1:\n",
    "                r.append(changed_grades[0])\n",
    "            else:\n",
    "                function(changed_grades, grades[i],r)\n",
    "        return r\n",
    "    #find the highest possible final grade\n",
    "    return(max(function(grades,S,[])))\n"
   ]
  },
  {
   "cell_type": "markdown",
   "metadata": {},
   "source": [
    "**b) Federico is getting angry because he claims that your code is slow! Show him formally with a big-O notation that he is as crazy as this university!**\n"
   ]
  },
  {
   "cell_type": "markdown",
   "metadata": {},
   "source": [
    "The time complexity of the provided code is O(N!) where N is the length of the list of initial grades. This is because the function `function(grades, S, r)` is recursively called for every element in the `grades` list, creating a new list for each call. \n",
    "\n",
    "The function essentially generates all permutations of the grades list. To be more specific, the function explores all possible outcomes of improving grades, which means it considers each possible sequence of exams a student could take. This is similar to generating all permutations of a list, which is known to have a time complexity of O(N!)\n",
    "Here is a step-by-step breakdown of the time complexity:\n",
    "\n",
    "1. The function is called once for each grade in the grades list, which gives us N recursive calls.\n",
    "2. For each recursive call, the function creates a new list `changed_grades` that excludes one grade and adds (S - grade[i]) to each remaining grade. This operation has a time complexity of O(N) as it needs to iterate over the list.\n",
    "3. Each recursive call then generates its own set of recursive calls, again one for each grade in the `changed_grades` list. This results in N! (N factorial) total function calls, since for each of the N grades there are (N-1) recursive calls, for each of those there are (N-2) calls, and so on down to 1.\n",
    "4. The function then finds the maximum value in the results list, which requires iterating over the list once and has a time complexity of O(N).\n",
    "\n",
    "Therefore, the overall time complexity is O(N!) due to the factorial number of recursive calls, each of which performs an operation that takes O(N) time. This is a worst-case scenario as it assumes that the recursive calls are not terminated early and all possible sequences of exams are explored."
   ]
  },
  {
   "cell_type": "markdown",
   "metadata": {},
   "source": [
    "**c) If, unfortunately, Federico is right in the grip of madness, he will threaten you to optimize the code through a different approach. You should end this theater of the absurd by any means! (And again, formally prove that you improved time complexity)**\n"
   ]
  },
  {
   "cell_type": "markdown",
   "metadata": {},
   "source": [
    "To find an optimized code let's analyze the problem further:\n",
    "\n",
    "1. Let's notice that it doesn't matter if the exam chosen next is \"easier\" or not because adding $S-p$ is equivalent to subtracting $p-S$. From now on we will only add $S-p$ when choosing a new exam\n",
    "\n",
    "2. Let's see some examples of the process to get better understanding of what is happening.\n",
    "    - initialize $S$ and $p=[p_1,p_2]$ and $p_1 \\leq p_2$\n",
    "        - randomly select $p_2$ so now: $S^1=p_2$ and $p^1=[p_1+S-p_2]=S^{final}$\n",
    "        - randomly select $p_1$ so now: $S^1=p_1$ and $p^1=[p_2+S-p_1]=S^{final}$\n",
    "\n",
    "        so the two possible final grades are $p_2+S-p_1$ or $p_1+S-p_2$ but since we are looking for the maximum we will select $p_2+S-p_1$ ($p_1 \\leq p_2$)\n",
    "    - initialize $S$ and $p=[p_1,p_2,p_3]$ and $p_1 \\leq p_2 \\leq p_3$\n",
    "        - randomly select $p_3$ so now: $S^1=p_3$ and $p^1=[p_1+S-p_3, p_2+S-p_3]$\n",
    "            - randomly select $p_2+S-p_3$ so now: $S^2=p_2+S-p_3$ and $p^2=[p_1+S-p_3+S^1-(p_2+S-p_3)]=[p_1+S-p_3+p_3-(p_2+S-p_3)]=[p_1+p_3-p_2]$\n",
    "            - randomly select $p_1+S-p_3$ so now: $S^2=p_1+S-p_3$ and $p^2=[p_2+S-p_3+S^1-(p_1+S-p_3)]=[p_2+S-p_3+p_3-(p_1+S-p_3)]=[p_2+p_3-p_1]$\n",
    "\n",
    "        choosing different paths will bring the same kind of result, where two grades are summed and one is subtracted and S doesn't come up in the final grade. So the maximum grade will of course be $p_2+p_3-p_1$\n",
    "3. We noticed there is a difference between the results where the number of grades is even or odd. Let's propose a solution and let's try to demonstrate it.\n",
    "$$S^{final, max} = \\sum^n_{j=\\frac{n-1}{2}+1}{p_j} - \\sum^{\\frac{n-1}{2}}_{j=1}{p_j} \\quad {when\\ n\\ is\\ odd}$$\n",
    "$$S^{final, max} = S + \\sum^n_{j=\\frac{n}{2}+1}{p_j} - \\sum^{\\frac{n}{2}}_{j=1}{p_j} \\quad {when\\ n\\ is\\ even}$$\n",
    "\n",
    "Let's show that if $n$ is odd then the final result does not depend from $S$. the algorithm has to make $n−1$ choices for the exams (the last is forced). Every 2 rounds of choices $S$ is added and subtracted (see previous example). $n-1$ is even so there is no $S$ in the final grade. Consequently, when $n$ is even, $S$ is added one last time.\n",
    "\n",
    "Now we prove our optimized algorithm using strong induction on the length $n$ of the vector of exams.\n",
    "- $n=1$ obvious\n",
    "- $n=2,3$ shown above\n",
    "\n",
    "By inductive hypothesis we have that the algorithm is right $\\forall k<n$ and the same parity (we are actually doing two different problems).\n",
    "\n",
    "Let's show when n is odd. In this case we can assume $S=0$ and $[p_1,p_2, ... , p_n]$ is in ascending order, We randomly choose $p_i$ as our first exam and adjust our list as $[p_1-p_i, ... , p_n-p_i]$ that now has $n-1$ grades ($n-1$ is even so we can't use the inductive hypotesis). Now we randomly choose $p_j-p_i$ as the next exam and adjust our list as $[p_1-p_j+p_i, ... , p_n-p_j+p_i]$ (calculations were shown before). Now we can use the hypotesis on the new list and say the maximum grade we can achieve is:\n",
    "$$S^{final, max} = \\sum^n_{k=\\frac{n-1}{2}+1, k\\not=i,j}{p_k-p_j+p_i} - \\sum^{\\frac{n-1}{2}}_{k=1, k\\not=i,j}{p_k-p_j+p_i} $$ \n",
    "In order to make the values of the grades in the list the greatest possible (so that the final grade is as highest as possible), we should consider $i=n$ and $j=1$. In this case the grade is the greatest possible and, rewriting the last formula, is in the form:\n",
    "$$S^{final, max} = \\sum^n_{j=\\frac{n-1}{2}+1}{p_j} - \\sum^{\\frac{n-1}{2}}_{j=1}{p_j}$$\n",
    "\n",
    "which concludes our proof. The reasoning is similar for even values of $n$.\n",
    "\n",
    "The code is simple:"
   ]
  },
  {
   "cell_type": "code",
   "execution_count": 4,
   "metadata": {},
   "outputs": [],
   "source": [
    "def solution2(S, grades):\n",
    "  n = len(grades)\n",
    "\n",
    "  # Sort the grades in ascending order\n",
    "  grades = sorted(grades)\n",
    "\n",
    "  # Lower half of the grades summed:\n",
    "  lower = sum([grades[i] for i in range(0, n // 2)])\n",
    "\n",
    "  # Upper half of the grades summed:\n",
    "  upper = sum([grades[i] for i in range(n // 2, n)]) \n",
    "\n",
    "  # following what we said earlier\n",
    "  if n % 2 == 0:  \n",
    "    return(S + upper - lower)\n",
    "    \n",
    "  if n % 2 == 1:\n",
    "    return(upper - lower)"
   ]
  },
  {
   "cell_type": "markdown",
   "metadata": {},
   "source": [
    "Let's analyze the time complexity of this code:\n",
    "\n",
    "- Sorting the grades: The sorting operation has a time complexity of O(n log n), where n is the number of grades.\n",
    "\n",
    "- Summing the lower half of grades: The sum operation involves iterating over the first half of the sorted list, which takes O(n/2) time in the worst case.\n",
    "\n",
    "- Summing the upper half of grades: Similarly, the sum operation for the second half of the sorted list takes O(n/2) time in the worst case.\n",
    "\n",
    "Therefore, the overall time complexity of the code is dominated by the sorting operation, and it is O(n log n)."
   ]
  },
  {
   "cell_type": "markdown",
   "metadata": {},
   "source": [
    "\n",
    "**d) Ask chatGPT for a third (optimized) implementation and analyze again its time complexity. Be careful (and crafty) in defining the prompt, and challenge the machine in this coding question!**"
   ]
  },
  {
   "cell_type": "markdown",
   "metadata": {},
   "source": [
    "This is the code that ChatGPT provided us"
   ]
  },
  {
   "cell_type": "code",
   "execution_count": 8,
   "metadata": {},
   "outputs": [],
   "source": [
    "def solution_chatgpt(grades, current_score, memo):\n",
    "    # Base case: If no exams left, return the current score\n",
    "    if not grades:\n",
    "        return current_score\n",
    "\n",
    "    # Sort and convert to tuple for consistent memoization key\n",
    "    grades_key = tuple(sorted(grades))\n",
    "\n",
    "    # Check if this state has been computed before\n",
    "    if (grades_key, current_score) in memo:\n",
    "        return memo[(grades_key, current_score)]\n",
    "\n",
    "    max_score = 0\n",
    "    for i, grade in enumerate(grades):\n",
    "        new_score = grade\n",
    "        updated_grades = grades[:i] + grades[i+1:]\n",
    "\n",
    "        if grade < current_score:\n",
    "            updated_grades = [g + current_score - grade for g in updated_grades]\n",
    "        else:\n",
    "            updated_grades = [g - grade + current_score for g in updated_grades]\n",
    "\n",
    "        max_score = max(max_score, solution_chatgpt(updated_grades, new_score, memo))\n",
    "\n",
    "    memo[(grades_key, current_score)] = max_score\n",
    "    return max_score"
   ]
  },
  {
   "cell_type": "markdown",
   "metadata": {},
   "source": [
    "The time complexity of this recursive solution depends on the number of recursive calls and the work done within each call.\n",
    "\n",
    "- Recursive Calls: In the worst case, the function explores all possible combinations of grades, making a recursive call for each combination. The number of recursive calls is exponential in the number of grades, but memoization helps avoid redundant calculations.\n",
    "\n",
    "- Work within Each Call: For each recursive call, the function performs a constant amount of work, including sorting the grades, creating a tuple for memoization, and iterating through the grades. The dominant factor is the sorting operation, which has a time complexity of O(n log n), where n is the number of grades.\n",
    "\n",
    "Considering both factors, the overall time complexity is O(n!), where n is the number of grades. Memoization significantly reduces the actual computation time by avoiding redundant calculations.\n",
    "So it is somewhat better than solution1 but not solution2 which seems to be optimal."
   ]
  },
  {
   "cell_type": "markdown",
   "metadata": {},
   "source": [
    "**Solutions used on the examples in the homework** "
   ]
  },
  {
   "cell_type": "code",
   "execution_count": 9,
   "metadata": {},
   "outputs": [
    {
     "name": "stdout",
     "output_type": "stream",
     "text": [
      "First Solution:  11\n",
      "Second Solution:  11\n",
      "ChatGPT Solution:  11\n"
     ]
    }
   ],
   "source": [
    "S=8\n",
    "grades=[5,7,1]\n",
    "\n",
    "print('First Solution: ',solution1(S, grades))\n",
    "print('Second Solution: ',solution2(S, grades))\n",
    "print('ChatGPT Solution: ',solution_chatgpt(grades,S,{}))"
   ]
  },
  {
   "cell_type": "code",
   "execution_count": 10,
   "metadata": {},
   "outputs": [
    {
     "name": "stdout",
     "output_type": "stream",
     "text": [
      "First Solution:  44\n",
      "Second Solution:  44\n",
      "ChatGPT Solution:  44\n"
     ]
    }
   ],
   "source": [
    "S=25\n",
    "grades=[18, 24, 21, 32, 27]\n",
    "\n",
    "print('First Solution: ',solution1(S, grades))\n",
    "print('Second Solution: ',solution2(S, grades))\n",
    "print('ChatGPT Solution: ',solution_chatgpt(grades,S,{}))"
   ]
  },
  {
   "cell_type": "code",
   "execution_count": 13,
   "metadata": {},
   "outputs": [
    {
     "name": "stdout",
     "output_type": "stream",
     "text": [
      "Second Solution:  205\n",
      "ChatGPT Solution:  205\n"
     ]
    }
   ],
   "source": [
    "S=30\n",
    "grades=[13, 27, 41, 59, 28, 33, 39, 19, 52, 48, 55, 79]\n",
    "\n",
    "\n",
    "print('Second Solution: ',solution2(S, grades))\n",
    "print('ChatGPT Solution: ',solution_chatgpt(grades,S,{}))"
   ]
  },
  {
   "cell_type": "markdown",
   "metadata": {},
   "source": [
    "We are not showing the results for the first solution because it will take too much time"
   ]
  }
 ],
 "metadata": {
  "kernelspec": {
   "display_name": "Python 3",
   "language": "python",
   "name": "python3"
  },
  "language_info": {
   "codemirror_mode": {
    "name": "ipython",
    "version": 3
   },
   "file_extension": ".py",
   "mimetype": "text/x-python",
   "name": "python",
   "nbconvert_exporter": "python",
   "pygments_lexer": "ipython3",
   "version": "3.11.7"
  }
 },
 "nbformat": 4,
 "nbformat_minor": 2
}
